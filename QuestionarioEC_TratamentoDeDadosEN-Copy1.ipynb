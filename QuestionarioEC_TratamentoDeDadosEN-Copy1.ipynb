{
 "cells": [
  {
   "cell_type": "markdown",
   "id": "5aaae55b",
   "metadata": {},
   "source": [
    "# Projeto - Estrategias EC"
   ]
  },
  {
   "cell_type": "markdown",
   "id": "a8580954",
   "metadata": {},
   "source": [
    "# Tratamento dos dados"
   ]
  },
  {
   "cell_type": "code",
   "execution_count": 2,
   "id": "11e32c46",
   "metadata": {},
   "outputs": [],
   "source": [
    "# Pacotes\n",
    "import pandas as pd\n",
    "import numpy as np"
   ]
  },
  {
   "cell_type": "code",
   "execution_count": 3,
   "id": "27d48a9e",
   "metadata": {},
   "outputs": [],
   "source": [
    "arquivo1 =  (\"C:/Users/danye/Desktop/UFPE/IC/Proposta_2023_2024/Questionario/Consolidada - final -  11-09.xlsx\")"
   ]
  },
  {
   "cell_type": "code",
   "execution_count": 5,
   "id": "a824fb55",
   "metadata": {},
   "outputs": [],
   "source": [
    "arquivo2 =  ('C:/Users/danye/Desktop/UFPE/IC/Proposta_2023_2024/Questionario/QuestoesCargosTratados.csv')"
   ]
  },
  {
   "cell_type": "code",
   "execution_count": 6,
   "id": "24de7f61",
   "metadata": {},
   "outputs": [],
   "source": [
    "base = pd.read_excel(arquivo1)\n",
    "base2 = pd.read_csv(arquivo2)"
   ]
  },
  {
   "cell_type": "code",
   "execution_count": 8,
   "id": "8bc787a9",
   "metadata": {},
   "outputs": [
    {
     "data": {
      "text/plain": [
       "(352, 240)"
      ]
     },
     "execution_count": 8,
     "metadata": {},
     "output_type": "execute_result"
    }
   ],
   "source": [
    "base2.shape"
   ]
  },
  {
   "cell_type": "code",
   "execution_count": 10,
   "id": "93ee9994",
   "metadata": {},
   "outputs": [
    {
     "data": {
      "text/html": [
       "<div>\n",
       "<style scoped>\n",
       "    .dataframe tbody tr th:only-of-type {\n",
       "        vertical-align: middle;\n",
       "    }\n",
       "\n",
       "    .dataframe tbody tr th {\n",
       "        vertical-align: top;\n",
       "    }\n",
       "\n",
       "    .dataframe thead th {\n",
       "        text-align: right;\n",
       "    }\n",
       "</style>\n",
       "<table border=\"1\" class=\"dataframe\">\n",
       "  <thead>\n",
       "    <tr style=\"text-align: right;\">\n",
       "      <th></th>\n",
       "      <th>1. INTER-FIRM COLLABORATION: Has the purpose to arrange collaboration and business relations inter-firm, it involves sharing of resources and information.. Rules are needed because interdependencies are increased and become more specific as compared to collaboration in linear systems. This strategy: [Complies with regional and national regulations]</th>\n",
       "      <th>1. INTER-FIRM COLLABORATION: Has the purpose to arrange collaboration and business relations inter-firm, it involves sharing of resources and information.. Rules are needed because interdependencies are increased and become more specific as compared to collaboration in linear systems. This strategy: [Helps to increase public acceptance of the circular economy]</th>\n",
       "      <th>1. INTER-FIRM COLLABORATION: Has the purpose to arrange collaboration and business relations inter-firm, it involves sharing of resources and information.. Rules are needed because interdependencies are increased and become more specific as compared to collaboration in linear systems. This strategy: [Enhances the absorption of the regional workforce]</th>\n",
       "      <th>1. INTER-FIRM COLLABORATION: Has the purpose to arrange collaboration and business relations inter-firm, it involves sharing of resources and information.. Rules are needed because interdependencies are increased and become more specific as compared to collaboration in linear systems. This strategy: [Prevents incorrect waste disposal]</th>\n",
       "      <th>1. INTER-FIRM COLLABORATION: Has the purpose to arrange collaboration and business relations inter-firm, it involves sharing of resources and information.. Rules are needed because interdependencies are increased and become more specific as compared to collaboration in linear systems. This strategy: [Contributes to the preservation of the environment]</th>\n",
       "      <th>1. INTER-FIRM COLLABORATION: Has the purpose to arrange collaboration and business relations inter-firm, it involves sharing of resources and information.. Rules are needed because interdependencies are increased and become more specific as compared to collaboration in linear systems. This strategy: [Has a cost for implementation]</th>\n",
       "      <th>1. INTER-FIRM COLLABORATION: Has the purpose to arrange collaboration and business relations inter-firm, it involves sharing of resources and information.. Rules are needed because interdependencies are increased and become more specific as compared to collaboration in linear systems. This strategy: [Has a cost to maintain  in operation]</th>\n",
       "      <th>1. INTER-FIRM COLLABORATION: Has the purpose to arrange collaboration and business relations inter-firm, it involves sharing of resources and information.. Rules are needed because interdependencies are increased and become more specific as compared to collaboration in linear systems. This strategy: [Has a difficulty to implement, due to the knowledge, technologies and solutions required]</th>\n",
       "      <th>1. INTER-FIRM COLLABORATION: Has the purpose to arrange collaboration and business relations inter-firm, it involves sharing of resources and information.. Rules are needed because interdependencies are increased and become more specific as compared to collaboration in linear systems. This strategy: [Has obstacles/barriers, based on the particular regional characteristics ]</th>\n",
       "      <th>1. INTER-FIRM COLLABORATION: Has the purpose to arrange collaboration and business relations inter-firm, it involves sharing of resources and information.. Rules are needed because interdependencies are increased and become more specific as compared to collaboration in linear systems. This strategy: [Has the potential to remain constant, considering mainly maintenance requirements related to  specialized personnel and Yesplicity of operations]</th>\n",
       "      <th>...</th>\n",
       "      <th>24. CONSTRUCTION &amp; DEMOLITION (C&amp;D) WASTE MANAGEMENT: Proper management of C&amp;D waste and recycled materials – including the correct handling of hazardous waste - can have major benefits in terms of sustainability and the quality of life. This strategy: [Complies with regional and national regulations]</th>\n",
       "      <th>24. CONSTRUCTION &amp; DEMOLITION (C&amp;D) WASTE MANAGEMENT: Proper management of C&amp;D waste and recycled materials – including the correct handling of hazardous waste - can have major benefits in terms of sustainability and the quality of life. This strategy: [Helps to increase public acceptance of the circular economy]</th>\n",
       "      <th>24. CONSTRUCTION &amp; DEMOLITION (C&amp;D) WASTE MANAGEMENT: Proper management of C&amp;D waste and recycled materials – including the correct handling of hazardous waste - can have major benefits in terms of sustainability and the quality of life. This strategy: [Enhances the absorption of the regional workforce]</th>\n",
       "      <th>24. CONSTRUCTION &amp; DEMOLITION (C&amp;D) WASTE MANAGEMENT: Proper management of C&amp;D waste and recycled materials – including the correct handling of hazardous waste - can have major benefits in terms of sustainability and the quality of life. This strategy: [Prevents incorrect waste disposal]</th>\n",
       "      <th>24. CONSTRUCTION &amp; DEMOLITION (C&amp;D) WASTE MANAGEMENT: Proper management of C&amp;D waste and recycled materials – including the correct handling of hazardous waste - can have major benefits in terms of sustainability and the quality of life. This strategy: [Contributes to the preservation of the environment]</th>\n",
       "      <th>24. CONSTRUCTION &amp; DEMOLITION (C&amp;D) WASTE MANAGEMENT: Proper management of C&amp;D waste and recycled materials – including the correct handling of hazardous waste - can have major benefits in terms of sustainability and the quality of life. This strategy: [Has a cost for implementation]</th>\n",
       "      <th>24. CONSTRUCTION &amp; DEMOLITION (C&amp;D) WASTE MANAGEMENT: Proper management of C&amp;D waste and recycled materials – including the correct handling of hazardous waste - can have major benefits in terms of sustainability and the quality of life. This strategy: [Has a cost to maintain  in operation]</th>\n",
       "      <th>24. CONSTRUCTION &amp; DEMOLITION (C&amp;D) WASTE MANAGEMENT: Proper management of C&amp;D waste and recycled materials – including the correct handling of hazardous waste - can have major benefits in terms of sustainability and the quality of life. This strategy: [Has a difficulty to implement, due to the knowledge, technologies and solutions required]</th>\n",
       "      <th>24. CONSTRUCTION &amp; DEMOLITION (C&amp;D) WASTE MANAGEMENT: Proper management of C&amp;D waste and recycled materials – including the correct handling of hazardous waste - can have major benefits in terms of sustainability and the quality of life. This strategy: [Has obstacles/barriers, based on the particular regional characteristics ]</th>\n",
       "      <th>24. CONSTRUCTION &amp; DEMOLITION (C&amp;D) WASTE MANAGEMENT: Proper management of C&amp;D waste and recycled materials – including the correct handling of hazardous waste - can have major benefits in terms of sustainability and the quality of life. This strategy: [Has the potential to remain constant, considering mainly maintenance requirements for specialized personnel and Yesplicity of operations]</th>\n",
       "    </tr>\n",
       "  </thead>\n",
       "  <tbody>\n",
       "    <tr>\n",
       "      <th>0</th>\n",
       "      <td>High</td>\n",
       "      <td>High</td>\n",
       "      <td>Neutral</td>\n",
       "      <td>High</td>\n",
       "      <td>High</td>\n",
       "      <td>High</td>\n",
       "      <td>High</td>\n",
       "      <td>High</td>\n",
       "      <td>High</td>\n",
       "      <td>Neutral</td>\n",
       "      <td>...</td>\n",
       "      <td>High</td>\n",
       "      <td>High</td>\n",
       "      <td>High</td>\n",
       "      <td>High</td>\n",
       "      <td>High</td>\n",
       "      <td>High</td>\n",
       "      <td>High</td>\n",
       "      <td>High</td>\n",
       "      <td>High</td>\n",
       "      <td>Neutral</td>\n",
       "    </tr>\n",
       "    <tr>\n",
       "      <th>1</th>\n",
       "      <td>High</td>\n",
       "      <td>High</td>\n",
       "      <td>High</td>\n",
       "      <td>High</td>\n",
       "      <td>High</td>\n",
       "      <td>High</td>\n",
       "      <td>High</td>\n",
       "      <td>High</td>\n",
       "      <td>High</td>\n",
       "      <td>High</td>\n",
       "      <td>...</td>\n",
       "      <td>High</td>\n",
       "      <td>High</td>\n",
       "      <td>High</td>\n",
       "      <td>High</td>\n",
       "      <td>High</td>\n",
       "      <td>High</td>\n",
       "      <td>High</td>\n",
       "      <td>High</td>\n",
       "      <td>High</td>\n",
       "      <td>High</td>\n",
       "    </tr>\n",
       "    <tr>\n",
       "      <th>2</th>\n",
       "      <td>Neutral</td>\n",
       "      <td>Very high</td>\n",
       "      <td>Very high</td>\n",
       "      <td>High</td>\n",
       "      <td>High</td>\n",
       "      <td>Low</td>\n",
       "      <td>Low</td>\n",
       "      <td>Neutral</td>\n",
       "      <td>Neutral</td>\n",
       "      <td>High</td>\n",
       "      <td>...</td>\n",
       "      <td>High</td>\n",
       "      <td>Very high</td>\n",
       "      <td>Very high</td>\n",
       "      <td>Very high</td>\n",
       "      <td>Very high</td>\n",
       "      <td>High</td>\n",
       "      <td>Low</td>\n",
       "      <td>Very high</td>\n",
       "      <td>High</td>\n",
       "      <td>High</td>\n",
       "    </tr>\n",
       "    <tr>\n",
       "      <th>3</th>\n",
       "      <td>High</td>\n",
       "      <td>Low</td>\n",
       "      <td>High</td>\n",
       "      <td>High</td>\n",
       "      <td>High</td>\n",
       "      <td>High</td>\n",
       "      <td>High</td>\n",
       "      <td>Very high</td>\n",
       "      <td>Very high</td>\n",
       "      <td>High</td>\n",
       "      <td>...</td>\n",
       "      <td>Low</td>\n",
       "      <td>Low</td>\n",
       "      <td>Low</td>\n",
       "      <td>Low</td>\n",
       "      <td>Low</td>\n",
       "      <td>High</td>\n",
       "      <td>High</td>\n",
       "      <td>High</td>\n",
       "      <td>High</td>\n",
       "      <td>High</td>\n",
       "    </tr>\n",
       "    <tr>\n",
       "      <th>4</th>\n",
       "      <td>Neutral</td>\n",
       "      <td>High</td>\n",
       "      <td>High</td>\n",
       "      <td>High</td>\n",
       "      <td>High</td>\n",
       "      <td>High</td>\n",
       "      <td>High</td>\n",
       "      <td>Very high</td>\n",
       "      <td>Very high</td>\n",
       "      <td>Neutral</td>\n",
       "      <td>...</td>\n",
       "      <td>High</td>\n",
       "      <td>Neutral</td>\n",
       "      <td>Neutral</td>\n",
       "      <td>Very high</td>\n",
       "      <td>Very high</td>\n",
       "      <td>Very high</td>\n",
       "      <td>Very high</td>\n",
       "      <td>High</td>\n",
       "      <td>Very high</td>\n",
       "      <td>Very high</td>\n",
       "    </tr>\n",
       "  </tbody>\n",
       "</table>\n",
       "<p>5 rows × 240 columns</p>\n",
       "</div>"
      ],
      "text/plain": [
       "  1. INTER-FIRM COLLABORATION: Has the purpose to arrange collaboration and business relations inter-firm, it involves sharing of resources and information.. Rules are needed because interdependencies are increased and become more specific as compared to collaboration in linear systems. This strategy: [Complies with regional and national regulations]  \\\n",
       "0                                               High                                                                                                                                                                                                                                                                                                               \n",
       "1                                               High                                                                                                                                                                                                                                                                                                               \n",
       "2                                            Neutral                                                                                                                                                                                                                                                                                                               \n",
       "3                                               High                                                                                                                                                                                                                                                                                                               \n",
       "4                                            Neutral                                                                                                                                                                                                                                                                                                               \n",
       "\n",
       "  1. INTER-FIRM COLLABORATION: Has the purpose to arrange collaboration and business relations inter-firm, it involves sharing of resources and information.. Rules are needed because interdependencies are increased and become more specific as compared to collaboration in linear systems. This strategy: [Helps to increase public acceptance of the circular economy]  \\\n",
       "0                                               High                                                                                                                                                                                                                                                                                                                           \n",
       "1                                               High                                                                                                                                                                                                                                                                                                                           \n",
       "2                                          Very high                                                                                                                                                                                                                                                                                                                           \n",
       "3                                                Low                                                                                                                                                                                                                                                                                                                           \n",
       "4                                               High                                                                                                                                                                                                                                                                                                                           \n",
       "\n",
       "  1. INTER-FIRM COLLABORATION: Has the purpose to arrange collaboration and business relations inter-firm, it involves sharing of resources and information.. Rules are needed because interdependencies are increased and become more specific as compared to collaboration in linear systems. This strategy: [Enhances the absorption of the regional workforce]  \\\n",
       "0                                            Neutral                                                                                                                                                                                                                                                                                                                 \n",
       "1                                               High                                                                                                                                                                                                                                                                                                                 \n",
       "2                                          Very high                                                                                                                                                                                                                                                                                                                 \n",
       "3                                               High                                                                                                                                                                                                                                                                                                                 \n",
       "4                                               High                                                                                                                                                                                                                                                                                                                 \n",
       "\n",
       "  1. INTER-FIRM COLLABORATION: Has the purpose to arrange collaboration and business relations inter-firm, it involves sharing of resources and information.. Rules are needed because interdependencies are increased and become more specific as compared to collaboration in linear systems. This strategy: [Prevents incorrect waste disposal]  \\\n",
       "0                                               High                                                                                                                                                                                                                                                                                                 \n",
       "1                                               High                                                                                                                                                                                                                                                                                                 \n",
       "2                                               High                                                                                                                                                                                                                                                                                                 \n",
       "3                                               High                                                                                                                                                                                                                                                                                                 \n",
       "4                                               High                                                                                                                                                                                                                                                                                                 \n",
       "\n",
       "  1. INTER-FIRM COLLABORATION: Has the purpose to arrange collaboration and business relations inter-firm, it involves sharing of resources and information.. Rules are needed because interdependencies are increased and become more specific as compared to collaboration in linear systems. This strategy: [Contributes to the preservation of the environment]  \\\n",
       "0                                               High                                                                                                                                                                                                                                                                                                                  \n",
       "1                                               High                                                                                                                                                                                                                                                                                                                  \n",
       "2                                               High                                                                                                                                                                                                                                                                                                                  \n",
       "3                                               High                                                                                                                                                                                                                                                                                                                  \n",
       "4                                               High                                                                                                                                                                                                                                                                                                                  \n",
       "\n",
       "  1. INTER-FIRM COLLABORATION: Has the purpose to arrange collaboration and business relations inter-firm, it involves sharing of resources and information.. Rules are needed because interdependencies are increased and become more specific as compared to collaboration in linear systems. This strategy: [Has a cost for implementation]  \\\n",
       "0                                               High                                                                                                                                                                                                                                                                                             \n",
       "1                                               High                                                                                                                                                                                                                                                                                             \n",
       "2                                                Low                                                                                                                                                                                                                                                                                             \n",
       "3                                               High                                                                                                                                                                                                                                                                                             \n",
       "4                                               High                                                                                                                                                                                                                                                                                             \n",
       "\n",
       "  1. INTER-FIRM COLLABORATION: Has the purpose to arrange collaboration and business relations inter-firm, it involves sharing of resources and information.. Rules are needed because interdependencies are increased and become more specific as compared to collaboration in linear systems. This strategy: [Has a cost to maintain  in operation]  \\\n",
       "0                                               High                                                                                                                                                                                                                                                                                                    \n",
       "1                                               High                                                                                                                                                                                                                                                                                                    \n",
       "2                                                Low                                                                                                                                                                                                                                                                                                    \n",
       "3                                               High                                                                                                                                                                                                                                                                                                    \n",
       "4                                               High                                                                                                                                                                                                                                                                                                    \n",
       "\n",
       "  1. INTER-FIRM COLLABORATION: Has the purpose to arrange collaboration and business relations inter-firm, it involves sharing of resources and information.. Rules are needed because interdependencies are increased and become more specific as compared to collaboration in linear systems. This strategy: [Has a difficulty to implement, due to the knowledge, technologies and solutions required]  \\\n",
       "0                                               High                                                                                                                                                                                                                                                                                                                                                        \n",
       "1                                               High                                                                                                                                                                                                                                                                                                                                                        \n",
       "2                                            Neutral                                                                                                                                                                                                                                                                                                                                                        \n",
       "3                                          Very high                                                                                                                                                                                                                                                                                                                                                        \n",
       "4                                          Very high                                                                                                                                                                                                                                                                                                                                                        \n",
       "\n",
       "  1. INTER-FIRM COLLABORATION: Has the purpose to arrange collaboration and business relations inter-firm, it involves sharing of resources and information.. Rules are needed because interdependencies are increased and become more specific as compared to collaboration in linear systems. This strategy: [Has obstacles/barriers, based on the particular regional characteristics ]  \\\n",
       "0                                               High                                                                                                                                                                                                                                                                                                                                         \n",
       "1                                               High                                                                                                                                                                                                                                                                                                                                         \n",
       "2                                            Neutral                                                                                                                                                                                                                                                                                                                                         \n",
       "3                                          Very high                                                                                                                                                                                                                                                                                                                                         \n",
       "4                                          Very high                                                                                                                                                                                                                                                                                                                                         \n",
       "\n",
       "  1. INTER-FIRM COLLABORATION: Has the purpose to arrange collaboration and business relations inter-firm, it involves sharing of resources and information.. Rules are needed because interdependencies are increased and become more specific as compared to collaboration in linear systems. This strategy: [Has the potential to remain constant, considering mainly maintenance requirements related to  specialized personnel and Yesplicity of operations]  \\\n",
       "0                                            Neutral                                                                                                                                                                                                                                                                                                                                                                                                                \n",
       "1                                               High                                                                                                                                                                                                                                                                                                                                                                                                                \n",
       "2                                               High                                                                                                                                                                                                                                                                                                                                                                                                                \n",
       "3                                               High                                                                                                                                                                                                                                                                                                                                                                                                                \n",
       "4                                            Neutral                                                                                                                                                                                                                                                                                                                                                                                                                \n",
       "\n",
       "   ...  \\\n",
       "0  ...   \n",
       "1  ...   \n",
       "2  ...   \n",
       "3  ...   \n",
       "4  ...   \n",
       "\n",
       "  24. CONSTRUCTION & DEMOLITION (C&D) WASTE MANAGEMENT: Proper management of C&D waste and recycled materials – including the correct handling of hazardous waste - can have major benefits in terms of sustainability and the quality of life. This strategy: [Complies with regional and national regulations]  \\\n",
       "0                                               High                                                                                                                                                                                                                                                               \n",
       "1                                               High                                                                                                                                                                                                                                                               \n",
       "2                                               High                                                                                                                                                                                                                                                               \n",
       "3                                                Low                                                                                                                                                                                                                                                               \n",
       "4                                               High                                                                                                                                                                                                                                                               \n",
       "\n",
       "  24. CONSTRUCTION & DEMOLITION (C&D) WASTE MANAGEMENT: Proper management of C&D waste and recycled materials – including the correct handling of hazardous waste - can have major benefits in terms of sustainability and the quality of life. This strategy: [Helps to increase public acceptance of the circular economy]  \\\n",
       "0                                               High                                                                                                                                                                                                                                                                           \n",
       "1                                               High                                                                                                                                                                                                                                                                           \n",
       "2                                          Very high                                                                                                                                                                                                                                                                           \n",
       "3                                                Low                                                                                                                                                                                                                                                                           \n",
       "4                                            Neutral                                                                                                                                                                                                                                                                           \n",
       "\n",
       "  24. CONSTRUCTION & DEMOLITION (C&D) WASTE MANAGEMENT: Proper management of C&D waste and recycled materials – including the correct handling of hazardous waste - can have major benefits in terms of sustainability and the quality of life. This strategy: [Enhances the absorption of the regional workforce]  \\\n",
       "0                                               High                                                                                                                                                                                                                                                                 \n",
       "1                                               High                                                                                                                                                                                                                                                                 \n",
       "2                                          Very high                                                                                                                                                                                                                                                                 \n",
       "3                                                Low                                                                                                                                                                                                                                                                 \n",
       "4                                            Neutral                                                                                                                                                                                                                                                                 \n",
       "\n",
       "  24. CONSTRUCTION & DEMOLITION (C&D) WASTE MANAGEMENT: Proper management of C&D waste and recycled materials – including the correct handling of hazardous waste - can have major benefits in terms of sustainability and the quality of life. This strategy: [Prevents incorrect waste disposal]  \\\n",
       "0                                               High                                                                                                                                                                                                                                                 \n",
       "1                                               High                                                                                                                                                                                                                                                 \n",
       "2                                          Very high                                                                                                                                                                                                                                                 \n",
       "3                                                Low                                                                                                                                                                                                                                                 \n",
       "4                                          Very high                                                                                                                                                                                                                                                 \n",
       "\n",
       "  24. CONSTRUCTION & DEMOLITION (C&D) WASTE MANAGEMENT: Proper management of C&D waste and recycled materials – including the correct handling of hazardous waste - can have major benefits in terms of sustainability and the quality of life. This strategy: [Contributes to the preservation of the environment]  \\\n",
       "0                                               High                                                                                                                                                                                                                                                                  \n",
       "1                                               High                                                                                                                                                                                                                                                                  \n",
       "2                                          Very high                                                                                                                                                                                                                                                                  \n",
       "3                                                Low                                                                                                                                                                                                                                                                  \n",
       "4                                          Very high                                                                                                                                                                                                                                                                  \n",
       "\n",
       "  24. CONSTRUCTION & DEMOLITION (C&D) WASTE MANAGEMENT: Proper management of C&D waste and recycled materials – including the correct handling of hazardous waste - can have major benefits in terms of sustainability and the quality of life. This strategy: [Has a cost for implementation]  \\\n",
       "0                                               High                                                                                                                                                                                                                                             \n",
       "1                                               High                                                                                                                                                                                                                                             \n",
       "2                                               High                                                                                                                                                                                                                                             \n",
       "3                                               High                                                                                                                                                                                                                                             \n",
       "4                                          Very high                                                                                                                                                                                                                                             \n",
       "\n",
       "  24. CONSTRUCTION & DEMOLITION (C&D) WASTE MANAGEMENT: Proper management of C&D waste and recycled materials – including the correct handling of hazardous waste - can have major benefits in terms of sustainability and the quality of life. This strategy: [Has a cost to maintain  in operation]  \\\n",
       "0                                               High                                                                                                                                                                                                                                                    \n",
       "1                                               High                                                                                                                                                                                                                                                    \n",
       "2                                                Low                                                                                                                                                                                                                                                    \n",
       "3                                               High                                                                                                                                                                                                                                                    \n",
       "4                                          Very high                                                                                                                                                                                                                                                    \n",
       "\n",
       "  24. CONSTRUCTION & DEMOLITION (C&D) WASTE MANAGEMENT: Proper management of C&D waste and recycled materials – including the correct handling of hazardous waste - can have major benefits in terms of sustainability and the quality of life. This strategy: [Has a difficulty to implement, due to the knowledge, technologies and solutions required]  \\\n",
       "0                                               High                                                                                                                                                                                                                                                                                                        \n",
       "1                                               High                                                                                                                                                                                                                                                                                                        \n",
       "2                                          Very high                                                                                                                                                                                                                                                                                                        \n",
       "3                                               High                                                                                                                                                                                                                                                                                                        \n",
       "4                                               High                                                                                                                                                                                                                                                                                                        \n",
       "\n",
       "  24. CONSTRUCTION & DEMOLITION (C&D) WASTE MANAGEMENT: Proper management of C&D waste and recycled materials – including the correct handling of hazardous waste - can have major benefits in terms of sustainability and the quality of life. This strategy: [Has obstacles/barriers, based on the particular regional characteristics ]  \\\n",
       "0                                               High                                                                                                                                                                                                                                                                                         \n",
       "1                                               High                                                                                                                                                                                                                                                                                         \n",
       "2                                               High                                                                                                                                                                                                                                                                                         \n",
       "3                                               High                                                                                                                                                                                                                                                                                         \n",
       "4                                          Very high                                                                                                                                                                                                                                                                                         \n",
       "\n",
       "  24. CONSTRUCTION & DEMOLITION (C&D) WASTE MANAGEMENT: Proper management of C&D waste and recycled materials – including the correct handling of hazardous waste - can have major benefits in terms of sustainability and the quality of life. This strategy: [Has the potential to remain constant, considering mainly maintenance requirements for specialized personnel and Yesplicity of operations]  \n",
       "0                                            Neutral                                                                                                                                                                                                                                                                                                                                                       \n",
       "1                                               High                                                                                                                                                                                                                                                                                                                                                       \n",
       "2                                               High                                                                                                                                                                                                                                                                                                                                                       \n",
       "3                                               High                                                                                                                                                                                                                                                                                                                                                       \n",
       "4                                          Very high                                                                                                                                                                                                                                                                                                                                                       \n",
       "\n",
       "[5 rows x 240 columns]"
      ]
     },
     "execution_count": 10,
     "metadata": {},
     "output_type": "execute_result"
    }
   ],
   "source": [
    "base2.head()"
   ]
  },
  {
   "cell_type": "code",
   "execution_count": 8,
   "id": "7620949e",
   "metadata": {},
   "outputs": [
    {
     "name": "stdout",
     "output_type": "stream",
     "text": [
      "(352, 247)\n"
     ]
    }
   ],
   "source": [
    "# dimensão do dataframe\n",
    "print(df.shape)"
   ]
  },
  {
   "cell_type": "code",
   "execution_count": 9,
   "id": "58cac015",
   "metadata": {},
   "outputs": [
    {
     "name": "stdout",
     "output_type": "stream",
     "text": [
      "  In which country, region and city are you located?  \\\n",
      "0                                                 UK   \n",
      "1                                             Brazil   \n",
      "2                              Indianapolis, IN, USA   \n",
      "3                                              India   \n",
      "4                                   Spain, Barcelona   \n",
      "\n",
      "  Do you act directly with the circular economy?  \\\n",
      "0                                            Yes   \n",
      "1                                            Yes   \n",
      "2                                            Yes   \n",
      "3                                             No   \n",
      "4                                            Yes   \n",
      "\n",
      "  How do you evaluate your level of knowledge related to the circular economy [Level of knowledge]  \\\n",
      "0                                          Very High                                                 \n",
      "1                                               High                                                 \n",
      "2                                          Very High                                                 \n",
      "3                                               High                                                 \n",
      "4                                          Very High                                                 \n",
      "\n",
      "  What is your segment of acting?  \\\n",
      "0   Academia/Research Institution   \n",
      "1               Academia/Research   \n",
      "2                     Consultancy   \n",
      "3   Academia/Research Institution   \n",
      "4                     Consultancy   \n",
      "\n",
      "      What sector does your organization operate in?  \\\n",
      "0  Quinary Sector (involves non-profit services s...   \n",
      "1                                    Quinary Sector    \n",
      "2  Quaternary Sector (involves intellectual activ...   \n",
      "3  Quaternary Sector (involves intellectual activ...   \n",
      "4  Secondary Sector (involves the transformation ...   \n",
      "\n",
      "  What is the size of your organization, in terms of staff?  \\\n",
      "0    Large-sized enterprise, more than 250 employees          \n",
      "1    Large-sized enterprise, more than 250 employees          \n",
      "2                            Individual entrepreneur          \n",
      "3  Small-sized enterprise, between 11 and 50 empl...          \n",
      "4       Micro-sized enterprise - until  10 employees          \n",
      "\n",
      "  How do you describe your position in your organization?  \n",
      "0                                  senior researcher       \n",
      "1                           Staff (operational jobs)       \n",
      "2  Executive or Strategic Manager  (Senior execut...       \n",
      "3                  Managers(Senior manager, manager)       \n",
      "4  Executive or Strategic Manager  (Senior execut...       \n"
     ]
    }
   ],
   "source": [
    "# armazenando colunas que correspondem à caracterítica dos respondentes\n",
    "df_respondentes = df.iloc[:, [240,241,242,243,244,245,246]]\n",
    "print(df_respondentes.head())"
   ]
  },
  {
   "cell_type": "code",
   "execution_count": 10,
   "id": "c038cffc",
   "metadata": {},
   "outputs": [
    {
     "data": {
      "text/html": [
       "<div>\n",
       "<style scoped>\n",
       "    .dataframe tbody tr th:only-of-type {\n",
       "        vertical-align: middle;\n",
       "    }\n",
       "\n",
       "    .dataframe tbody tr th {\n",
       "        vertical-align: top;\n",
       "    }\n",
       "\n",
       "    .dataframe thead th {\n",
       "        text-align: right;\n",
       "    }\n",
       "</style>\n",
       "<table border=\"1\" class=\"dataframe\">\n",
       "  <thead>\n",
       "    <tr style=\"text-align: right;\">\n",
       "      <th></th>\n",
       "      <th>1. INTER-FIRM COLLABORATION: Has the purpose to arrange collaboration and business relations inter-firm, it involves sharing of resources and information.. Rules are needed because interdependencies are increased and become more specific as compared to collaboration in linear systems. This strategy: [Complies with regional and national regulations]</th>\n",
       "      <th>1. INTER-FIRM COLLABORATION: Has the purpose to arrange collaboration and business relations inter-firm, it involves sharing of resources and information.. Rules are needed because interdependencies are increased and become more specific as compared to collaboration in linear systems. This strategy: [Helps to increase public acceptance of the circular economy]</th>\n",
       "      <th>1. INTER-FIRM COLLABORATION: Has the purpose to arrange collaboration and business relations inter-firm, it involves sharing of resources and information.. Rules are needed because interdependencies are increased and become more specific as compared to collaboration in linear systems. This strategy: [Enhances the absorption of the regional workforce]</th>\n",
       "      <th>1. INTER-FIRM COLLABORATION: Has the purpose to arrange collaboration and business relations inter-firm, it involves sharing of resources and information.. Rules are needed because interdependencies are increased and become more specific as compared to collaboration in linear systems. This strategy: [Prevents incorrect waste disposal]</th>\n",
       "      <th>1. INTER-FIRM COLLABORATION: Has the purpose to arrange collaboration and business relations inter-firm, it involves sharing of resources and information.. Rules are needed because interdependencies are increased and become more specific as compared to collaboration in linear systems. This strategy: [Contributes to the preservation of the environment]</th>\n",
       "      <th>1. INTER-FIRM COLLABORATION: Has the purpose to arrange collaboration and business relations inter-firm, it involves sharing of resources and information.. Rules are needed because interdependencies are increased and become more specific as compared to collaboration in linear systems. This strategy: [Has a cost for implementation]</th>\n",
       "      <th>1. INTER-FIRM COLLABORATION: Has the purpose to arrange collaboration and business relations inter-firm, it involves sharing of resources and information.. Rules are needed because interdependencies are increased and become more specific as compared to collaboration in linear systems. This strategy: [Has a cost to maintain  in operation]</th>\n",
       "      <th>1. INTER-FIRM COLLABORATION: Has the purpose to arrange collaboration and business relations inter-firm, it involves sharing of resources and information.. Rules are needed because interdependencies are increased and become more specific as compared to collaboration in linear systems. This strategy: [Has a difficulty to implement, due to the knowledge, technologies and solutions required]</th>\n",
       "      <th>1. INTER-FIRM COLLABORATION: Has the purpose to arrange collaboration and business relations inter-firm, it involves sharing of resources and information.. Rules are needed because interdependencies are increased and become more specific as compared to collaboration in linear systems. This strategy: [Has obstacles/barriers, based on the particular regional characteristics ]</th>\n",
       "      <th>1. INTER-FIRM COLLABORATION: Has the purpose to arrange collaboration and business relations inter-firm, it involves sharing of resources and information.. Rules are needed because interdependencies are increased and become more specific as compared to collaboration in linear systems. This strategy: [Has the potential to remain constant, considering mainly maintenance requirements related to  specialized personnel and Yesplicity of operations]</th>\n",
       "      <th>...</th>\n",
       "      <th>24. CONSTRUCTION &amp; DEMOLITION (C&amp;D) WASTE MANAGEMENT: Proper management of C&amp;D waste and recycled materials – including the correct handling of hazardous waste - can have major benefits in terms of sustainability and the quality of life. This strategy: [Complies with regional and national regulations]</th>\n",
       "      <th>24. CONSTRUCTION &amp; DEMOLITION (C&amp;D) WASTE MANAGEMENT: Proper management of C&amp;D waste and recycled materials – including the correct handling of hazardous waste - can have major benefits in terms of sustainability and the quality of life. This strategy: [Helps to increase public acceptance of the circular economy]</th>\n",
       "      <th>24. CONSTRUCTION &amp; DEMOLITION (C&amp;D) WASTE MANAGEMENT: Proper management of C&amp;D waste and recycled materials – including the correct handling of hazardous waste - can have major benefits in terms of sustainability and the quality of life. This strategy: [Enhances the absorption of the regional workforce]</th>\n",
       "      <th>24. CONSTRUCTION &amp; DEMOLITION (C&amp;D) WASTE MANAGEMENT: Proper management of C&amp;D waste and recycled materials – including the correct handling of hazardous waste - can have major benefits in terms of sustainability and the quality of life. This strategy: [Prevents incorrect waste disposal]</th>\n",
       "      <th>24. CONSTRUCTION &amp; DEMOLITION (C&amp;D) WASTE MANAGEMENT: Proper management of C&amp;D waste and recycled materials – including the correct handling of hazardous waste - can have major benefits in terms of sustainability and the quality of life. This strategy: [Contributes to the preservation of the environment]</th>\n",
       "      <th>24. CONSTRUCTION &amp; DEMOLITION (C&amp;D) WASTE MANAGEMENT: Proper management of C&amp;D waste and recycled materials – including the correct handling of hazardous waste - can have major benefits in terms of sustainability and the quality of life. This strategy: [Has a cost for implementation]</th>\n",
       "      <th>24. CONSTRUCTION &amp; DEMOLITION (C&amp;D) WASTE MANAGEMENT: Proper management of C&amp;D waste and recycled materials – including the correct handling of hazardous waste - can have major benefits in terms of sustainability and the quality of life. This strategy: [Has a cost to maintain  in operation]</th>\n",
       "      <th>24. CONSTRUCTION &amp; DEMOLITION (C&amp;D) WASTE MANAGEMENT: Proper management of C&amp;D waste and recycled materials – including the correct handling of hazardous waste - can have major benefits in terms of sustainability and the quality of life. This strategy: [Has a difficulty to implement, due to the knowledge, technologies and solutions required]</th>\n",
       "      <th>24. CONSTRUCTION &amp; DEMOLITION (C&amp;D) WASTE MANAGEMENT: Proper management of C&amp;D waste and recycled materials – including the correct handling of hazardous waste - can have major benefits in terms of sustainability and the quality of life. This strategy: [Has obstacles/barriers, based on the particular regional characteristics ]</th>\n",
       "      <th>24. CONSTRUCTION &amp; DEMOLITION (C&amp;D) WASTE MANAGEMENT: Proper management of C&amp;D waste and recycled materials – including the correct handling of hazardous waste - can have major benefits in terms of sustainability and the quality of life. This strategy: [Has the potential to remain constant, considering mainly maintenance requirements for specialized personnel and Yesplicity of operations]</th>\n",
       "    </tr>\n",
       "  </thead>\n",
       "  <tbody>\n",
       "    <tr>\n",
       "      <th>0</th>\n",
       "      <td>High</td>\n",
       "      <td>High</td>\n",
       "      <td>Neutral</td>\n",
       "      <td>High</td>\n",
       "      <td>High</td>\n",
       "      <td>High</td>\n",
       "      <td>High</td>\n",
       "      <td>High</td>\n",
       "      <td>High</td>\n",
       "      <td>Neutral</td>\n",
       "      <td>...</td>\n",
       "      <td>High</td>\n",
       "      <td>High</td>\n",
       "      <td>High</td>\n",
       "      <td>High</td>\n",
       "      <td>High</td>\n",
       "      <td>High</td>\n",
       "      <td>High</td>\n",
       "      <td>High</td>\n",
       "      <td>High</td>\n",
       "      <td>Neutral</td>\n",
       "    </tr>\n",
       "    <tr>\n",
       "      <th>1</th>\n",
       "      <td>High</td>\n",
       "      <td>High</td>\n",
       "      <td>High</td>\n",
       "      <td>High</td>\n",
       "      <td>High</td>\n",
       "      <td>High</td>\n",
       "      <td>High</td>\n",
       "      <td>High</td>\n",
       "      <td>High</td>\n",
       "      <td>High</td>\n",
       "      <td>...</td>\n",
       "      <td>High</td>\n",
       "      <td>High</td>\n",
       "      <td>High</td>\n",
       "      <td>High</td>\n",
       "      <td>High</td>\n",
       "      <td>High</td>\n",
       "      <td>High</td>\n",
       "      <td>High</td>\n",
       "      <td>High</td>\n",
       "      <td>High</td>\n",
       "    </tr>\n",
       "    <tr>\n",
       "      <th>2</th>\n",
       "      <td>Neutral</td>\n",
       "      <td>Very high</td>\n",
       "      <td>Very high</td>\n",
       "      <td>High</td>\n",
       "      <td>High</td>\n",
       "      <td>Low</td>\n",
       "      <td>Low</td>\n",
       "      <td>Neutral</td>\n",
       "      <td>Neutral</td>\n",
       "      <td>High</td>\n",
       "      <td>...</td>\n",
       "      <td>High</td>\n",
       "      <td>Very high</td>\n",
       "      <td>Very high</td>\n",
       "      <td>Very high</td>\n",
       "      <td>Very high</td>\n",
       "      <td>High</td>\n",
       "      <td>Low</td>\n",
       "      <td>Very high</td>\n",
       "      <td>High</td>\n",
       "      <td>High</td>\n",
       "    </tr>\n",
       "    <tr>\n",
       "      <th>3</th>\n",
       "      <td>High</td>\n",
       "      <td>Low</td>\n",
       "      <td>High</td>\n",
       "      <td>High</td>\n",
       "      <td>High</td>\n",
       "      <td>High</td>\n",
       "      <td>High</td>\n",
       "      <td>Very high</td>\n",
       "      <td>Very high</td>\n",
       "      <td>High</td>\n",
       "      <td>...</td>\n",
       "      <td>Low</td>\n",
       "      <td>Low</td>\n",
       "      <td>Low</td>\n",
       "      <td>Low</td>\n",
       "      <td>Low</td>\n",
       "      <td>High</td>\n",
       "      <td>High</td>\n",
       "      <td>High</td>\n",
       "      <td>High</td>\n",
       "      <td>High</td>\n",
       "    </tr>\n",
       "    <tr>\n",
       "      <th>4</th>\n",
       "      <td>Neutral</td>\n",
       "      <td>High</td>\n",
       "      <td>High</td>\n",
       "      <td>High</td>\n",
       "      <td>High</td>\n",
       "      <td>High</td>\n",
       "      <td>High</td>\n",
       "      <td>Very high</td>\n",
       "      <td>Very high</td>\n",
       "      <td>Neutral</td>\n",
       "      <td>...</td>\n",
       "      <td>High</td>\n",
       "      <td>Neutral</td>\n",
       "      <td>Neutral</td>\n",
       "      <td>Very high</td>\n",
       "      <td>Very high</td>\n",
       "      <td>Very high</td>\n",
       "      <td>Very high</td>\n",
       "      <td>High</td>\n",
       "      <td>Very high</td>\n",
       "      <td>Very high</td>\n",
       "    </tr>\n",
       "  </tbody>\n",
       "</table>\n",
       "<p>5 rows × 240 columns</p>\n",
       "</div>"
      ],
      "text/plain": [
       "  1. INTER-FIRM COLLABORATION: Has the purpose to arrange collaboration and business relations inter-firm, it involves sharing of resources and information.. Rules are needed because interdependencies are increased and become more specific as compared to collaboration in linear systems. This strategy: [Complies with regional and national regulations]  \\\n",
       "0                                               High                                                                                                                                                                                                                                                                                                               \n",
       "1                                               High                                                                                                                                                                                                                                                                                                               \n",
       "2                                            Neutral                                                                                                                                                                                                                                                                                                               \n",
       "3                                               High                                                                                                                                                                                                                                                                                                               \n",
       "4                                            Neutral                                                                                                                                                                                                                                                                                                               \n",
       "\n",
       "  1. INTER-FIRM COLLABORATION: Has the purpose to arrange collaboration and business relations inter-firm, it involves sharing of resources and information.. Rules are needed because interdependencies are increased and become more specific as compared to collaboration in linear systems. This strategy: [Helps to increase public acceptance of the circular economy]  \\\n",
       "0                                               High                                                                                                                                                                                                                                                                                                                           \n",
       "1                                               High                                                                                                                                                                                                                                                                                                                           \n",
       "2                                          Very high                                                                                                                                                                                                                                                                                                                           \n",
       "3                                                Low                                                                                                                                                                                                                                                                                                                           \n",
       "4                                               High                                                                                                                                                                                                                                                                                                                           \n",
       "\n",
       "  1. INTER-FIRM COLLABORATION: Has the purpose to arrange collaboration and business relations inter-firm, it involves sharing of resources and information.. Rules are needed because interdependencies are increased and become more specific as compared to collaboration in linear systems. This strategy: [Enhances the absorption of the regional workforce]  \\\n",
       "0                                            Neutral                                                                                                                                                                                                                                                                                                                 \n",
       "1                                               High                                                                                                                                                                                                                                                                                                                 \n",
       "2                                          Very high                                                                                                                                                                                                                                                                                                                 \n",
       "3                                               High                                                                                                                                                                                                                                                                                                                 \n",
       "4                                               High                                                                                                                                                                                                                                                                                                                 \n",
       "\n",
       "  1. INTER-FIRM COLLABORATION: Has the purpose to arrange collaboration and business relations inter-firm, it involves sharing of resources and information.. Rules are needed because interdependencies are increased and become more specific as compared to collaboration in linear systems. This strategy: [Prevents incorrect waste disposal]  \\\n",
       "0                                               High                                                                                                                                                                                                                                                                                                 \n",
       "1                                               High                                                                                                                                                                                                                                                                                                 \n",
       "2                                               High                                                                                                                                                                                                                                                                                                 \n",
       "3                                               High                                                                                                                                                                                                                                                                                                 \n",
       "4                                               High                                                                                                                                                                                                                                                                                                 \n",
       "\n",
       "  1. INTER-FIRM COLLABORATION: Has the purpose to arrange collaboration and business relations inter-firm, it involves sharing of resources and information.. Rules are needed because interdependencies are increased and become more specific as compared to collaboration in linear systems. This strategy: [Contributes to the preservation of the environment]  \\\n",
       "0                                               High                                                                                                                                                                                                                                                                                                                  \n",
       "1                                               High                                                                                                                                                                                                                                                                                                                  \n",
       "2                                               High                                                                                                                                                                                                                                                                                                                  \n",
       "3                                               High                                                                                                                                                                                                                                                                                                                  \n",
       "4                                               High                                                                                                                                                                                                                                                                                                                  \n",
       "\n",
       "  1. INTER-FIRM COLLABORATION: Has the purpose to arrange collaboration and business relations inter-firm, it involves sharing of resources and information.. Rules are needed because interdependencies are increased and become more specific as compared to collaboration in linear systems. This strategy: [Has a cost for implementation]  \\\n",
       "0                                               High                                                                                                                                                                                                                                                                                             \n",
       "1                                               High                                                                                                                                                                                                                                                                                             \n",
       "2                                                Low                                                                                                                                                                                                                                                                                             \n",
       "3                                               High                                                                                                                                                                                                                                                                                             \n",
       "4                                               High                                                                                                                                                                                                                                                                                             \n",
       "\n",
       "  1. INTER-FIRM COLLABORATION: Has the purpose to arrange collaboration and business relations inter-firm, it involves sharing of resources and information.. Rules are needed because interdependencies are increased and become more specific as compared to collaboration in linear systems. This strategy: [Has a cost to maintain  in operation]  \\\n",
       "0                                               High                                                                                                                                                                                                                                                                                                    \n",
       "1                                               High                                                                                                                                                                                                                                                                                                    \n",
       "2                                                Low                                                                                                                                                                                                                                                                                                    \n",
       "3                                               High                                                                                                                                                                                                                                                                                                    \n",
       "4                                               High                                                                                                                                                                                                                                                                                                    \n",
       "\n",
       "  1. INTER-FIRM COLLABORATION: Has the purpose to arrange collaboration and business relations inter-firm, it involves sharing of resources and information.. Rules are needed because interdependencies are increased and become more specific as compared to collaboration in linear systems. This strategy: [Has a difficulty to implement, due to the knowledge, technologies and solutions required]  \\\n",
       "0                                               High                                                                                                                                                                                                                                                                                                                                                        \n",
       "1                                               High                                                                                                                                                                                                                                                                                                                                                        \n",
       "2                                            Neutral                                                                                                                                                                                                                                                                                                                                                        \n",
       "3                                          Very high                                                                                                                                                                                                                                                                                                                                                        \n",
       "4                                          Very high                                                                                                                                                                                                                                                                                                                                                        \n",
       "\n",
       "  1. INTER-FIRM COLLABORATION: Has the purpose to arrange collaboration and business relations inter-firm, it involves sharing of resources and information.. Rules are needed because interdependencies are increased and become more specific as compared to collaboration in linear systems. This strategy: [Has obstacles/barriers, based on the particular regional characteristics ]  \\\n",
       "0                                               High                                                                                                                                                                                                                                                                                                                                         \n",
       "1                                               High                                                                                                                                                                                                                                                                                                                                         \n",
       "2                                            Neutral                                                                                                                                                                                                                                                                                                                                         \n",
       "3                                          Very high                                                                                                                                                                                                                                                                                                                                         \n",
       "4                                          Very high                                                                                                                                                                                                                                                                                                                                         \n",
       "\n",
       "  1. INTER-FIRM COLLABORATION: Has the purpose to arrange collaboration and business relations inter-firm, it involves sharing of resources and information.. Rules are needed because interdependencies are increased and become more specific as compared to collaboration in linear systems. This strategy: [Has the potential to remain constant, considering mainly maintenance requirements related to  specialized personnel and Yesplicity of operations]  \\\n",
       "0                                            Neutral                                                                                                                                                                                                                                                                                                                                                                                                                \n",
       "1                                               High                                                                                                                                                                                                                                                                                                                                                                                                                \n",
       "2                                               High                                                                                                                                                                                                                                                                                                                                                                                                                \n",
       "3                                               High                                                                                                                                                                                                                                                                                                                                                                                                                \n",
       "4                                            Neutral                                                                                                                                                                                                                                                                                                                                                                                                                \n",
       "\n",
       "   ...  \\\n",
       "0  ...   \n",
       "1  ...   \n",
       "2  ...   \n",
       "3  ...   \n",
       "4  ...   \n",
       "\n",
       "  24. CONSTRUCTION & DEMOLITION (C&D) WASTE MANAGEMENT: Proper management of C&D waste and recycled materials – including the correct handling of hazardous waste - can have major benefits in terms of sustainability and the quality of life. This strategy: [Complies with regional and national regulations]  \\\n",
       "0                                               High                                                                                                                                                                                                                                                               \n",
       "1                                               High                                                                                                                                                                                                                                                               \n",
       "2                                               High                                                                                                                                                                                                                                                               \n",
       "3                                                Low                                                                                                                                                                                                                                                               \n",
       "4                                               High                                                                                                                                                                                                                                                               \n",
       "\n",
       "  24. CONSTRUCTION & DEMOLITION (C&D) WASTE MANAGEMENT: Proper management of C&D waste and recycled materials – including the correct handling of hazardous waste - can have major benefits in terms of sustainability and the quality of life. This strategy: [Helps to increase public acceptance of the circular economy]  \\\n",
       "0                                               High                                                                                                                                                                                                                                                                           \n",
       "1                                               High                                                                                                                                                                                                                                                                           \n",
       "2                                          Very high                                                                                                                                                                                                                                                                           \n",
       "3                                                Low                                                                                                                                                                                                                                                                           \n",
       "4                                            Neutral                                                                                                                                                                                                                                                                           \n",
       "\n",
       "  24. CONSTRUCTION & DEMOLITION (C&D) WASTE MANAGEMENT: Proper management of C&D waste and recycled materials – including the correct handling of hazardous waste - can have major benefits in terms of sustainability and the quality of life. This strategy: [Enhances the absorption of the regional workforce]  \\\n",
       "0                                               High                                                                                                                                                                                                                                                                 \n",
       "1                                               High                                                                                                                                                                                                                                                                 \n",
       "2                                          Very high                                                                                                                                                                                                                                                                 \n",
       "3                                                Low                                                                                                                                                                                                                                                                 \n",
       "4                                            Neutral                                                                                                                                                                                                                                                                 \n",
       "\n",
       "  24. CONSTRUCTION & DEMOLITION (C&D) WASTE MANAGEMENT: Proper management of C&D waste and recycled materials – including the correct handling of hazardous waste - can have major benefits in terms of sustainability and the quality of life. This strategy: [Prevents incorrect waste disposal]  \\\n",
       "0                                               High                                                                                                                                                                                                                                                 \n",
       "1                                               High                                                                                                                                                                                                                                                 \n",
       "2                                          Very high                                                                                                                                                                                                                                                 \n",
       "3                                                Low                                                                                                                                                                                                                                                 \n",
       "4                                          Very high                                                                                                                                                                                                                                                 \n",
       "\n",
       "  24. CONSTRUCTION & DEMOLITION (C&D) WASTE MANAGEMENT: Proper management of C&D waste and recycled materials – including the correct handling of hazardous waste - can have major benefits in terms of sustainability and the quality of life. This strategy: [Contributes to the preservation of the environment]  \\\n",
       "0                                               High                                                                                                                                                                                                                                                                  \n",
       "1                                               High                                                                                                                                                                                                                                                                  \n",
       "2                                          Very high                                                                                                                                                                                                                                                                  \n",
       "3                                                Low                                                                                                                                                                                                                                                                  \n",
       "4                                          Very high                                                                                                                                                                                                                                                                  \n",
       "\n",
       "  24. CONSTRUCTION & DEMOLITION (C&D) WASTE MANAGEMENT: Proper management of C&D waste and recycled materials – including the correct handling of hazardous waste - can have major benefits in terms of sustainability and the quality of life. This strategy: [Has a cost for implementation]  \\\n",
       "0                                               High                                                                                                                                                                                                                                             \n",
       "1                                               High                                                                                                                                                                                                                                             \n",
       "2                                               High                                                                                                                                                                                                                                             \n",
       "3                                               High                                                                                                                                                                                                                                             \n",
       "4                                          Very high                                                                                                                                                                                                                                             \n",
       "\n",
       "  24. CONSTRUCTION & DEMOLITION (C&D) WASTE MANAGEMENT: Proper management of C&D waste and recycled materials – including the correct handling of hazardous waste - can have major benefits in terms of sustainability and the quality of life. This strategy: [Has a cost to maintain  in operation]  \\\n",
       "0                                               High                                                                                                                                                                                                                                                    \n",
       "1                                               High                                                                                                                                                                                                                                                    \n",
       "2                                                Low                                                                                                                                                                                                                                                    \n",
       "3                                               High                                                                                                                                                                                                                                                    \n",
       "4                                          Very high                                                                                                                                                                                                                                                    \n",
       "\n",
       "  24. CONSTRUCTION & DEMOLITION (C&D) WASTE MANAGEMENT: Proper management of C&D waste and recycled materials – including the correct handling of hazardous waste - can have major benefits in terms of sustainability and the quality of life. This strategy: [Has a difficulty to implement, due to the knowledge, technologies and solutions required]  \\\n",
       "0                                               High                                                                                                                                                                                                                                                                                                        \n",
       "1                                               High                                                                                                                                                                                                                                                                                                        \n",
       "2                                          Very high                                                                                                                                                                                                                                                                                                        \n",
       "3                                               High                                                                                                                                                                                                                                                                                                        \n",
       "4                                               High                                                                                                                                                                                                                                                                                                        \n",
       "\n",
       "  24. CONSTRUCTION & DEMOLITION (C&D) WASTE MANAGEMENT: Proper management of C&D waste and recycled materials – including the correct handling of hazardous waste - can have major benefits in terms of sustainability and the quality of life. This strategy: [Has obstacles/barriers, based on the particular regional characteristics ]  \\\n",
       "0                                               High                                                                                                                                                                                                                                                                                         \n",
       "1                                               High                                                                                                                                                                                                                                                                                         \n",
       "2                                               High                                                                                                                                                                                                                                                                                         \n",
       "3                                               High                                                                                                                                                                                                                                                                                         \n",
       "4                                          Very high                                                                                                                                                                                                                                                                                         \n",
       "\n",
       "  24. CONSTRUCTION & DEMOLITION (C&D) WASTE MANAGEMENT: Proper management of C&D waste and recycled materials – including the correct handling of hazardous waste - can have major benefits in terms of sustainability and the quality of life. This strategy: [Has the potential to remain constant, considering mainly maintenance requirements for specialized personnel and Yesplicity of operations]  \n",
       "0                                            Neutral                                                                                                                                                                                                                                                                                                                                                       \n",
       "1                                               High                                                                                                                                                                                                                                                                                                                                                       \n",
       "2                                               High                                                                                                                                                                                                                                                                                                                                                       \n",
       "3                                               High                                                                                                                                                                                                                                                                                                                                                       \n",
       "4                                          Very high                                                                                                                                                                                                                                                                                                                                                       \n",
       "\n",
       "[5 rows x 240 columns]"
      ]
     },
     "execution_count": 10,
     "metadata": {},
     "output_type": "execute_result"
    }
   ],
   "source": [
    "# Removendo as mesmas colunas da base\n",
    "df = df.drop(df.columns[[240,241,242,243,244,245,246]], axis=1)\n",
    "df.head()"
   ]
  },
  {
   "cell_type": "code",
   "execution_count": 11,
   "id": "a1a6b0fa",
   "metadata": {},
   "outputs": [
    {
     "data": {
      "text/plain": [
       "Index(['1. INTER-FIRM COLLABORATION: Has the purpose to arrange collaboration and business relations inter-firm, it involves sharing of resources and information.. Rules are needed because interdependencies are increased and become more specific as compared to collaboration in linear systems. This strategy: [Complies with regional and national regulations]',\n",
       "       '1. INTER-FIRM COLLABORATION: Has the purpose to arrange collaboration and business relations inter-firm, it involves sharing of resources and information.. Rules are needed because interdependencies are increased and become more specific as compared to collaboration in linear systems. This strategy: [Helps to increase public acceptance of the circular economy]',\n",
       "       '1. INTER-FIRM COLLABORATION: Has the purpose to arrange collaboration and business relations inter-firm, it involves sharing of resources and information.. Rules are needed because interdependencies are increased and become more specific as compared to collaboration in linear systems. This strategy: [Enhances the absorption of the regional workforce]',\n",
       "       '1. INTER-FIRM COLLABORATION: Has the purpose to arrange collaboration and business relations inter-firm, it involves sharing of resources and information.. Rules are needed because interdependencies are increased and become more specific as compared to collaboration in linear systems. This strategy: [Prevents incorrect waste disposal]',\n",
       "       '1. INTER-FIRM COLLABORATION: Has the purpose to arrange collaboration and business relations inter-firm, it involves sharing of resources and information.. Rules are needed because interdependencies are increased and become more specific as compared to collaboration in linear systems. This strategy: [Contributes to the preservation of the environment]',\n",
       "       '1. INTER-FIRM COLLABORATION: Has the purpose to arrange collaboration and business relations inter-firm, it involves sharing of resources and information.. Rules are needed because interdependencies are increased and become more specific as compared to collaboration in linear systems. This strategy: [Has a cost for implementation]',\n",
       "       '1. INTER-FIRM COLLABORATION: Has the purpose to arrange collaboration and business relations inter-firm, it involves sharing of resources and information.. Rules are needed because interdependencies are increased and become more specific as compared to collaboration in linear systems. This strategy: [Has a cost to maintain  in operation]',\n",
       "       '1. INTER-FIRM COLLABORATION: Has the purpose to arrange collaboration and business relations inter-firm, it involves sharing of resources and information.. Rules are needed because interdependencies are increased and become more specific as compared to collaboration in linear systems. This strategy: [Has a difficulty to implement, due to the knowledge, technologies and solutions required]',\n",
       "       '1. INTER-FIRM COLLABORATION: Has the purpose to arrange collaboration and business relations inter-firm, it involves sharing of resources and information.. Rules are needed because interdependencies are increased and become more specific as compared to collaboration in linear systems. This strategy: [Has obstacles/barriers, based on the particular regional characteristics ]',\n",
       "       '1. INTER-FIRM COLLABORATION: Has the purpose to arrange collaboration and business relations inter-firm, it involves sharing of resources and information.. Rules are needed because interdependencies are increased and become more specific as compared to collaboration in linear systems. This strategy: [Has the potential to remain constant, considering mainly maintenance requirements related to  specialized personnel and Yesplicity of operations]',\n",
       "       ...\n",
       "       '24. CONSTRUCTION & DEMOLITION (C&D) WASTE MANAGEMENT: Proper management of C&D waste and recycled materials – including the correct handling of hazardous waste - can have major benefits in terms of sustainability and the quality of life. This strategy: [Complies with regional and national regulations]',\n",
       "       '24. CONSTRUCTION & DEMOLITION (C&D) WASTE MANAGEMENT: Proper management of C&D waste and recycled materials – including the correct handling of hazardous waste - can have major benefits in terms of sustainability and the quality of life. This strategy: [Helps to increase public acceptance of the circular economy]',\n",
       "       '24. CONSTRUCTION & DEMOLITION (C&D) WASTE MANAGEMENT: Proper management of C&D waste and recycled materials – including the correct handling of hazardous waste - can have major benefits in terms of sustainability and the quality of life. This strategy: [Enhances the absorption of the regional workforce]',\n",
       "       '24. CONSTRUCTION & DEMOLITION (C&D) WASTE MANAGEMENT: Proper management of C&D waste and recycled materials – including the correct handling of hazardous waste - can have major benefits in terms of sustainability and the quality of life. This strategy: [Prevents incorrect waste disposal]',\n",
       "       '24. CONSTRUCTION & DEMOLITION (C&D) WASTE MANAGEMENT: Proper management of C&D waste and recycled materials – including the correct handling of hazardous waste - can have major benefits in terms of sustainability and the quality of life. This strategy: [Contributes to the preservation of the environment]',\n",
       "       '24. CONSTRUCTION & DEMOLITION (C&D) WASTE MANAGEMENT: Proper management of C&D waste and recycled materials – including the correct handling of hazardous waste - can have major benefits in terms of sustainability and the quality of life. This strategy: [Has a cost for implementation]',\n",
       "       '24. CONSTRUCTION & DEMOLITION (C&D) WASTE MANAGEMENT: Proper management of C&D waste and recycled materials – including the correct handling of hazardous waste - can have major benefits in terms of sustainability and the quality of life. This strategy: [Has a cost to maintain  in operation]',\n",
       "       '24. CONSTRUCTION & DEMOLITION (C&D) WASTE MANAGEMENT: Proper management of C&D waste and recycled materials – including the correct handling of hazardous waste - can have major benefits in terms of sustainability and the quality of life. This strategy: [Has a difficulty to implement, due to the knowledge, technologies and solutions required]',\n",
       "       '24. CONSTRUCTION & DEMOLITION (C&D) WASTE MANAGEMENT: Proper management of C&D waste and recycled materials – including the correct handling of hazardous waste - can have major benefits in terms of sustainability and the quality of life. This strategy: [Has obstacles/barriers, based on the particular regional characteristics ]',\n",
       "       '24. CONSTRUCTION & DEMOLITION (C&D) WASTE MANAGEMENT: Proper management of C&D waste and recycled materials – including the correct handling of hazardous waste - can have major benefits in terms of sustainability and the quality of life. This strategy: [Has the potential to remain constant, considering mainly maintenance requirements for specialized personnel and Yesplicity of operations]'],\n",
       "      dtype='object', length=240)"
      ]
     },
     "execution_count": 11,
     "metadata": {},
     "output_type": "execute_result"
    }
   ],
   "source": [
    "df.columns"
   ]
  },
  {
   "cell_type": "markdown",
   "id": "88dd9b2b",
   "metadata": {},
   "source": [
    "# Caracteríticas dos Respondentes"
   ]
  },
  {
   "cell_type": "code",
   "execution_count": 12,
   "id": "af1f454a",
   "metadata": {},
   "outputs": [],
   "source": [
    "# renomeando colunas\n",
    "df_respondentes = df_respondentes.rename(columns={'In which country, region and city are you located?': 'Localidade', 'Do you act directly with the circular economy?': 'Atuação direta com a EC',\n",
    "                               'How do you evaluate your level of knowledge related to the circular economy [Level of knowledge]':'Nível de conhecimento sobre EC', 'What is your segment of acting?': 'Seguimento de atuação',\n",
    "                                'What sector does your organization operate in?': 'Setor da organização', 'What is the size of your organization, in terms of staff?':'Tamanho da empresa', 'How do you describe your position in your organization?': 'Cargo'\n",
    "                               })"
   ]
  },
  {
   "cell_type": "code",
   "execution_count": 13,
   "id": "62ee565c",
   "metadata": {},
   "outputs": [
    {
     "data": {
      "text/plain": [
       "Index(['Localidade', 'Atuação direta com a EC',\n",
       "       'Nível de conhecimento sobre EC', 'Seguimento de atuação',\n",
       "       'Setor da organização', 'Tamanho da empresa', 'Cargo'],\n",
       "      dtype='object')"
      ]
     },
     "execution_count": 13,
     "metadata": {},
     "output_type": "execute_result"
    }
   ],
   "source": [
    "df_respondentes.columns"
   ]
  },
  {
   "cell_type": "code",
   "execution_count": 14,
   "id": "34c9f44c",
   "metadata": {
    "scrolled": true
   },
   "outputs": [
    {
     "data": {
      "text/plain": [
       "Executive or Strategic Manager  (Senior executive, executive)    47\n",
       "Staff (operational jobs)                                         44\n",
       "Managers(Senior manager, manager)                                40\n",
       "Advisor (Senior advisor, advisor)                                39\n",
       "Middle Management (Senior director, director)                    26\n",
       "                                                                 ..\n",
       "Staff (operational jobs), Researcher                              1\n",
       "Student at AAU                                                    1\n",
       "Staff (operational jobs), Research Analyst                        1\n",
       "PhD                                                               1\n",
       "estudante                                                         1\n",
       "Name: Cargo, Length: 75, dtype: int64"
      ]
     },
     "execution_count": 14,
     "metadata": {},
     "output_type": "execute_result"
    }
   ],
   "source": [
    "df_respondentes['Cargo'].value_counts()"
   ]
  },
  {
   "cell_type": "code",
   "execution_count": 15,
   "id": "a261543c",
   "metadata": {},
   "outputs": [
    {
     "data": {
      "text/plain": [
       "array(['senior researcher', 'Staff (operational jobs)',\n",
       "       'Executive or Strategic Manager  (Senior executive, executive)',\n",
       "       'Managers(Senior manager, manager)',\n",
       "       'Middle Management (Senior director, director)', 'Estudante',\n",
       "       'Advisor (Senior advisor, advisor)', 'Assistant professor',\n",
       "       'Researcher', 'Advisor', 'student', 'Junior Engineer',\n",
       "       'PhD Fellow', 'Student ', 'I am a faculty member', nan, 'lecturer',\n",
       "       'Professor', 'Planning officer ', 'Student',\n",
       "       'Middle Management (Senior director, director), Student ',\n",
       "       'Environmentalist', 'Freelancer',\n",
       "       'Middle Management (Senior director, director), Advisor (Senior advisor, advisor)',\n",
       "       'Executive or Strategic Manager  (Senior executive, executive), Advisor (Senior advisor, advisor), Founder',\n",
       "       'Scholar',\n",
       "       'Executive or Strategic Manager  (Senior executive, executive), Middle Management (Senior director, director), Managers(Senior manager, manager), Advisor (Senior advisor, advisor)',\n",
       "       'researcher', 'Research Fellow',\n",
       "       'Advisor (Senior advisor, advisor), Staff (operational jobs)',\n",
       "       'Unemployed', 'Master Thesis Student', 'CE Expert', 'Associate ',\n",
       "       'N\\\\A', \"i'm still under education\", 'nothing', 'PhD student',\n",
       "       'head of research unit', 'Staff (operational jobs), Researcher',\n",
       "       'Student at AAU', 'Staff (operational jobs), Research Analyst ',\n",
       "       'PhD', 'Project Manager.', 'Sustainability Assistant',\n",
       "       'Executive or Strategic Manager  (Senior executive, executive), Advisor (Senior advisor, advisor)',\n",
       "       'Advisor (Senior advisor, advisor), Did Circular Economy & Eco-design it-research in Berlin 2014-2018',\n",
       "       'business consultant ',\n",
       "       'Consulente (Consulente Senior, Consulente)',\n",
       "       'Management (Senior manager, manager)',\n",
       "       'Consulente (Consulente Senior, Consulente), Dipendenti (lavori operativi)',\n",
       "       'Dipendenti (lavori operativi)',\n",
       "       'Dirigente o Direttore Strategico (Senior Executive, Executive)',\n",
       "       'Ricercatore',\n",
       "       'Management (Senior manager, manager), Consulente (Consulente Senior, Consulente)',\n",
       "       'Pesquisador', 'Àrea Operacional', 'professor',\n",
       "       'Gerente (Gerente Senior, Gerente )',\n",
       "       'Gerente intermediário (Diretor Senior, Diretor)', 'Neutral',\n",
       "       'pesquisador auxiliar',\n",
       "       'Gerente executivo ou estratégico (Executivo Senior, executivo), Gerente (Gerente Senior, Gerente ), Àrea Operacional',\n",
       "       'Gerente executivo ou estratégico (Executivo Senior, executivo)',\n",
       "       'Estagiário; Pesquisador',\n",
       "       'Supervisor (Supervisor Senior, Supervisor)', 'pesquisador',\n",
       "       'Supervisor (Supervisor Senior, Supervisor), Àrea Operacional',\n",
       "       'Pesquisadora', 'aluno de pós graduação', 'coordenador',\n",
       "       'Analista Técnico', 'Ensino', 'Mestranda',\n",
       "       'Docente e Coordenador de Curso', 'estudante'], dtype=object)"
      ]
     },
     "execution_count": 15,
     "metadata": {},
     "output_type": "execute_result"
    }
   ],
   "source": [
    "df_respondentes['Cargo'].unique()"
   ]
  },
  {
   "cell_type": "markdown",
   "id": "7e345b5e",
   "metadata": {},
   "source": [
    "# Mapeando e substituindo os valores, coluna 'Cargo'"
   ]
  },
  {
   "cell_type": "code",
   "execution_count": 16,
   "id": "7cf13955",
   "metadata": {},
   "outputs": [],
   "source": [
    "# Substituir os valores na coluna 'categoria' usando o método replace Pesquisaor\n",
    "df_respondentes['Cargo'] = df_respondentes['Cargo'].replace(['Ricer\\w+', \n",
    "                                                             r'rese\\w+', r'Resea\\w+', \n",
    "                                                             r'head of research\\D+', \n",
    "                                                             'senior resear\\w+', 'Pesqui\\w+', 'pesquis\\w+',\n",
    "                                                             'Estag\\w+', r'Maste\\w+', \n",
    "                                                             r'Ph\\w+',  r'Pesq\\D+', 'head of Pesquisador', 'senior Pesquisador'], \n",
    "                                                            'Pesquisador', regex = True)"
   ]
  },
  {
   "cell_type": "code",
   "execution_count": 17,
   "id": "57668f3f",
   "metadata": {},
   "outputs": [],
   "source": [
    "#df_respondentes['Cargo'].unique()"
   ]
  },
  {
   "cell_type": "code",
   "execution_count": 18,
   "id": "2579ad16",
   "metadata": {},
   "outputs": [],
   "source": [
    "df_respondentes['Cargo'] = df_respondentes['Cargo'].replace(['Àrea Op\\D+', \n",
    "                                                             r'Staf\\D+', r'Opera\\D+', r'Dipenden\\D+'], 'Operacional', regex = True)"
   ]
  },
  {
   "cell_type": "code",
   "execution_count": 19,
   "id": "d4eb66b7",
   "metadata": {},
   "outputs": [],
   "source": [
    "#df_respondentes['Cargo'].unique()"
   ]
  },
  {
   "cell_type": "code",
   "execution_count": 20,
   "id": "8ea9a269",
   "metadata": {},
   "outputs": [],
   "source": [
    "#professor\n",
    "df_respondentes['Cargo'] = df_respondentes['Cargo'].replace([r'pro\\D+', \n",
    "                                                             r'Profe\\D+', \n",
    "                                                             r'coord\\D+', \n",
    "                                                             r'Ensi\\D+', r'Docent\\D+', \n",
    "                                                             'Assista\\D+',  r'I am a faculty mem\\D+', \n",
    "                                                            'Sustainability Professor', ], 'Professor', regex = True)"
   ]
  },
  {
   "cell_type": "code",
   "execution_count": 21,
   "id": "686860f0",
   "metadata": {},
   "outputs": [],
   "source": [
    "# Gerente\n",
    "df_respondentes['Cargo'] = df_respondentes['Cargo'].replace( ['Manag\\D+', \n",
    "                                                              'Geren\\D+','Middl\\D+', r'middle\\D+', r'Dirigen\\D+', 'Project Gerente'], 'Gerente', regex = True)"
   ]
  },
  {
   "cell_type": "code",
   "execution_count": 22,
   "id": "14d454d1",
   "metadata": {},
   "outputs": [],
   "source": [
    "# Supervisor\n",
    "df_respondentes['Cargo'] = df_respondentes['Cargo'].replace([r'Super\\D+'],\n",
    "                                                            'Supervisor', regex = True)"
   ]
  },
  {
   "cell_type": "code",
   "execution_count": 23,
   "id": "b71585ec",
   "metadata": {},
   "outputs": [],
   "source": [
    "# Analista\n",
    "df_respondentes['Cargo'] = df_respondentes['Cargo'].replace(['Analista Técnico ', 'Analista Técnico'], 'Analista')"
   ]
  },
  {
   "cell_type": "code",
   "execution_count": 24,
   "id": "bfe461bc",
   "metadata": {},
   "outputs": [],
   "source": [
    "# Estudante\n",
    "df_respondentes['Cargo'] = df_respondentes['Cargo'].replace([r'Stud\\w+', r'stud\\w+', r'Scho\\D+',\n",
    "                                                             r'alun\\D+', r'Mestra\\D+', \n",
    "                                                             r'estuda\\D+', r'Estudant\\D+', r'EEstud\\D+', 'EEstudante',\n",
    "                                                            \"i'm still under education\", 'eEstudante', 'EEstudante', r'eEEstuda\\D+',  r'EEstuda\\D+' ], 'Estudante', regex = True)"
   ]
  },
  {
   "cell_type": "code",
   "execution_count": 25,
   "id": "a7127b48",
   "metadata": {},
   "outputs": [],
   "source": [
    "# Estudante\n",
    "df_respondentes['Cargo'] = df_respondentes['Cargo'].replace(['EEstudante', 'eEEstudante' ], 'Estudante')"
   ]
  },
  {
   "cell_type": "code",
   "execution_count": 26,
   "id": "a5706420",
   "metadata": {},
   "outputs": [],
   "source": [
    "df_respondentes['Cargo'] = df_respondentes['Cargo'].replace(['Neutro', 'Neutral', 'N\\\\A', 'nothing', 'lecturer', 'Planning officer ',\n",
    "                                                            'Junior Engineer', 'Environmentalist', 'Unemployed', \n",
    "                                                            'CE Expert', 'Associate ', 'Freelancer'  ], 'Outros')"
   ]
  },
  {
   "cell_type": "code",
   "execution_count": 27,
   "id": "9a553550",
   "metadata": {},
   "outputs": [],
   "source": [
    "df_respondentes['Cargo'] = df_respondentes['Cargo'].replace([r'Advi\\D+', r'Consu\\D+', r'business consu\\D+', 'Consultor2018'], 'Consultor', regex = True)\n"
   ]
  },
  {
   "cell_type": "code",
   "execution_count": 28,
   "id": "5de6d297",
   "metadata": {},
   "outputs": [
    {
     "data": {
      "text/plain": [
       "array(['senior Pesquisador', 'Operacional',\n",
       "       'Executive or Strategic Gerente', 'Gerente', 'Estudante',\n",
       "       'Consultor', 'Professor', 'Pesquisador', 'Outros',\n",
       "       'Pesquisador Fellow', 'Estudante ', nan,\n",
       "       'Pesquisador Thesis Estudante', 'Pesquisador Estudante',\n",
       "       'head of Pesquisador unit', 'Estudante at AAU', 'Project Gerente',\n",
       "       'Sustainability Professor', 'Consultor2014-2018',\n",
       "       'Pesquisador auxiliar', 'Supervisor', 'Analista', 'eEstudante'],\n",
       "      dtype=object)"
      ]
     },
     "execution_count": 28,
     "metadata": {},
     "output_type": "execute_result"
    }
   ],
   "source": [
    "df_respondentes['Cargo'].unique()"
   ]
  },
  {
   "cell_type": "code",
   "execution_count": 93,
   "id": "9e6ad120",
   "metadata": {},
   "outputs": [
    {
     "data": {
      "text/plain": [
       "Gerente        158\n",
       "Operacional     63\n",
       "Consultor       53\n",
       "Pesquisador     20\n",
       "Estudante       18\n",
       "Professor       12\n",
       "Outros          11\n",
       "Supervisor       5\n",
       "Analista         1\n",
       "Name: Cargo, dtype: int64"
      ]
     },
     "execution_count": 93,
     "metadata": {},
     "output_type": "execute_result"
    }
   ],
   "source": [
    "df_respondentes['Cargo'].value_counts()"
   ]
  },
  {
   "cell_type": "code",
   "execution_count": 96,
   "id": "b1dea670",
   "metadata": {},
   "outputs": [
    {
     "data": {
      "text/plain": [
       "11"
      ]
     },
     "execution_count": 96,
     "metadata": {},
     "output_type": "execute_result"
    }
   ],
   "source": [
    "df_respondentes['Cargo'].isna().sum()"
   ]
  },
  {
   "cell_type": "markdown",
   "id": "e39a7658",
   "metadata": {},
   "source": [
    "# Mapeando e substituindo os valores, coluna 'Nível de Conhecimento'"
   ]
  },
  {
   "cell_type": "code",
   "execution_count": 43,
   "id": "d4e8faf9",
   "metadata": {},
   "outputs": [
    {
     "data": {
      "text/plain": [
       "array(['Very High', 'High', 'Neutral', 'Low', nan, 'Very Low', 'Alto',\n",
       "       'Molto alto', 'Very high', 'Very low', 'Baixo'], dtype=object)"
      ]
     },
     "execution_count": 43,
     "metadata": {},
     "output_type": "execute_result"
    }
   ],
   "source": [
    "df_respondentes['Nível de conhecimento sobre EC'].unique()"
   ]
  },
  {
   "cell_type": "code",
   "execution_count": null,
   "id": "9535e1f2",
   "metadata": {},
   "outputs": [],
   "source": [
    "df_respondentes['Nível de conhecimento sobre EC'] = df_respondentes['Nível de conhecimento sobre EC'].replace('High', 'Alto')"
   ]
  },
  {
   "cell_type": "markdown",
   "id": "108aab12",
   "metadata": {},
   "source": [
    "# Mapeando e substituindo os valores, coluna 'Atuação direta com a EC'"
   ]
  },
  {
   "cell_type": "code",
   "execution_count": 97,
   "id": "7702031b",
   "metadata": {},
   "outputs": [],
   "source": [
    "df_respondentes['Atuação direta com a EC'] =  df_respondentes['Atuação direta com a EC'].replace(['Yes', 'Gestão Ambiental', 'Waste Management companies' ], 'Sim')"
   ]
  },
  {
   "cell_type": "code",
   "execution_count": 98,
   "id": "48445dc7",
   "metadata": {},
   "outputs": [],
   "source": [
    "df_respondentes['Atuação direta com a EC'] =  df_respondentes['Atuação direta com a EC'].replace(['ensino', 'Sou professor e pesquisador ', 'pesquiso, fomento e faço de forma ainda pequena',  'Estudante de doutorado com esse tema', 'Aluno de doutorado (CDS/UnB) que irá pesquisar o tema em sua tese.' ], 'Pesquisa')"
   ]
  },
  {
   "cell_type": "code",
   "execution_count": 99,
   "id": "1b923329",
   "metadata": {},
   "outputs": [],
   "source": [
    "df_respondentes['Atuação direta com a EC'] =  df_respondentes['Atuação direta com a EC'].replace(['Ainda não, estou em fase de desenvolvimento de um projeto que estará inserido na economia circular.',\n",
    "       'Apoiamos as empresas associadas do Setor eletroeletrônico a avançarem nesta agenda' ], 'Indireta')"
   ]
  },
  {
   "cell_type": "code",
   "execution_count": 100,
   "id": "3d3a2640",
   "metadata": {},
   "outputs": [
    {
     "data": {
      "text/plain": [
       "Sim                                                                                                                                         211\n",
       "No                                                                                                                                          111\n",
       "Sì                                                                                                                                           17\n",
       "I conduct the research in this area and I worked as project manager in the project aiming at Circular Public Procurement implementation.      1\n",
       "I am not sure what that means.                                                                                                                1\n",
       "Maybe                                                                                                                                         1\n",
       "Sustainability/Engineering                                                                                                                    1\n",
       "Partly - not 100% focused                                                                                                                     1\n",
       "Starting  Sustainable Start-up                                                                                                                1\n",
       "Indirectly by providing waste recycling equipment                                                                                             1\n",
       "I have a degree in circular economy, but currently don´t work directly with that                                                              1\n",
       "Indirectly through other sustainability efforts                                                                                               1\n",
       "Partly through work in production                                                                                                             1\n",
       "non comprendo la domanda                                                                                                                      1\n",
       "Não                                                                                                                                           1\n",
       "Name: Atuação direta com a EC, dtype: int64"
      ]
     },
     "execution_count": 100,
     "metadata": {},
     "output_type": "execute_result"
    }
   ],
   "source": [
    "df_respondentes['Atuação direta com a EC'].value_counts()"
   ]
  },
  {
   "cell_type": "code",
   "execution_count": 101,
   "id": "486af47a",
   "metadata": {},
   "outputs": [
    {
     "data": {
      "text/plain": [
       "array(['Sim', 'No',\n",
       "       'I conduct the research in this area and I worked as project manager in the project aiming at Circular Public Procurement implementation.',\n",
       "       'I am not sure what that means. ', 'Maybe', nan,\n",
       "       'Sustainability/Engineering', 'Partly - not 100% focused',\n",
       "       'Starting  Sustainable Start-up',\n",
       "       'Indirectly by providing waste recycling equipment ',\n",
       "       'I have a degree in circular economy, but currently don´t work directly with that ',\n",
       "       'Indirectly through other sustainability efforts',\n",
       "       'Partly through work in production', 'Sì',\n",
       "       'non comprendo la domanda', 'Não'], dtype=object)"
      ]
     },
     "execution_count": 101,
     "metadata": {},
     "output_type": "execute_result"
    }
   ],
   "source": [
    "df_respondentes['Atuação direta com a EC'].unique()"
   ]
  },
  {
   "cell_type": "markdown",
   "id": "09a16f90",
   "metadata": {},
   "source": [
    "# Mapeando e substituindo os valores, coluna 'Tamamho da Empresa'"
   ]
  },
  {
   "cell_type": "code",
   "execution_count": 102,
   "id": "0ef9d961",
   "metadata": {},
   "outputs": [
    {
     "data": {
      "text/plain": [
       "Large-sized enterprise, more than 250 employees                                                               108\n",
       "Small-sized enterprise, between 11 and 50 employees                                                            38\n",
       "Grande - mais de 250 funcionários                                                                              35\n",
       "Medium-sized enterprise, between 51 and 250 employees                                                          34\n",
       "Micro-sized enterprise - until  10 employees                                                                   28\n",
       "Individual entrepreneur                                                                                        20\n",
       "Impresa di grandi dimensioni, più di 250 dipendenti                                                            13\n",
       "Micro - até 10 funcionários                                                                                     9\n",
       "Micro-sized enterprise - until  10 employees, Small-sized enterprise, between 11 and 50 employees               5\n",
       "Médias - de 51 a 250 funcionários                                                                               4\n",
       "Individual entrepreneur, Micro-sized enterprise - until  10 employees                                           4\n",
       "Empreendedor Individual                                                                                         3\n",
       "Impresa di micro dimensioni - fino a 10 dipendenti                                                              3\n",
       "University                                                                                                      3\n",
       "Universidade                                                                                                    3\n",
       "Impresa di medie dimensioni, tra 51 e 250 dipendenti                                                            2\n",
       "Imprenditore individuale                                                                                        2\n",
       "0.0                                                                                                             2\n",
       "Pequena - de 11 até 50 funcionários                                                                             2\n",
       "No se aplica                                                                                                    1\n",
       "Grandes empresas - mais de 250 funcionários                                                                     1\n",
       "estudante                                                                                                       1\n",
       "Impresa di piccole dimensioni, tra 11 e 50 dipendenti                                                           1\n",
       "30000.0                                                                                                         1\n",
       "No tenho empresa.                                                                                               1\n",
       "Empreendedor Individual, Pequena - de 11 até 50 funcionários                                                    1\n",
       "Pesquisador                                                                                                     1\n",
       "No tenho empresa                                                                                                1\n",
       "universidade                                                                                                    1\n",
       "no                                                                                                              1\n",
       "I am not part of an organization                                                                                1\n",
       "University                                                                                                      1\n",
       "Diplomatic mission having 50 staff members both expats and nationals                                            1\n",
       "4000.0                                                                                                          1\n",
       "500 students                                                                                                    1\n",
       "........                                                                                                        1\n",
       "Medium-sized enterprise, between 51 and 250 employees, Large-sized enterprise, more than 250 employees          1\n",
       "Micro-sized enterprise - until  10 employees, Umbrella  organiation nfrom Startups                              1\n",
       "As I'm a student that's why I've no staff                                                                       1\n",
       "3000.0                                                                                                          1\n",
       "Small-sized enterprise, between 11 and 50 employees, Medium-sized enterprise, between 51 and 250 employees      1\n",
       "Individual entrepreneur, Collaborating with other indivuduak entrepreneurs - GIG economy                        1\n",
       "Unemployed                                                                                                      1\n",
       "6 (Steward owner)                                                                                               1\n",
       "Na                                                                                                              1\n",
       "I do not work yet.                                                                                              1\n",
       "Reseacherl                                                                                                      1\n",
       "i'm still under education                                                                                       1\n",
       "Global company                                                                                                  1\n",
       "Student                                                                                                         1\n",
       "Empreendedor Individual, Consultor de sociedade civil                                                           1\n",
       "Name: Tamanho da empresa, dtype: int64"
      ]
     },
     "execution_count": 102,
     "metadata": {},
     "output_type": "execute_result"
    }
   ],
   "source": [
    "df_respondentes['Tamanho da empresa'].value_counts()"
   ]
  },
  {
   "cell_type": "code",
   "execution_count": 103,
   "id": "e89abeee",
   "metadata": {},
   "outputs": [],
   "source": [
    "# Empresa Grande\n",
    "df_respondentes['Tamanho da empresa'] = df_respondentes['Tamanho da empresa'].replace([30000.0, 'Grandes empresas - mais de 250 funcionários', 'Grande  - mais de 250 funcionários', 'Large-sized enterprise, more than 250 employees'  ], 'Grande')"
   ]
  },
  {
   "cell_type": "code",
   "execution_count": 104,
   "id": "314bc430",
   "metadata": {},
   "outputs": [],
   "source": [
    "# Empresa Média\n",
    "df_respondentes['Tamanho da empresa'] = df_respondentes['Tamanho da empresa'].replace([ 'Médias  - de 51 a 250 funcionários'], 'Média')"
   ]
  },
  {
   "cell_type": "code",
   "execution_count": 105,
   "id": "f0e08d05",
   "metadata": {},
   "outputs": [],
   "source": [
    "# Empresa Pequena\n",
    "df_respondentes['Tamanho da empresa'] = df_respondentes['Tamanho da empresa'].replace(['Pequena - de 11 até 50 funcionários', 'Empreendedor Individual, Pequena - de 11 até 50 funcionários',  'Small-sized enterprise, between 11 and 50 employees' ], 'Pequena')"
   ]
  },
  {
   "cell_type": "code",
   "execution_count": 106,
   "id": "7c0529a1",
   "metadata": {},
   "outputs": [],
   "source": [
    "# Microempresa\n",
    "df_respondentes['Tamanho da empresa'] = df_respondentes['Tamanho da empresa'].replace(['Micro - até 10 funcionários'], 'Microempresa')"
   ]
  },
  {
   "cell_type": "code",
   "execution_count": 107,
   "id": "43ddcb49",
   "metadata": {},
   "outputs": [],
   "source": [
    "# Não possui empresa\n",
    "df_respondentes['Tamanho da empresa'] = df_respondentes['Tamanho da empresa'].replace([ 'Pesquisador', 'não tenho empresa', 'Não se aplica', 'universidade', 'Universidade ', 'estudante', 'Não tenho empresa.'], 'Não possui empresa')"
   ]
  },
  {
   "cell_type": "code",
   "execution_count": 108,
   "id": "e57a73a8",
   "metadata": {},
   "outputs": [],
   "source": [
    "# MEI\n",
    "df_respondentes['Tamanho da empresa'] = df_respondentes['Tamanho da empresa'].replace([ 'Empreendedor Individual', 'Empreendedor Individual, Consultor de sociedade civil' ], 'Empreendedor individual')"
   ]
  },
  {
   "cell_type": "code",
   "execution_count": 109,
   "id": "e76d746c",
   "metadata": {},
   "outputs": [
    {
     "data": {
      "text/plain": [
       "array(['Grande', 'Individual entrepreneur', 'Pequena',\n",
       "       'Micro-sized enterprise - until  10 employees',\n",
       "       'Medium-sized enterprise, between 51 and 250 employees',\n",
       "       'Diplomatic mission having 50 staff members both expats and nationals',\n",
       "       4000.0,\n",
       "       'Micro-sized enterprise - until  10 employees, Small-sized enterprise, between 11 and 50 employees',\n",
       "       'University', '500 students', '........',\n",
       "       'Medium-sized enterprise, between 51 and 250 employees, Large-sized enterprise, more than 250 employees',\n",
       "       nan,\n",
       "       'Micro-sized enterprise - until  10 employees, Umbrella  organiation nfrom Startups',\n",
       "       \"As I'm a student that's why I've no staff\", 3000.0, 'University ',\n",
       "       0.0,\n",
       "       'Small-sized enterprise, between 11 and 50 employees, Medium-sized enterprise, between 51 and 250 employees',\n",
       "       'Individual entrepreneur, Micro-sized enterprise - until  10 employees',\n",
       "       'Unemployed', '6 (Steward owner)', 'Na', 'I do not work yet.',\n",
       "       'Reseacherl', \"i'm still under education\", 'no', 'Global company',\n",
       "       'Student ',\n",
       "       'Individual entrepreneur, Collaborating with other indivuduak entrepreneurs - GIG economy',\n",
       "       'I am not part of an organization',\n",
       "       'Impresa di medie dimensioni, tra 51 e 250 dipendenti',\n",
       "       'Impresa di grandi dimensioni, più di 250 dipendenti',\n",
       "       'Imprenditore individuale',\n",
       "       'Impresa di micro dimensioni - fino a 10 dipendenti',\n",
       "       'Impresa di piccole dimensioni, tra 11 e 50 dipendenti',\n",
       "       'No tenho empresa.', 'Universidade',\n",
       "       'Grande - mais de 250 funcionários',\n",
       "       'Médias - de 51 a 250 funcionários', 'Não possui empresa',\n",
       "       'No tenho empresa', 'Microempresa', 'Empreendedor individual',\n",
       "       'No se aplica'], dtype=object)"
      ]
     },
     "execution_count": 109,
     "metadata": {},
     "output_type": "execute_result"
    }
   ],
   "source": [
    "df_respondentes['Tamanho da empresa'].unique()"
   ]
  },
  {
   "cell_type": "markdown",
   "id": "c48b727b",
   "metadata": {},
   "source": [
    "# Mapeando e substituindo os valores, coluna 'Setor da organização'"
   ]
  },
  {
   "cell_type": "code",
   "execution_count": 110,
   "id": "2c26c713",
   "metadata": {},
   "outputs": [
    {
     "data": {
      "text/plain": [
       "array(['Quinary Sector (involves non-profit services such as health, education, culture, research (unpaid), police, firefighters, civil guard and non-governmental organizations).',\n",
       "       'Quinary Sector ',\n",
       "       'Quaternary Sector (involves intellectual activities, such as information generation and sharing)',\n",
       "       'Secondary Sector (involves the transformation of raw materials into goods), Tertiary sector (involves trade and the provision of services to consumers and /or companies)',\n",
       "       'Primary Sector',\n",
       "       'Tertiary sector (involves trade and the provision of services to consumers and /or companies)',\n",
       "       'Secondary Sector (involves the transformation of raw materials into goods), Quinary Sector (involves non-profit services such as health, education, culture, research (unpaid), police, firefighters, civil guard and non-governmental organizations).',\n",
       "       'Quaternary Sector ',\n",
       "       'Tertiary sector (involves trade and the provision of services to consumers and /or companies), Quaternary Sector (involves intellectual activities, such as information generation and sharing)',\n",
       "       'Research sector',\n",
       "       'Primary Sector (involves the extraction and/or production of raw materials), Secondary Sector (involves the transformation of raw materials into goods), Quaternary Sector (involves intellectual activities, such as information generation and sharing)',\n",
       "       'Quaternary Sector (involves intellectual activities, such as information generation and sharing), Quinary Sector (involves non-profit services such as health, education, culture, research (unpaid), police, firefighters, civil guard and non-governmental organizations).',\n",
       "       'Quaternary Sector', 'Quinary Sector', 'Tertiary Sector',\n",
       "       'Tertiary sector', 'Tertiary sector ', 'Primary Sector ',\n",
       "       'Secondary Sector', 'Secondary Sector ', 'Tertiary Sector ',\n",
       "       'Research and education', 'university', nan,\n",
       "       'Primary Sector (involves the extraction and/or production of raw materials)',\n",
       "       'Primary sector',\n",
       "       'Secondary Sector (involves the transformation of raw materials into goods)',\n",
       "       'University',\n",
       "       'Secondary Sector (involves the transformation of raw materials into goods), Tertiary sector (involves trade and the provision of services to consumers and /or companies), Quaternary Sector (involves intellectual activities, such as information generation and sharing)',\n",
       "       'Secondary Sector (involves the transformation of raw materials into goods), Quaternary Sector (involves intellectual activities, such as information generation and sharing), PhD',\n",
       "       'Tertiary sector (involves trade and the provision of services to consumers and /or companies), Quaternary Sector (involves intellectual activities, such as information generation and sharing), Quinary Sector (involves non-profit services such as health, education, culture, research (unpaid), police, firefighters, civil guard and non-governmental organizations).',\n",
       "       'Secondary Sector (involves the transformation of raw materials into goods), Tertiary sector (involves trade and the provision of services to consumers and /or companies), Quaternary Sector (involves intellectual activities, such as information generation and sharing), Quinary Sector (involves non-profit services such as health, education, culture, research (unpaid), police, firefighters, civil guard and non-governmental organizations).',\n",
       "       'Primary Sector (involves the extraction and/or production of raw materials), Secondary Sector (involves the transformation of raw materials into goods), Tertiary sector (involves trade and the provision of services to consumers and /or companies), Quaternary Sector (involves intellectual activities, such as information generation and sharing), Quinary Sector (involves non-profit services such as health, education, culture, research (unpaid), police, firefighters, civil guard and non-governmental organizations).',\n",
       "       'Tertiary sector (involves trade and the provision of services to consumers and /or companies), Quinary Sector (involves non-profit services such as health, education, culture, research (unpaid), police, firefighters, civil guard and non-governmental organizations).',\n",
       "       'municipality', 'Unemployed', \"i'm still under education\",\n",
       "       'Primary Sector (involves the extraction and/or production of raw materials), Secondary Sector (involves the transformation of raw materials into goods), Tertiary sector (involves trade and the provision of services to consumers and /or companies), Quinary Sector (involves non-profit services such as health, education, culture, research (unpaid), police, firefighters, civil guard and non-governmental organizations).',\n",
       "       'cross-sectoral /Industrial ecology',\n",
       "       'Secondary Sector (involves the transformation of raw materials into goods), Quaternary Sector (involves intellectual activities, such as information generation and sharing)',\n",
       "       'Secondary Sector (involves the transformation of raw materials into goods), Tertiary sector (involves trade and the provision of services to consumers and /or companies), Quaternary Sector (involves intellectual activities, such as information generation and sharing), Quinary Sector (involves non-profit services such as health, education, culture, research (unpaid), police, firefighters, civil guard and non-governmental organizations)., Multiple Organization I work for',\n",
       "       'Primary Sector (involves the extraction and/or production of raw materials), Secondary Sector (involves the transformation of raw materials into goods), Tertiary sector (involves trade and the provision of services to consumers and /or companies), Quaternary Sector (involves intellectual activities, such as information generation and sharing), Quinary Sector (involves non-profit services such as health, education, culture, research (unpaid), police, firefighters, civil guard and non-governmental organizations)., Did Circular Economy & Eco-design it-research in Berlin 2014-2018',\n",
       "       'Quaternary Sector (involves intellectual activities, such as information generation and sharing), Preparation of national legislation.',\n",
       "       'Secondary Sector (involves the transformation of raw materials into goods), Tertiary sector (involves trade and the provision of services to consumers and /or companies), Quaternary Sector (involves intellectual activities, such as information generation and sharing), Sustainable research and commercialization',\n",
       "       'Settore secondario (comporta la trasformazione di materie prime in beni)',\n",
       "       'Settore terziario (coinvolge il commercio e la fornitura di servizi ai consumatori e / o alle imprese)',\n",
       "       'Settore secondario (comporta la trasformazione di materie prime in beni), Settore terziario (coinvolge il commercio e la fornitura di servizi ai consumatori e / o alle imprese), Settore quaternario (coinvolge attività intellettuali, come la generazione e la condivisione di informazioni)',\n",
       "       'Settore secondario (comporta la trasformazione di materie prime in beni), Settore terziario (coinvolge il commercio e la fornitura di servizi ai consumatori e / o alle imprese)',\n",
       "       'Settore quaternario (coinvolge attività intellettuali, come la generazione e la condivisione di informazioni)',\n",
       "       'Settore terziario (coinvolge il commercio e la fornitura di servizi ai consumatori e / o alle imprese), Commercializzazione impianti di riciclo',\n",
       "       'Settore terziario (coinvolge il commercio e la fornitura di servizi ai consumatori e / o alle imprese), Settore quaternario (coinvolge attività intellettuali, come la generazione e la condivisione di informazioni)',\n",
       "       'Settore quinario (comprende servizi senza scopo di lucro quali sanità, istruzione, cultura, ricerca (non retribuita), polizia, vigili del fuoco, guardia civile e organizzazioni non governative).',\n",
       "       'Settore quaternario (coinvolge attività intellettuali, come la generazione e la condivisione di informazioni), Settore quinario (comprende servizi senza scopo di lucro quali sanità, istruzione, cultura, ricerca (non retribuita), polizia, vigili del fuoco, guardia civile e organizzazioni non governative).',\n",
       "       'Setor Quaternário (envolve atividades intelectuais, como geração e compartilhamento de informação)',\n",
       "       'Setor Secundário (envolve a transformação de matérias-primas em bens)',\n",
       "       'Setor Quinário (envolve os serviços sem fins lucrativos, como a saúde, a educação, a cultura, a investigação (não remunerada), a polícia, os bombeiros, a guarda civil e organizações não governamentais).'],\n",
       "      dtype=object)"
      ]
     },
     "execution_count": 110,
     "metadata": {},
     "output_type": "execute_result"
    }
   ],
   "source": [
    "df_respondentes['Setor da organização'].unique()"
   ]
  },
  {
   "cell_type": "code",
   "execution_count": null,
   "id": "626f0f22",
   "metadata": {},
   "outputs": [],
   "source": [
    "df_respondentes['Setor da organização'] = df_respondentes['Setor da organização'].replace(['Setor Quaternário (envolve atividades intelectuais, como geração e compartilhamento de informação)', 'Setor Quaternário (envolve atividades intelectuais, como geração e compartilhamento de informação), Setor Quinário (envolve os serviços sem fins lucrativos, como a saúde, a educação, a cultura, a investigação (não remunerada), a polícia, os bombeiros, a guarda civil e organizações não governamentais).', 'Quaternary Sector (involves intellectual activities, such as information generation and sharing)'], 'Setor Quaternário')"
   ]
  },
  {
   "cell_type": "code",
   "execution_count": 111,
   "id": "168f87ce",
   "metadata": {},
   "outputs": [],
   "source": [
    "df_respondentes['Setor da organização'] = df_respondentes['Setor da organização'].replace(['Setor Quinário (envolve os serviços sem fins lucrativos, como a saúde, a educação, a cultura, a investigação (não remunerada), a polícia, os bombeiros, a guarda civil e organizações não governamentais).',  'Quinary Sector (involves non-profit services such as health, education, culture, research (unpaid), police, firefighters, civil guard and non-governmental organizations).' ], 'Setor Quinário')"
   ]
  },
  {
   "cell_type": "code",
   "execution_count": 113,
   "id": "24a7ae70",
   "metadata": {},
   "outputs": [],
   "source": [
    "df_respondentes['Setor da organização'] = df_respondentes['Setor da organização'].replace(['Setor Terciário (envolve o comércio e o fornecimento de serviços a consumidores e/ou empresas)'], 'Setor Terciário')"
   ]
  },
  {
   "cell_type": "code",
   "execution_count": 114,
   "id": "5bbea968",
   "metadata": {},
   "outputs": [],
   "source": [
    "df_respondentes['Setor da organização'] = df_respondentes['Setor da organização'].replace(['Setor Secundário (envolve a transformação de matérias-primas em bens)', 'Setor Secundário (envolve a transformação de matérias-primas em bens), Setor Terciário (envolve o comércio e o fornecimento de serviços a consumidores e/ou empresas), Consultoria em gestão'], 'Setor Secundário')"
   ]
  },
  {
   "cell_type": "code",
   "execution_count": 115,
   "id": "64ef551a",
   "metadata": {},
   "outputs": [],
   "source": [
    "df_respondentes['Setor da organização'] = df_respondentes['Setor da organização'].replace(['Todos os setores '], 'Todos os setores')"
   ]
  },
  {
   "cell_type": "code",
   "execution_count": 116,
   "id": "5770fd6a",
   "metadata": {},
   "outputs": [],
   "source": [
    "df_respondentes['Setor da organização'] = df_respondentes['Setor da organização'].replace('Setor Terciário (envolve o comércio e o fornecimento de serviços a consumidores e/ou empresas), Setor Quaternário (envolve atividades intelectuais, como geração e compartilhamento de informação)', 'Setor Terciário e Quarternário')"
   ]
  },
  {
   "cell_type": "markdown",
   "id": "d88e18c9",
   "metadata": {},
   "source": [
    "# Organizando coluna 'Localidade' ***"
   ]
  },
  {
   "cell_type": "code",
   "execution_count": null,
   "id": "4dc51e84",
   "metadata": {},
   "outputs": [],
   "source": [
    "df_respondentes"
   ]
  },
  {
   "cell_type": "markdown",
   "id": "f4838c9f",
   "metadata": {},
   "source": [
    "# Organizando coluna 'Seguimento de Atuação' ***"
   ]
  },
  {
   "cell_type": "code",
   "execution_count": null,
   "id": "057c6b3d",
   "metadata": {
    "scrolled": false
   },
   "outputs": [],
   "source": [
    "df_respondentes['Seguimento de atuação'].value_counts()"
   ]
  },
  {
   "cell_type": "code",
   "execution_count": null,
   "id": "15fec64f",
   "metadata": {},
   "outputs": [],
   "source": [
    "df.head()"
   ]
  },
  {
   "cell_type": "code",
   "execution_count": null,
   "id": "a94932d4",
   "metadata": {},
   "outputs": [],
   "source": []
  },
  {
   "cell_type": "code",
   "execution_count": null,
   "id": "45054d93",
   "metadata": {},
   "outputs": [],
   "source": []
  },
  {
   "cell_type": "code",
   "execution_count": null,
   "id": "01476138",
   "metadata": {},
   "outputs": [],
   "source": []
  },
  {
   "cell_type": "code",
   "execution_count": null,
   "id": "1f9b197b",
   "metadata": {},
   "outputs": [],
   "source": []
  },
  {
   "cell_type": "code",
   "execution_count": null,
   "id": "dea9a0ba",
   "metadata": {},
   "outputs": [],
   "source": []
  },
  {
   "cell_type": "code",
   "execution_count": null,
   "id": "50933af6",
   "metadata": {},
   "outputs": [],
   "source": []
  },
  {
   "cell_type": "code",
   "execution_count": null,
   "id": "422eded2",
   "metadata": {},
   "outputs": [],
   "source": []
  },
  {
   "cell_type": "code",
   "execution_count": null,
   "id": "0116894f",
   "metadata": {},
   "outputs": [],
   "source": []
  },
  {
   "cell_type": "code",
   "execution_count": null,
   "id": "8fde8533",
   "metadata": {},
   "outputs": [],
   "source": []
  },
  {
   "cell_type": "code",
   "execution_count": null,
   "id": "ec4d815f",
   "metadata": {},
   "outputs": [],
   "source": []
  },
  {
   "cell_type": "code",
   "execution_count": null,
   "id": "459a6fc2",
   "metadata": {},
   "outputs": [],
   "source": []
  },
  {
   "cell_type": "markdown",
   "id": "0cc93a38",
   "metadata": {},
   "source": [
    "# Concatenando df_respondentes com o original após tratado."
   ]
  },
  {
   "cell_type": "code",
   "execution_count": 117,
   "id": "5d456b9a",
   "metadata": {},
   "outputs": [],
   "source": [
    "df_final = pd.concat([df, df_respondentes], axis=1)"
   ]
  },
  {
   "cell_type": "code",
   "execution_count": 118,
   "id": "d1092a85",
   "metadata": {},
   "outputs": [
    {
     "data": {
      "text/html": [
       "<div>\n",
       "<style scoped>\n",
       "    .dataframe tbody tr th:only-of-type {\n",
       "        vertical-align: middle;\n",
       "    }\n",
       "\n",
       "    .dataframe tbody tr th {\n",
       "        vertical-align: top;\n",
       "    }\n",
       "\n",
       "    .dataframe thead th {\n",
       "        text-align: right;\n",
       "    }\n",
       "</style>\n",
       "<table border=\"1\" class=\"dataframe\">\n",
       "  <thead>\n",
       "    <tr style=\"text-align: right;\">\n",
       "      <th></th>\n",
       "      <th>1. INTER-FIRM COLLABORATION: Has the purpose to arrange collaboration and business relations inter-firm, it involves sharing of resources and information.. Rules are needed because interdependencies are increased and become more specific as compared to collaboration in linear systems. This strategy: [Complies with regional and national regulations]</th>\n",
       "      <th>1. INTER-FIRM COLLABORATION: Has the purpose to arrange collaboration and business relations inter-firm, it involves sharing of resources and information.. Rules are needed because interdependencies are increased and become more specific as compared to collaboration in linear systems. This strategy: [Helps to increase public acceptance of the circular economy]</th>\n",
       "      <th>1. INTER-FIRM COLLABORATION: Has the purpose to arrange collaboration and business relations inter-firm, it involves sharing of resources and information.. Rules are needed because interdependencies are increased and become more specific as compared to collaboration in linear systems. This strategy: [Enhances the absorption of the regional workforce]</th>\n",
       "      <th>1. INTER-FIRM COLLABORATION: Has the purpose to arrange collaboration and business relations inter-firm, it involves sharing of resources and information.. Rules are needed because interdependencies are increased and become more specific as compared to collaboration in linear systems. This strategy: [Prevents incorrect waste disposal]</th>\n",
       "      <th>1. INTER-FIRM COLLABORATION: Has the purpose to arrange collaboration and business relations inter-firm, it involves sharing of resources and information.. Rules are needed because interdependencies are increased and become more specific as compared to collaboration in linear systems. This strategy: [Contributes to the preservation of the environment]</th>\n",
       "      <th>1. INTER-FIRM COLLABORATION: Has the purpose to arrange collaboration and business relations inter-firm, it involves sharing of resources and information.. Rules are needed because interdependencies are increased and become more specific as compared to collaboration in linear systems. This strategy: [Has a cost for implementation]</th>\n",
       "      <th>1. INTER-FIRM COLLABORATION: Has the purpose to arrange collaboration and business relations inter-firm, it involves sharing of resources and information.. Rules are needed because interdependencies are increased and become more specific as compared to collaboration in linear systems. This strategy: [Has a cost to maintain  in operation]</th>\n",
       "      <th>1. INTER-FIRM COLLABORATION: Has the purpose to arrange collaboration and business relations inter-firm, it involves sharing of resources and information.. Rules are needed because interdependencies are increased and become more specific as compared to collaboration in linear systems. This strategy: [Has a difficulty to implement, due to the knowledge, technologies and solutions required]</th>\n",
       "      <th>1. INTER-FIRM COLLABORATION: Has the purpose to arrange collaboration and business relations inter-firm, it involves sharing of resources and information.. Rules are needed because interdependencies are increased and become more specific as compared to collaboration in linear systems. This strategy: [Has obstacles/barriers, based on the particular regional characteristics ]</th>\n",
       "      <th>1. INTER-FIRM COLLABORATION: Has the purpose to arrange collaboration and business relations inter-firm, it involves sharing of resources and information.. Rules are needed because interdependencies are increased and become more specific as compared to collaboration in linear systems. This strategy: [Has the potential to remain constant, considering mainly maintenance requirements related to  specialized personnel and Yesplicity of operations]</th>\n",
       "      <th>...</th>\n",
       "      <th>24. CONSTRUCTION &amp; DEMOLITION (C&amp;D) WASTE MANAGEMENT: Proper management of C&amp;D waste and recycled materials – including the correct handling of hazardous waste - can have major benefits in terms of sustainability and the quality of life. This strategy: [Has a difficulty to implement, due to the knowledge, technologies and solutions required]</th>\n",
       "      <th>24. CONSTRUCTION &amp; DEMOLITION (C&amp;D) WASTE MANAGEMENT: Proper management of C&amp;D waste and recycled materials – including the correct handling of hazardous waste - can have major benefits in terms of sustainability and the quality of life. This strategy: [Has obstacles/barriers, based on the particular regional characteristics ]</th>\n",
       "      <th>24. CONSTRUCTION &amp; DEMOLITION (C&amp;D) WASTE MANAGEMENT: Proper management of C&amp;D waste and recycled materials – including the correct handling of hazardous waste - can have major benefits in terms of sustainability and the quality of life. This strategy: [Has the potential to remain constant, considering mainly maintenance requirements for specialized personnel and Yesplicity of operations]</th>\n",
       "      <th>Localidade</th>\n",
       "      <th>Atuação direta com a EC</th>\n",
       "      <th>Nível de conhecimento sobre EC</th>\n",
       "      <th>Seguimento de atuação</th>\n",
       "      <th>Setor da organização</th>\n",
       "      <th>Tamanho da empresa</th>\n",
       "      <th>Cargo</th>\n",
       "    </tr>\n",
       "  </thead>\n",
       "  <tbody>\n",
       "    <tr>\n",
       "      <th>0</th>\n",
       "      <td>High</td>\n",
       "      <td>High</td>\n",
       "      <td>Neutral</td>\n",
       "      <td>High</td>\n",
       "      <td>High</td>\n",
       "      <td>High</td>\n",
       "      <td>High</td>\n",
       "      <td>High</td>\n",
       "      <td>High</td>\n",
       "      <td>Neutral</td>\n",
       "      <td>...</td>\n",
       "      <td>High</td>\n",
       "      <td>High</td>\n",
       "      <td>Neutral</td>\n",
       "      <td>UK</td>\n",
       "      <td>Sim</td>\n",
       "      <td>Very High</td>\n",
       "      <td>Academia/Research Institution</td>\n",
       "      <td>Setor Quinário</td>\n",
       "      <td>Grande</td>\n",
       "      <td>Pesquisador</td>\n",
       "    </tr>\n",
       "    <tr>\n",
       "      <th>1</th>\n",
       "      <td>High</td>\n",
       "      <td>High</td>\n",
       "      <td>High</td>\n",
       "      <td>High</td>\n",
       "      <td>High</td>\n",
       "      <td>High</td>\n",
       "      <td>High</td>\n",
       "      <td>High</td>\n",
       "      <td>High</td>\n",
       "      <td>High</td>\n",
       "      <td>...</td>\n",
       "      <td>High</td>\n",
       "      <td>High</td>\n",
       "      <td>High</td>\n",
       "      <td>Brazil</td>\n",
       "      <td>Sim</td>\n",
       "      <td>High</td>\n",
       "      <td>Academia/Research</td>\n",
       "      <td>Quinary Sector</td>\n",
       "      <td>Grande</td>\n",
       "      <td>Operacional</td>\n",
       "    </tr>\n",
       "    <tr>\n",
       "      <th>2</th>\n",
       "      <td>Neutral</td>\n",
       "      <td>Very high</td>\n",
       "      <td>Very high</td>\n",
       "      <td>High</td>\n",
       "      <td>High</td>\n",
       "      <td>Low</td>\n",
       "      <td>Low</td>\n",
       "      <td>Neutral</td>\n",
       "      <td>Neutral</td>\n",
       "      <td>High</td>\n",
       "      <td>...</td>\n",
       "      <td>Very high</td>\n",
       "      <td>High</td>\n",
       "      <td>High</td>\n",
       "      <td>Indianapolis, IN, USA</td>\n",
       "      <td>Sim</td>\n",
       "      <td>Very High</td>\n",
       "      <td>Consultancy</td>\n",
       "      <td>Quaternary Sector (involves intellectual activ...</td>\n",
       "      <td>Individual entrepreneur</td>\n",
       "      <td>Gerente</td>\n",
       "    </tr>\n",
       "    <tr>\n",
       "      <th>3</th>\n",
       "      <td>High</td>\n",
       "      <td>Low</td>\n",
       "      <td>High</td>\n",
       "      <td>High</td>\n",
       "      <td>High</td>\n",
       "      <td>High</td>\n",
       "      <td>High</td>\n",
       "      <td>Very high</td>\n",
       "      <td>Very high</td>\n",
       "      <td>High</td>\n",
       "      <td>...</td>\n",
       "      <td>High</td>\n",
       "      <td>High</td>\n",
       "      <td>High</td>\n",
       "      <td>India</td>\n",
       "      <td>No</td>\n",
       "      <td>High</td>\n",
       "      <td>Academia/Research Institution</td>\n",
       "      <td>Quaternary Sector (involves intellectual activ...</td>\n",
       "      <td>Pequena</td>\n",
       "      <td>Gerente</td>\n",
       "    </tr>\n",
       "    <tr>\n",
       "      <th>4</th>\n",
       "      <td>Neutral</td>\n",
       "      <td>High</td>\n",
       "      <td>High</td>\n",
       "      <td>High</td>\n",
       "      <td>High</td>\n",
       "      <td>High</td>\n",
       "      <td>High</td>\n",
       "      <td>Very high</td>\n",
       "      <td>Very high</td>\n",
       "      <td>Neutral</td>\n",
       "      <td>...</td>\n",
       "      <td>High</td>\n",
       "      <td>Very high</td>\n",
       "      <td>Very high</td>\n",
       "      <td>Spain, Barcelona</td>\n",
       "      <td>Sim</td>\n",
       "      <td>Very High</td>\n",
       "      <td>Consultancy</td>\n",
       "      <td>Secondary Sector (involves the transformation ...</td>\n",
       "      <td>Micro-sized enterprise - until  10 employees</td>\n",
       "      <td>Gerente</td>\n",
       "    </tr>\n",
       "  </tbody>\n",
       "</table>\n",
       "<p>5 rows × 247 columns</p>\n",
       "</div>"
      ],
      "text/plain": [
       "  1. INTER-FIRM COLLABORATION: Has the purpose to arrange collaboration and business relations inter-firm, it involves sharing of resources and information.. Rules are needed because interdependencies are increased and become more specific as compared to collaboration in linear systems. This strategy: [Complies with regional and national regulations]  \\\n",
       "0                                               High                                                                                                                                                                                                                                                                                                               \n",
       "1                                               High                                                                                                                                                                                                                                                                                                               \n",
       "2                                            Neutral                                                                                                                                                                                                                                                                                                               \n",
       "3                                               High                                                                                                                                                                                                                                                                                                               \n",
       "4                                            Neutral                                                                                                                                                                                                                                                                                                               \n",
       "\n",
       "  1. INTER-FIRM COLLABORATION: Has the purpose to arrange collaboration and business relations inter-firm, it involves sharing of resources and information.. Rules are needed because interdependencies are increased and become more specific as compared to collaboration in linear systems. This strategy: [Helps to increase public acceptance of the circular economy]  \\\n",
       "0                                               High                                                                                                                                                                                                                                                                                                                           \n",
       "1                                               High                                                                                                                                                                                                                                                                                                                           \n",
       "2                                          Very high                                                                                                                                                                                                                                                                                                                           \n",
       "3                                                Low                                                                                                                                                                                                                                                                                                                           \n",
       "4                                               High                                                                                                                                                                                                                                                                                                                           \n",
       "\n",
       "  1. INTER-FIRM COLLABORATION: Has the purpose to arrange collaboration and business relations inter-firm, it involves sharing of resources and information.. Rules are needed because interdependencies are increased and become more specific as compared to collaboration in linear systems. This strategy: [Enhances the absorption of the regional workforce]  \\\n",
       "0                                            Neutral                                                                                                                                                                                                                                                                                                                 \n",
       "1                                               High                                                                                                                                                                                                                                                                                                                 \n",
       "2                                          Very high                                                                                                                                                                                                                                                                                                                 \n",
       "3                                               High                                                                                                                                                                                                                                                                                                                 \n",
       "4                                               High                                                                                                                                                                                                                                                                                                                 \n",
       "\n",
       "  1. INTER-FIRM COLLABORATION: Has the purpose to arrange collaboration and business relations inter-firm, it involves sharing of resources and information.. Rules are needed because interdependencies are increased and become more specific as compared to collaboration in linear systems. This strategy: [Prevents incorrect waste disposal]  \\\n",
       "0                                               High                                                                                                                                                                                                                                                                                                 \n",
       "1                                               High                                                                                                                                                                                                                                                                                                 \n",
       "2                                               High                                                                                                                                                                                                                                                                                                 \n",
       "3                                               High                                                                                                                                                                                                                                                                                                 \n",
       "4                                               High                                                                                                                                                                                                                                                                                                 \n",
       "\n",
       "  1. INTER-FIRM COLLABORATION: Has the purpose to arrange collaboration and business relations inter-firm, it involves sharing of resources and information.. Rules are needed because interdependencies are increased and become more specific as compared to collaboration in linear systems. This strategy: [Contributes to the preservation of the environment]  \\\n",
       "0                                               High                                                                                                                                                                                                                                                                                                                  \n",
       "1                                               High                                                                                                                                                                                                                                                                                                                  \n",
       "2                                               High                                                                                                                                                                                                                                                                                                                  \n",
       "3                                               High                                                                                                                                                                                                                                                                                                                  \n",
       "4                                               High                                                                                                                                                                                                                                                                                                                  \n",
       "\n",
       "  1. INTER-FIRM COLLABORATION: Has the purpose to arrange collaboration and business relations inter-firm, it involves sharing of resources and information.. Rules are needed because interdependencies are increased and become more specific as compared to collaboration in linear systems. This strategy: [Has a cost for implementation]  \\\n",
       "0                                               High                                                                                                                                                                                                                                                                                             \n",
       "1                                               High                                                                                                                                                                                                                                                                                             \n",
       "2                                                Low                                                                                                                                                                                                                                                                                             \n",
       "3                                               High                                                                                                                                                                                                                                                                                             \n",
       "4                                               High                                                                                                                                                                                                                                                                                             \n",
       "\n",
       "  1. INTER-FIRM COLLABORATION: Has the purpose to arrange collaboration and business relations inter-firm, it involves sharing of resources and information.. Rules are needed because interdependencies are increased and become more specific as compared to collaboration in linear systems. This strategy: [Has a cost to maintain  in operation]  \\\n",
       "0                                               High                                                                                                                                                                                                                                                                                                    \n",
       "1                                               High                                                                                                                                                                                                                                                                                                    \n",
       "2                                                Low                                                                                                                                                                                                                                                                                                    \n",
       "3                                               High                                                                                                                                                                                                                                                                                                    \n",
       "4                                               High                                                                                                                                                                                                                                                                                                    \n",
       "\n",
       "  1. INTER-FIRM COLLABORATION: Has the purpose to arrange collaboration and business relations inter-firm, it involves sharing of resources and information.. Rules are needed because interdependencies are increased and become more specific as compared to collaboration in linear systems. This strategy: [Has a difficulty to implement, due to the knowledge, technologies and solutions required]  \\\n",
       "0                                               High                                                                                                                                                                                                                                                                                                                                                        \n",
       "1                                               High                                                                                                                                                                                                                                                                                                                                                        \n",
       "2                                            Neutral                                                                                                                                                                                                                                                                                                                                                        \n",
       "3                                          Very high                                                                                                                                                                                                                                                                                                                                                        \n",
       "4                                          Very high                                                                                                                                                                                                                                                                                                                                                        \n",
       "\n",
       "  1. INTER-FIRM COLLABORATION: Has the purpose to arrange collaboration and business relations inter-firm, it involves sharing of resources and information.. Rules are needed because interdependencies are increased and become more specific as compared to collaboration in linear systems. This strategy: [Has obstacles/barriers, based on the particular regional characteristics ]  \\\n",
       "0                                               High                                                                                                                                                                                                                                                                                                                                         \n",
       "1                                               High                                                                                                                                                                                                                                                                                                                                         \n",
       "2                                            Neutral                                                                                                                                                                                                                                                                                                                                         \n",
       "3                                          Very high                                                                                                                                                                                                                                                                                                                                         \n",
       "4                                          Very high                                                                                                                                                                                                                                                                                                                                         \n",
       "\n",
       "  1. INTER-FIRM COLLABORATION: Has the purpose to arrange collaboration and business relations inter-firm, it involves sharing of resources and information.. Rules are needed because interdependencies are increased and become more specific as compared to collaboration in linear systems. This strategy: [Has the potential to remain constant, considering mainly maintenance requirements related to  specialized personnel and Yesplicity of operations]  \\\n",
       "0                                            Neutral                                                                                                                                                                                                                                                                                                                                                                                                                \n",
       "1                                               High                                                                                                                                                                                                                                                                                                                                                                                                                \n",
       "2                                               High                                                                                                                                                                                                                                                                                                                                                                                                                \n",
       "3                                               High                                                                                                                                                                                                                                                                                                                                                                                                                \n",
       "4                                            Neutral                                                                                                                                                                                                                                                                                                                                                                                                                \n",
       "\n",
       "   ...  \\\n",
       "0  ...   \n",
       "1  ...   \n",
       "2  ...   \n",
       "3  ...   \n",
       "4  ...   \n",
       "\n",
       "  24. CONSTRUCTION & DEMOLITION (C&D) WASTE MANAGEMENT: Proper management of C&D waste and recycled materials – including the correct handling of hazardous waste - can have major benefits in terms of sustainability and the quality of life. This strategy: [Has a difficulty to implement, due to the knowledge, technologies and solutions required]  \\\n",
       "0                                               High                                                                                                                                                                                                                                                                                                        \n",
       "1                                               High                                                                                                                                                                                                                                                                                                        \n",
       "2                                          Very high                                                                                                                                                                                                                                                                                                        \n",
       "3                                               High                                                                                                                                                                                                                                                                                                        \n",
       "4                                               High                                                                                                                                                                                                                                                                                                        \n",
       "\n",
       "  24. CONSTRUCTION & DEMOLITION (C&D) WASTE MANAGEMENT: Proper management of C&D waste and recycled materials – including the correct handling of hazardous waste - can have major benefits in terms of sustainability and the quality of life. This strategy: [Has obstacles/barriers, based on the particular regional characteristics ]  \\\n",
       "0                                               High                                                                                                                                                                                                                                                                                         \n",
       "1                                               High                                                                                                                                                                                                                                                                                         \n",
       "2                                               High                                                                                                                                                                                                                                                                                         \n",
       "3                                               High                                                                                                                                                                                                                                                                                         \n",
       "4                                          Very high                                                                                                                                                                                                                                                                                         \n",
       "\n",
       "  24. CONSTRUCTION & DEMOLITION (C&D) WASTE MANAGEMENT: Proper management of C&D waste and recycled materials – including the correct handling of hazardous waste - can have major benefits in terms of sustainability and the quality of life. This strategy: [Has the potential to remain constant, considering mainly maintenance requirements for specialized personnel and Yesplicity of operations]  \\\n",
       "0                                            Neutral                                                                                                                                                                                                                                                                                                                                                        \n",
       "1                                               High                                                                                                                                                                                                                                                                                                                                                        \n",
       "2                                               High                                                                                                                                                                                                                                                                                                                                                        \n",
       "3                                               High                                                                                                                                                                                                                                                                                                                                                        \n",
       "4                                          Very high                                                                                                                                                                                                                                                                                                                                                        \n",
       "\n",
       "              Localidade Atuação direta com a EC  \\\n",
       "0                     UK                     Sim   \n",
       "1                 Brazil                     Sim   \n",
       "2  Indianapolis, IN, USA                     Sim   \n",
       "3                  India                      No   \n",
       "4       Spain, Barcelona                     Sim   \n",
       "\n",
       "  Nível de conhecimento sobre EC          Seguimento de atuação  \\\n",
       "0                      Very High  Academia/Research Institution   \n",
       "1                           High              Academia/Research   \n",
       "2                      Very High                    Consultancy   \n",
       "3                           High  Academia/Research Institution   \n",
       "4                      Very High                    Consultancy   \n",
       "\n",
       "                                Setor da organização  \\\n",
       "0                                     Setor Quinário   \n",
       "1                                    Quinary Sector    \n",
       "2  Quaternary Sector (involves intellectual activ...   \n",
       "3  Quaternary Sector (involves intellectual activ...   \n",
       "4  Secondary Sector (involves the transformation ...   \n",
       "\n",
       "                             Tamanho da empresa        Cargo  \n",
       "0                                        Grande  Pesquisador  \n",
       "1                                        Grande  Operacional  \n",
       "2                       Individual entrepreneur      Gerente  \n",
       "3                                       Pequena      Gerente  \n",
       "4  Micro-sized enterprise - until  10 employees      Gerente  \n",
       "\n",
       "[5 rows x 247 columns]"
      ]
     },
     "execution_count": 118,
     "metadata": {},
     "output_type": "execute_result"
    }
   ],
   "source": [
    "df_final.head()"
   ]
  },
  {
   "cell_type": "code",
   "execution_count": 119,
   "id": "43b192a9",
   "metadata": {},
   "outputs": [
    {
     "data": {
      "text/plain": [
       "1. INTER-FIRM COLLABORATION: Has the purpose to arrange collaboration and business relations inter-firm, it involves sharing of resources and information.. Rules are needed because interdependencies are increased and become more specific as compared to collaboration in linear systems. This strategy: [Complies with regional and national regulations]                 1\n",
       "1. INTER-FIRM COLLABORATION: Has the purpose to arrange collaboration and business relations inter-firm, it involves sharing of resources and information.. Rules are needed because interdependencies are increased and become more specific as compared to collaboration in linear systems. This strategy: [Helps to increase public acceptance of the circular economy]     1\n",
       "1. INTER-FIRM COLLABORATION: Has the purpose to arrange collaboration and business relations inter-firm, it involves sharing of resources and information.. Rules are needed because interdependencies are increased and become more specific as compared to collaboration in linear systems. This strategy: [Enhances the absorption of the regional workforce]               1\n",
       "1. INTER-FIRM COLLABORATION: Has the purpose to arrange collaboration and business relations inter-firm, it involves sharing of resources and information.. Rules are needed because interdependencies are increased and become more specific as compared to collaboration in linear systems. This strategy: [Prevents incorrect waste disposal]                               1\n",
       "1. INTER-FIRM COLLABORATION: Has the purpose to arrange collaboration and business relations inter-firm, it involves sharing of resources and information.. Rules are needed because interdependencies are increased and become more specific as compared to collaboration in linear systems. This strategy: [Contributes to the preservation of the environment]              1\n",
       "                                                                                                                                                                                                                                                                                                                                                                              ..\n",
       "Nível de conhecimento sobre EC                                                                                                                                                                                                                                                                                                                                                 1\n",
       "Seguimento de atuação                                                                                                                                                                                                                                                                                                                                                          3\n",
       "Setor da organização                                                                                                                                                                                                                                                                                                                                                           8\n",
       "Tamanho da empresa                                                                                                                                                                                                                                                                                                                                                             2\n",
       "Cargo                                                                                                                                                                                                                                                                                                                                                                         11\n",
       "Length: 247, dtype: int64"
      ]
     },
     "execution_count": 119,
     "metadata": {},
     "output_type": "execute_result"
    }
   ],
   "source": [
    "df_final.isna().sum()"
   ]
  },
  {
   "cell_type": "markdown",
   "id": "ae74c23b",
   "metadata": {},
   "source": [
    "# Padronizando as colunas das perguntas"
   ]
  },
  {
   "cell_type": "code",
   "execution_count": null,
   "id": "6dac7fe3",
   "metadata": {},
   "outputs": [],
   "source": [
    "cols_c = df.columns\n",
    "cols_c"
   ]
  },
  {
   "cell_type": "code",
   "execution_count": null,
   "id": "9ed90620",
   "metadata": {},
   "outputs": [],
   "source": [
    "# remoção do texto demasiadamente longo EN\n",
    "cont = 2 \n",
    "for itens in cols_c[2:]:\n",
    "    if '[' in itens[:-1]:\n",
    "        #print(cont)\n",
    "        init = itens.find(':')\n",
    "        pos = itens.find('This strategy')\n",
    "        #print(itens[:init]+ ':' + ' '+ itens[pos:])\n",
    "        cols_c.values[cont] = (itens[:init]+ ':' + ' '+ itens[pos:])\n",
    "    cont+=1"
   ]
  },
  {
   "cell_type": "markdown",
   "id": "d2162a1e",
   "metadata": {},
   "source": [
    "# Padronizando as Perguntas e Convertendo os valores da escala Likert"
   ]
  },
  {
   "cell_type": "code",
   "execution_count": null,
   "id": "45401bd5",
   "metadata": {},
   "outputs": [],
   "source": [
    "# padronização da numeração\n",
    "\n",
    "def padroniza_nomeclatura(vetor_colunas):\n",
    "    cont = 0\n",
    "    num = 1 \n",
    "    for itens in vetor_colunas[0:]:\n",
    "        if '[' in itens[:-1]:\n",
    "            #print(cont)\n",
    "            init = itens.find('.')\n",
    "            #print(itens[:init]+ ':' + ' '+ itens[pos:])\n",
    "            vetor_colunas.values[cont] = ('M'+itens[0:init]+'.'+str(num))\n",
    "            #print(num,cont)\n",
    "            if ((cont-1)%10==0) & ((cont-1)!=0):\n",
    "                num=1\n",
    "                #print(num,cont)\n",
    "            else:\n",
    "                num+=1\n",
    "        cont+=1\n",
    "    return(vetor_colunas)"
   ]
  },
  {
   "cell_type": "code",
   "execution_count": null,
   "id": "714f8415",
   "metadata": {},
   "outputs": [],
   "source": [
    "cols_c = padroniza_nomeclatura(cols_c)"
   ]
  },
  {
   "cell_type": "code",
   "execution_count": null,
   "id": "a2747638",
   "metadata": {},
   "outputs": [],
   "source": [
    "cols_c[0:]"
   ]
  },
  {
   "cell_type": "code",
   "execution_count": null,
   "id": "bb7a1206",
   "metadata": {},
   "outputs": [],
   "source": [
    "df.columns = cols_c"
   ]
  },
  {
   "cell_type": "code",
   "execution_count": null,
   "id": "650689ec",
   "metadata": {},
   "outputs": [],
   "source": [
    "df.columns"
   ]
  },
  {
   "cell_type": "markdown",
   "id": "d52ddceb",
   "metadata": {},
   "source": [
    "# Substituição de Escala Likert por Números"
   ]
  },
  {
   "cell_type": "code",
   "execution_count": null,
   "id": "b3090dfe",
   "metadata": {},
   "outputs": [],
   "source": [
    "def ordinal_encoder(termo):\n",
    "    if termo == 'Muito baixo' or termo == 'Very low' or termo == 'Molto basso' or termo == 'Very Low':\n",
    "        termo = 1\n",
    "    if termo == 'Baixo' or termo == 'Low' or termo == 'Basso':\n",
    "        termo = 2\n",
    "    if termo == 'Neutro' or termo == 'Neutral' or termo == 'Medium':\n",
    "        termo = 3\n",
    "    if termo == 'Alto' or termo == 'High':\n",
    "        termo = 4\n",
    "    if termo == 'Muito alto' or termo == 'Very high' or termo ==  'Molto alto':\n",
    "        termo = 5\n",
    "    if termo == 'Sim' or termo == 'Yes':\n",
    "        termo = 1\n",
    "    if termo == 'Não' or termo == 'No':\n",
    "        termo = 0\n",
    "    return(termo)"
   ]
  },
  {
   "cell_type": "code",
   "execution_count": null,
   "id": "ca99910b",
   "metadata": {},
   "outputs": [],
   "source": [
    "cont3=0\n",
    "for coluna in df:\n",
    "    df.iloc[:,cont3] = df.iloc[:,cont3].apply(ordinal_encoder)\n",
    "    cont3+=1"
   ]
  },
  {
   "cell_type": "code",
   "execution_count": null,
   "id": "94c58919",
   "metadata": {},
   "outputs": [],
   "source": [
    "df.head()"
   ]
  },
  {
   "cell_type": "code",
   "execution_count": null,
   "id": "becab928",
   "metadata": {},
   "outputs": [],
   "source": [
    "df = df.loc[:, ~df.columns.duplicated()]"
   ]
  },
  {
   "cell_type": "code",
   "execution_count": null,
   "id": "6bbda7ca",
   "metadata": {},
   "outputs": [],
   "source": [
    "df.shape"
   ]
  },
  {
   "cell_type": "code",
   "execution_count": null,
   "id": "6a29e917",
   "metadata": {},
   "outputs": [],
   "source": [
    "df.head()"
   ]
  },
  {
   "cell_type": "code",
   "execution_count": null,
   "id": "75587307",
   "metadata": {},
   "outputs": [],
   "source": [
    "# Renomear colunas usando um dicionário de mapeamento\n",
    "mapeamento_colunas = {'M2.11':'M2.9', 'M2.12':'M2.10'}\n",
    "df= df.rename(columns=mapeamento_colunas)"
   ]
  },
  {
   "cell_type": "code",
   "execution_count": null,
   "id": "886b3b07",
   "metadata": {},
   "outputs": [],
   "source": [
    "# Criar uma lista vazia para armazenar os nomes das colunas\n",
    "nomes_colunas = []\n",
    "\n",
    "# Loop sobre os números de estratégia (de 1 a 24)\n",
    "for estrategia in range(1, 25):\n",
    "    # Loop sobre os números de indicador (de 1 a 10)\n",
    "    for indicador in range(1, 11):\n",
    "        # Gerar o nome da coluna no formato 'Mx.y', onde x é a estratégia e y é o indicador\n",
    "        nome_coluna = f'M{estrategia}.{indicador}'\n",
    "        # Adicionar o nome da coluna à lista de nomes de colunas\n",
    "        nomes_colunas.append(nome_coluna)\n",
    "\n",
    "# Exibir os nomes das colunas gerados\n",
    "print(nomes_colunas)"
   ]
  },
  {
   "cell_type": "code",
   "execution_count": null,
   "id": "50cdaa18",
   "metadata": {},
   "outputs": [],
   "source": [
    "# Criar um novo DataFrame com colunas reorganizadas\n",
    "df = df[nomes_colunas]"
   ]
  },
  {
   "cell_type": "code",
   "execution_count": null,
   "id": "244f0cc8",
   "metadata": {},
   "outputs": [],
   "source": [
    "type(df)"
   ]
  },
  {
   "cell_type": "code",
   "execution_count": null,
   "id": "bbf8adcf",
   "metadata": {},
   "outputs": [],
   "source": [
    "df.info()"
   ]
  },
  {
   "cell_type": "code",
   "execution_count": null,
   "id": "bf541fe2",
   "metadata": {},
   "outputs": [],
   "source": [
    "df.isna().sum()"
   ]
  },
  {
   "cell_type": "code",
   "execution_count": null,
   "id": "5a4fe68c",
   "metadata": {},
   "outputs": [],
   "source": [
    "# Calcular e preencher os valores nulos com as modas de cada coluna\n",
    "for coluna in df.columns:\n",
    "    moda_coluna = df[coluna].mode()[0]  # Calcula a moda da coluna\n",
    "    df[coluna].fillna(moda_coluna, inplace=True)  # Preenche os valores nulos com a moda da coluna"
   ]
  },
  {
   "cell_type": "code",
   "execution_count": null,
   "id": "051e9e13",
   "metadata": {},
   "outputs": [],
   "source": [
    "df.to_csv('QuestoesTratadas.csv', index= False)"
   ]
  },
  {
   "cell_type": "code",
   "execution_count": null,
   "id": "d58eeffc",
   "metadata": {},
   "outputs": [],
   "source": [
    "df.to_csv('QuestoesCargosTratados.csv', index= False)"
   ]
  },
  {
   "cell_type": "code",
   "execution_count": null,
   "id": "cd27ce98",
   "metadata": {},
   "outputs": [],
   "source": [
    "df.to_csv('C:/Users/danye/Desktop/UFPE/IC/Proposta_2023_2024/Questionario/QuestoesTratadas.csv', index= False)"
   ]
  },
  {
   "cell_type": "code",
   "execution_count": 120,
   "id": "be0a8cd3",
   "metadata": {},
   "outputs": [],
   "source": [
    "df.to_csv('C:/Users/danye/Desktop/UFPE/IC/Proposta_2023_2024/Questionario/QuestoesCargosTratados.csv', index= False)"
   ]
  },
  {
   "cell_type": "code",
   "execution_count": null,
   "id": "ead0bd93",
   "metadata": {},
   "outputs": [],
   "source": []
  },
  {
   "cell_type": "code",
   "execution_count": null,
   "id": "471d2603",
   "metadata": {},
   "outputs": [],
   "source": []
  },
  {
   "cell_type": "code",
   "execution_count": null,
   "id": "9ae3f3ab",
   "metadata": {},
   "outputs": [],
   "source": []
  },
  {
   "cell_type": "code",
   "execution_count": null,
   "id": "11e29ec6",
   "metadata": {},
   "outputs": [],
   "source": []
  },
  {
   "cell_type": "markdown",
   "id": "6070845d",
   "metadata": {},
   "source": [
    "# Função que separa as localizações de acordo com seu separador\n",
    "\n",
    "def organiza_localizacao(frase):\n",
    "    separadores = ['-',',','.',';','--','_','/',' e ', ' ']\n",
    "    for sep in separadores:\n",
    "        if sep in frase:\n",
    "            frase = frase.split(sep)\n",
    "    for it in frase:\n",
    "        for sep in separadores:\n",
    "            if sep in it:\n",
    "                frase[cont] = it.split(sep)\n",
    "        cont+=1\n",
    "    return frase"
   ]
  }
 ],
 "metadata": {
  "kernelspec": {
   "display_name": "ProjetoIC",
   "language": "python",
   "name": "projetoic"
  },
  "language_info": {
   "codemirror_mode": {
    "name": "ipython",
    "version": 3
   },
   "file_extension": ".py",
   "mimetype": "text/x-python",
   "name": "python",
   "nbconvert_exporter": "python",
   "pygments_lexer": "ipython3",
   "version": "3.9.7"
  }
 },
 "nbformat": 4,
 "nbformat_minor": 5
}
