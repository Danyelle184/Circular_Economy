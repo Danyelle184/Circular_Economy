{
 "cells": [
  {
   "cell_type": "markdown",
   "id": "5aaae55b",
   "metadata": {},
   "source": [
    "# Projeto - Estrategias EC"
   ]
  },
  {
   "cell_type": "markdown",
   "id": "a8580954",
   "metadata": {},
   "source": [
    "# Tratamento dos dados"
   ]
  },
  {
   "cell_type": "code",
   "execution_count": 1,
   "id": "11e32c46",
   "metadata": {},
   "outputs": [],
   "source": [
    "# Pacotes\n",
    "import pandas as pd\n",
    "import numpy as np"
   ]
  },
  {
   "cell_type": "code",
   "execution_count": 658,
   "id": "27d48a9e",
   "metadata": {},
   "outputs": [],
   "source": [
    "arquivo1 =  (\"C:/Users/danye/Desktop/UFPE/IC/Proposta_2023_2024/Questionario/Consolidada - final -  11-09.xlsx\")"
   ]
  },
  {
   "cell_type": "code",
   "execution_count": 659,
   "id": "24de7f61",
   "metadata": {},
   "outputs": [],
   "source": [
    "base = pd.read_excel(arquivo1)"
   ]
  },
  {
   "cell_type": "code",
   "execution_count": 660,
   "id": "e441d7a1",
   "metadata": {},
   "outputs": [
    {
     "data": {
      "text/html": [
       "<div>\n",
       "<style scoped>\n",
       "    .dataframe tbody tr th:only-of-type {\n",
       "        vertical-align: middle;\n",
       "    }\n",
       "\n",
       "    .dataframe tbody tr th {\n",
       "        vertical-align: top;\n",
       "    }\n",
       "\n",
       "    .dataframe thead th {\n",
       "        text-align: right;\n",
       "    }\n",
       "</style>\n",
       "<table border=\"1\" class=\"dataframe\">\n",
       "  <thead>\n",
       "    <tr style=\"text-align: right;\">\n",
       "      <th></th>\n",
       "      <th>Timestamp</th>\n",
       "      <th>Do you agree to participate in this study?</th>\n",
       "      <th>The strategies towards a circular economy will be evaluated under a set of criteria/indicators, which are considered qualitative because they cover multiple dimensions and subjectivity (environmental, social, and economic). For this purpose, we elaborated on the Likert-type scales, ranging from 1 (lowest level) to 5 (highest level).  Please evaluate each strategy giving your evaluation under this scale (1-5). The following sections of the questionnaire will ask you about your \"perception\" of how much this strategy contributes to the transition towards a circular economy, in macro-level. Then,  you should indicate your opinion based on the scale like the one presented below.</th>\n",
       "      <th>1. INTER-FIRM COLLABORATION: Has the purpose to arrange collaboration and business relations inter-firm, it involves sharing of resources and information.. Rules are needed because interdependencies are increased and become more specific as compared to collaboration in linear systems. This strategy: [Complies with regional and national regulations]</th>\n",
       "      <th>1. INTER-FIRM COLLABORATION: Has the purpose to arrange collaboration and business relations inter-firm, it involves sharing of resources and information.. Rules are needed because interdependencies are increased and become more specific as compared to collaboration in linear systems. This strategy: [Helps to increase public acceptance of the circular economy]</th>\n",
       "      <th>1. INTER-FIRM COLLABORATION: Has the purpose to arrange collaboration and business relations inter-firm, it involves sharing of resources and information.. Rules are needed because interdependencies are increased and become more specific as compared to collaboration in linear systems. This strategy: [Enhances the absorption of the regional workforce]</th>\n",
       "      <th>1. INTER-FIRM COLLABORATION: Has the purpose to arrange collaboration and business relations inter-firm, it involves sharing of resources and information.. Rules are needed because interdependencies are increased and become more specific as compared to collaboration in linear systems. This strategy: [Prevents incorrect waste disposal]</th>\n",
       "      <th>1. INTER-FIRM COLLABORATION: Has the purpose to arrange collaboration and business relations inter-firm, it involves sharing of resources and information.. Rules are needed because interdependencies are increased and become more specific as compared to collaboration in linear systems. This strategy: [Contributes to the preservation of the environment]</th>\n",
       "      <th>1. INTER-FIRM COLLABORATION: Has the purpose to arrange collaboration and business relations inter-firm, it involves sharing of resources and information.. Rules are needed because interdependencies are increased and become more specific as compared to collaboration in linear systems. This strategy: [Has a cost for implementation]</th>\n",
       "      <th>1. INTER-FIRM COLLABORATION: Has the purpose to arrange collaboration and business relations inter-firm, it involves sharing of resources and information.. Rules are needed because interdependencies are increased and become more specific as compared to collaboration in linear systems. This strategy: [Has a cost to maintain  in operation]</th>\n",
       "      <th>...</th>\n",
       "      <th>24. CONSTRUCTION &amp; DEMOLITION (C&amp;D) WASTE MANAGEMENT: Proper management of C&amp;D waste and recycled materials – including the correct handling of hazardous waste - can have major benefits in terms of sustainability and the quality of life. This strategy: [Has obstacles/barriers, based on the particular regional characteristics ]</th>\n",
       "      <th>24. CONSTRUCTION &amp; DEMOLITION (C&amp;D) WASTE MANAGEMENT: Proper management of C&amp;D waste and recycled materials – including the correct handling of hazardous waste - can have major benefits in terms of sustainability and the quality of life. This strategy: [Has the potential to remain constant, considering mainly maintenance requirements for specialized personnel and Yesplicity of operations]</th>\n",
       "      <th>In which country, region and city are you located?</th>\n",
       "      <th>Do you act directly with the circular economy?</th>\n",
       "      <th>How do you evaluate your level of knowledge related to the circular economy [Level of knowledge]</th>\n",
       "      <th>What is your segment of acting?</th>\n",
       "      <th>What sector does your organization operate in?</th>\n",
       "      <th>What is the size of your organization, in terms of staff?</th>\n",
       "      <th>How do you describe your position in your organization?</th>\n",
       "      <th>Do you like to leave any comment?</th>\n",
       "    </tr>\n",
       "  </thead>\n",
       "  <tbody>\n",
       "    <tr>\n",
       "      <th>0</th>\n",
       "      <td>2020-05-28 17:09:52.215</td>\n",
       "      <td>Yes</td>\n",
       "      <td>NaN</td>\n",
       "      <td>High</td>\n",
       "      <td>High</td>\n",
       "      <td>Neutral</td>\n",
       "      <td>High</td>\n",
       "      <td>High</td>\n",
       "      <td>High</td>\n",
       "      <td>High</td>\n",
       "      <td>...</td>\n",
       "      <td>High</td>\n",
       "      <td>Neutral</td>\n",
       "      <td>UK</td>\n",
       "      <td>Yes</td>\n",
       "      <td>Very High</td>\n",
       "      <td>Academia/Research Institution</td>\n",
       "      <td>Quinary Sector (involves non-profit services s...</td>\n",
       "      <td>Large-sized enterprise, more than 250 employees</td>\n",
       "      <td>senior researcher</td>\n",
       "      <td>NaN</td>\n",
       "    </tr>\n",
       "    <tr>\n",
       "      <th>1</th>\n",
       "      <td>2020-05-28 19:20:41.809</td>\n",
       "      <td>Yes</td>\n",
       "      <td>NaN</td>\n",
       "      <td>High</td>\n",
       "      <td>High</td>\n",
       "      <td>High</td>\n",
       "      <td>High</td>\n",
       "      <td>High</td>\n",
       "      <td>High</td>\n",
       "      <td>High</td>\n",
       "      <td>...</td>\n",
       "      <td>High</td>\n",
       "      <td>High</td>\n",
       "      <td>Brazil</td>\n",
       "      <td>Yes</td>\n",
       "      <td>High</td>\n",
       "      <td>Academia/Research</td>\n",
       "      <td>Quinary Sector</td>\n",
       "      <td>Large-sized enterprise, more than 250 employees</td>\n",
       "      <td>Staff (operational jobs)</td>\n",
       "      <td>NaN</td>\n",
       "    </tr>\n",
       "    <tr>\n",
       "      <th>2</th>\n",
       "      <td>2020-07-29 10:41:18.986</td>\n",
       "      <td>Yes</td>\n",
       "      <td>NaN</td>\n",
       "      <td>Neutral</td>\n",
       "      <td>Very high</td>\n",
       "      <td>Very high</td>\n",
       "      <td>High</td>\n",
       "      <td>High</td>\n",
       "      <td>Low</td>\n",
       "      <td>Low</td>\n",
       "      <td>...</td>\n",
       "      <td>High</td>\n",
       "      <td>High</td>\n",
       "      <td>Indianapolis, IN, USA</td>\n",
       "      <td>Yes</td>\n",
       "      <td>Very High</td>\n",
       "      <td>Consultancy</td>\n",
       "      <td>Quaternary Sector (involves intellectual activ...</td>\n",
       "      <td>Individual entrepreneur</td>\n",
       "      <td>Executive or Strategic Manager  (Senior execut...</td>\n",
       "      <td>Please clarify the first question on complianc...</td>\n",
       "    </tr>\n",
       "    <tr>\n",
       "      <th>3</th>\n",
       "      <td>2020-08-05 01:33:19.548</td>\n",
       "      <td>Yes</td>\n",
       "      <td>NaN</td>\n",
       "      <td>High</td>\n",
       "      <td>Low</td>\n",
       "      <td>High</td>\n",
       "      <td>High</td>\n",
       "      <td>High</td>\n",
       "      <td>High</td>\n",
       "      <td>High</td>\n",
       "      <td>...</td>\n",
       "      <td>High</td>\n",
       "      <td>High</td>\n",
       "      <td>India</td>\n",
       "      <td>No</td>\n",
       "      <td>High</td>\n",
       "      <td>Academia/Research Institution</td>\n",
       "      <td>Quaternary Sector (involves intellectual activ...</td>\n",
       "      <td>Small-sized enterprise, between 11 and 50 empl...</td>\n",
       "      <td>Managers(Senior manager, manager)</td>\n",
       "      <td>NaN</td>\n",
       "    </tr>\n",
       "    <tr>\n",
       "      <th>4</th>\n",
       "      <td>2020-08-05 11:34:41.781</td>\n",
       "      <td>Yes</td>\n",
       "      <td>NaN</td>\n",
       "      <td>Neutral</td>\n",
       "      <td>High</td>\n",
       "      <td>High</td>\n",
       "      <td>High</td>\n",
       "      <td>High</td>\n",
       "      <td>High</td>\n",
       "      <td>High</td>\n",
       "      <td>...</td>\n",
       "      <td>Very high</td>\n",
       "      <td>Very high</td>\n",
       "      <td>Spain, Barcelona</td>\n",
       "      <td>Yes</td>\n",
       "      <td>Very High</td>\n",
       "      <td>Consultancy</td>\n",
       "      <td>Secondary Sector (involves the transformation ...</td>\n",
       "      <td>Micro-sized enterprise - until  10 employees</td>\n",
       "      <td>Executive or Strategic Manager  (Senior execut...</td>\n",
       "      <td>NaN</td>\n",
       "    </tr>\n",
       "  </tbody>\n",
       "</table>\n",
       "<p>5 rows × 251 columns</p>\n",
       "</div>"
      ],
      "text/plain": [
       "                Timestamp Do you agree to participate in this study?  \\\n",
       "0 2020-05-28 17:09:52.215                                        Yes   \n",
       "1 2020-05-28 19:20:41.809                                        Yes   \n",
       "2 2020-07-29 10:41:18.986                                        Yes   \n",
       "3 2020-08-05 01:33:19.548                                        Yes   \n",
       "4 2020-08-05 11:34:41.781                                        Yes   \n",
       "\n",
       "   The strategies towards a circular economy will be evaluated under a set of criteria/indicators, which are considered qualitative because they cover multiple dimensions and subjectivity (environmental, social, and economic). For this purpose, we elaborated on the Likert-type scales, ranging from 1 (lowest level) to 5 (highest level).  Please evaluate each strategy giving your evaluation under this scale (1-5). The following sections of the questionnaire will ask you about your \"perception\" of how much this strategy contributes to the transition towards a circular economy, in macro-level. Then,  you should indicate your opinion based on the scale like the one presented below.   \\\n",
       "0                                                NaN                                                                                                                                                                                                                                                                                                                                                                                                                                                                                                                                                                                                                                                             \n",
       "1                                                NaN                                                                                                                                                                                                                                                                                                                                                                                                                                                                                                                                                                                                                                                             \n",
       "2                                                NaN                                                                                                                                                                                                                                                                                                                                                                                                                                                                                                                                                                                                                                                             \n",
       "3                                                NaN                                                                                                                                                                                                                                                                                                                                                                                                                                                                                                                                                                                                                                                             \n",
       "4                                                NaN                                                                                                                                                                                                                                                                                                                                                                                                                                                                                                                                                                                                                                                             \n",
       "\n",
       "  1. INTER-FIRM COLLABORATION: Has the purpose to arrange collaboration and business relations inter-firm, it involves sharing of resources and information.. Rules are needed because interdependencies are increased and become more specific as compared to collaboration in linear systems. This strategy: [Complies with regional and national regulations]  \\\n",
       "0                                               High                                                                                                                                                                                                                                                                                                               \n",
       "1                                               High                                                                                                                                                                                                                                                                                                               \n",
       "2                                            Neutral                                                                                                                                                                                                                                                                                                               \n",
       "3                                               High                                                                                                                                                                                                                                                                                                               \n",
       "4                                            Neutral                                                                                                                                                                                                                                                                                                               \n",
       "\n",
       "  1. INTER-FIRM COLLABORATION: Has the purpose to arrange collaboration and business relations inter-firm, it involves sharing of resources and information.. Rules are needed because interdependencies are increased and become more specific as compared to collaboration in linear systems. This strategy: [Helps to increase public acceptance of the circular economy]  \\\n",
       "0                                               High                                                                                                                                                                                                                                                                                                                           \n",
       "1                                               High                                                                                                                                                                                                                                                                                                                           \n",
       "2                                          Very high                                                                                                                                                                                                                                                                                                                           \n",
       "3                                                Low                                                                                                                                                                                                                                                                                                                           \n",
       "4                                               High                                                                                                                                                                                                                                                                                                                           \n",
       "\n",
       "  1. INTER-FIRM COLLABORATION: Has the purpose to arrange collaboration and business relations inter-firm, it involves sharing of resources and information.. Rules are needed because interdependencies are increased and become more specific as compared to collaboration in linear systems. This strategy: [Enhances the absorption of the regional workforce]  \\\n",
       "0                                            Neutral                                                                                                                                                                                                                                                                                                                 \n",
       "1                                               High                                                                                                                                                                                                                                                                                                                 \n",
       "2                                          Very high                                                                                                                                                                                                                                                                                                                 \n",
       "3                                               High                                                                                                                                                                                                                                                                                                                 \n",
       "4                                               High                                                                                                                                                                                                                                                                                                                 \n",
       "\n",
       "  1. INTER-FIRM COLLABORATION: Has the purpose to arrange collaboration and business relations inter-firm, it involves sharing of resources and information.. Rules are needed because interdependencies are increased and become more specific as compared to collaboration in linear systems. This strategy: [Prevents incorrect waste disposal]  \\\n",
       "0                                               High                                                                                                                                                                                                                                                                                                 \n",
       "1                                               High                                                                                                                                                                                                                                                                                                 \n",
       "2                                               High                                                                                                                                                                                                                                                                                                 \n",
       "3                                               High                                                                                                                                                                                                                                                                                                 \n",
       "4                                               High                                                                                                                                                                                                                                                                                                 \n",
       "\n",
       "  1. INTER-FIRM COLLABORATION: Has the purpose to arrange collaboration and business relations inter-firm, it involves sharing of resources and information.. Rules are needed because interdependencies are increased and become more specific as compared to collaboration in linear systems. This strategy: [Contributes to the preservation of the environment]  \\\n",
       "0                                               High                                                                                                                                                                                                                                                                                                                  \n",
       "1                                               High                                                                                                                                                                                                                                                                                                                  \n",
       "2                                               High                                                                                                                                                                                                                                                                                                                  \n",
       "3                                               High                                                                                                                                                                                                                                                                                                                  \n",
       "4                                               High                                                                                                                                                                                                                                                                                                                  \n",
       "\n",
       "  1. INTER-FIRM COLLABORATION: Has the purpose to arrange collaboration and business relations inter-firm, it involves sharing of resources and information.. Rules are needed because interdependencies are increased and become more specific as compared to collaboration in linear systems. This strategy: [Has a cost for implementation]  \\\n",
       "0                                               High                                                                                                                                                                                                                                                                                             \n",
       "1                                               High                                                                                                                                                                                                                                                                                             \n",
       "2                                                Low                                                                                                                                                                                                                                                                                             \n",
       "3                                               High                                                                                                                                                                                                                                                                                             \n",
       "4                                               High                                                                                                                                                                                                                                                                                             \n",
       "\n",
       "  1. INTER-FIRM COLLABORATION: Has the purpose to arrange collaboration and business relations inter-firm, it involves sharing of resources and information.. Rules are needed because interdependencies are increased and become more specific as compared to collaboration in linear systems. This strategy: [Has a cost to maintain  in operation]  \\\n",
       "0                                               High                                                                                                                                                                                                                                                                                                    \n",
       "1                                               High                                                                                                                                                                                                                                                                                                    \n",
       "2                                                Low                                                                                                                                                                                                                                                                                                    \n",
       "3                                               High                                                                                                                                                                                                                                                                                                    \n",
       "4                                               High                                                                                                                                                                                                                                                                                                    \n",
       "\n",
       "   ...  \\\n",
       "0  ...   \n",
       "1  ...   \n",
       "2  ...   \n",
       "3  ...   \n",
       "4  ...   \n",
       "\n",
       "  24. CONSTRUCTION & DEMOLITION (C&D) WASTE MANAGEMENT: Proper management of C&D waste and recycled materials – including the correct handling of hazardous waste - can have major benefits in terms of sustainability and the quality of life. This strategy: [Has obstacles/barriers, based on the particular regional characteristics ]  \\\n",
       "0                                               High                                                                                                                                                                                                                                                                                         \n",
       "1                                               High                                                                                                                                                                                                                                                                                         \n",
       "2                                               High                                                                                                                                                                                                                                                                                         \n",
       "3                                               High                                                                                                                                                                                                                                                                                         \n",
       "4                                          Very high                                                                                                                                                                                                                                                                                         \n",
       "\n",
       "  24. CONSTRUCTION & DEMOLITION (C&D) WASTE MANAGEMENT: Proper management of C&D waste and recycled materials – including the correct handling of hazardous waste - can have major benefits in terms of sustainability and the quality of life. This strategy: [Has the potential to remain constant, considering mainly maintenance requirements for specialized personnel and Yesplicity of operations]  \\\n",
       "0                                            Neutral                                                                                                                                                                                                                                                                                                                                                        \n",
       "1                                               High                                                                                                                                                                                                                                                                                                                                                        \n",
       "2                                               High                                                                                                                                                                                                                                                                                                                                                        \n",
       "3                                               High                                                                                                                                                                                                                                                                                                                                                        \n",
       "4                                          Very high                                                                                                                                                                                                                                                                                                                                                        \n",
       "\n",
       "  In which country, region and city are you located?  \\\n",
       "0                                                 UK   \n",
       "1                                             Brazil   \n",
       "2                              Indianapolis, IN, USA   \n",
       "3                                              India   \n",
       "4                                   Spain, Barcelona   \n",
       "\n",
       "  Do you act directly with the circular economy?  \\\n",
       "0                                            Yes   \n",
       "1                                            Yes   \n",
       "2                                            Yes   \n",
       "3                                             No   \n",
       "4                                            Yes   \n",
       "\n",
       "  How do you evaluate your level of knowledge related to the circular economy [Level of knowledge]  \\\n",
       "0                                          Very High                                                 \n",
       "1                                               High                                                 \n",
       "2                                          Very High                                                 \n",
       "3                                               High                                                 \n",
       "4                                          Very High                                                 \n",
       "\n",
       "  What is your segment of acting?  \\\n",
       "0   Academia/Research Institution   \n",
       "1               Academia/Research   \n",
       "2                     Consultancy   \n",
       "3   Academia/Research Institution   \n",
       "4                     Consultancy   \n",
       "\n",
       "      What sector does your organization operate in?  \\\n",
       "0  Quinary Sector (involves non-profit services s...   \n",
       "1                                    Quinary Sector    \n",
       "2  Quaternary Sector (involves intellectual activ...   \n",
       "3  Quaternary Sector (involves intellectual activ...   \n",
       "4  Secondary Sector (involves the transformation ...   \n",
       "\n",
       "  What is the size of your organization, in terms of staff?  \\\n",
       "0    Large-sized enterprise, more than 250 employees          \n",
       "1    Large-sized enterprise, more than 250 employees          \n",
       "2                            Individual entrepreneur          \n",
       "3  Small-sized enterprise, between 11 and 50 empl...          \n",
       "4       Micro-sized enterprise - until  10 employees          \n",
       "\n",
       "  How do you describe your position in your organization?  \\\n",
       "0                                  senior researcher        \n",
       "1                           Staff (operational jobs)        \n",
       "2  Executive or Strategic Manager  (Senior execut...        \n",
       "3                  Managers(Senior manager, manager)        \n",
       "4  Executive or Strategic Manager  (Senior execut...        \n",
       "\n",
       "                   Do you like to leave any comment?  \n",
       "0                                                NaN  \n",
       "1                                                NaN  \n",
       "2  Please clarify the first question on complianc...  \n",
       "3                                                NaN  \n",
       "4                                                NaN  \n",
       "\n",
       "[5 rows x 251 columns]"
      ]
     },
     "execution_count": 660,
     "metadata": {},
     "output_type": "execute_result"
    }
   ],
   "source": [
    "base.head()"
   ]
  },
  {
   "cell_type": "code",
   "execution_count": 661,
   "id": "8bc787a9",
   "metadata": {},
   "outputs": [
    {
     "data": {
      "text/plain": [
       "(352, 251)"
      ]
     },
     "execution_count": 661,
     "metadata": {},
     "output_type": "execute_result"
    }
   ],
   "source": [
    "base.shape"
   ]
  },
  {
   "cell_type": "code",
   "execution_count": 662,
   "id": "bc2d0054",
   "metadata": {},
   "outputs": [],
   "source": [
    "# removendo colunas desnecessárias\n",
    "df = base.drop(base.columns[[0, 1, 2, 250]], axis=1)"
   ]
  },
  {
   "cell_type": "code",
   "execution_count": 663,
   "id": "93ee9994",
   "metadata": {},
   "outputs": [
    {
     "data": {
      "text/html": [
       "<div>\n",
       "<style scoped>\n",
       "    .dataframe tbody tr th:only-of-type {\n",
       "        vertical-align: middle;\n",
       "    }\n",
       "\n",
       "    .dataframe tbody tr th {\n",
       "        vertical-align: top;\n",
       "    }\n",
       "\n",
       "    .dataframe thead th {\n",
       "        text-align: right;\n",
       "    }\n",
       "</style>\n",
       "<table border=\"1\" class=\"dataframe\">\n",
       "  <thead>\n",
       "    <tr style=\"text-align: right;\">\n",
       "      <th></th>\n",
       "      <th>1. INTER-FIRM COLLABORATION: Has the purpose to arrange collaboration and business relations inter-firm, it involves sharing of resources and information.. Rules are needed because interdependencies are increased and become more specific as compared to collaboration in linear systems. This strategy: [Complies with regional and national regulations]</th>\n",
       "      <th>1. INTER-FIRM COLLABORATION: Has the purpose to arrange collaboration and business relations inter-firm, it involves sharing of resources and information.. Rules are needed because interdependencies are increased and become more specific as compared to collaboration in linear systems. This strategy: [Helps to increase public acceptance of the circular economy]</th>\n",
       "      <th>1. INTER-FIRM COLLABORATION: Has the purpose to arrange collaboration and business relations inter-firm, it involves sharing of resources and information.. Rules are needed because interdependencies are increased and become more specific as compared to collaboration in linear systems. This strategy: [Enhances the absorption of the regional workforce]</th>\n",
       "      <th>1. INTER-FIRM COLLABORATION: Has the purpose to arrange collaboration and business relations inter-firm, it involves sharing of resources and information.. Rules are needed because interdependencies are increased and become more specific as compared to collaboration in linear systems. This strategy: [Prevents incorrect waste disposal]</th>\n",
       "      <th>1. INTER-FIRM COLLABORATION: Has the purpose to arrange collaboration and business relations inter-firm, it involves sharing of resources and information.. Rules are needed because interdependencies are increased and become more specific as compared to collaboration in linear systems. This strategy: [Contributes to the preservation of the environment]</th>\n",
       "      <th>1. INTER-FIRM COLLABORATION: Has the purpose to arrange collaboration and business relations inter-firm, it involves sharing of resources and information.. Rules are needed because interdependencies are increased and become more specific as compared to collaboration in linear systems. This strategy: [Has a cost for implementation]</th>\n",
       "      <th>1. INTER-FIRM COLLABORATION: Has the purpose to arrange collaboration and business relations inter-firm, it involves sharing of resources and information.. Rules are needed because interdependencies are increased and become more specific as compared to collaboration in linear systems. This strategy: [Has a cost to maintain  in operation]</th>\n",
       "      <th>1. INTER-FIRM COLLABORATION: Has the purpose to arrange collaboration and business relations inter-firm, it involves sharing of resources and information.. Rules are needed because interdependencies are increased and become more specific as compared to collaboration in linear systems. This strategy: [Has a difficulty to implement, due to the knowledge, technologies and solutions required]</th>\n",
       "      <th>1. INTER-FIRM COLLABORATION: Has the purpose to arrange collaboration and business relations inter-firm, it involves sharing of resources and information.. Rules are needed because interdependencies are increased and become more specific as compared to collaboration in linear systems. This strategy: [Has obstacles/barriers, based on the particular regional characteristics ]</th>\n",
       "      <th>1. INTER-FIRM COLLABORATION: Has the purpose to arrange collaboration and business relations inter-firm, it involves sharing of resources and information.. Rules are needed because interdependencies are increased and become more specific as compared to collaboration in linear systems. This strategy: [Has the potential to remain constant, considering mainly maintenance requirements related to  specialized personnel and Yesplicity of operations]</th>\n",
       "      <th>...</th>\n",
       "      <th>24. CONSTRUCTION &amp; DEMOLITION (C&amp;D) WASTE MANAGEMENT: Proper management of C&amp;D waste and recycled materials – including the correct handling of hazardous waste - can have major benefits in terms of sustainability and the quality of life. This strategy: [Has a difficulty to implement, due to the knowledge, technologies and solutions required]</th>\n",
       "      <th>24. CONSTRUCTION &amp; DEMOLITION (C&amp;D) WASTE MANAGEMENT: Proper management of C&amp;D waste and recycled materials – including the correct handling of hazardous waste - can have major benefits in terms of sustainability and the quality of life. This strategy: [Has obstacles/barriers, based on the particular regional characteristics ]</th>\n",
       "      <th>24. CONSTRUCTION &amp; DEMOLITION (C&amp;D) WASTE MANAGEMENT: Proper management of C&amp;D waste and recycled materials – including the correct handling of hazardous waste - can have major benefits in terms of sustainability and the quality of life. This strategy: [Has the potential to remain constant, considering mainly maintenance requirements for specialized personnel and Yesplicity of operations]</th>\n",
       "      <th>In which country, region and city are you located?</th>\n",
       "      <th>Do you act directly with the circular economy?</th>\n",
       "      <th>How do you evaluate your level of knowledge related to the circular economy [Level of knowledge]</th>\n",
       "      <th>What is your segment of acting?</th>\n",
       "      <th>What sector does your organization operate in?</th>\n",
       "      <th>What is the size of your organization, in terms of staff?</th>\n",
       "      <th>How do you describe your position in your organization?</th>\n",
       "    </tr>\n",
       "  </thead>\n",
       "  <tbody>\n",
       "    <tr>\n",
       "      <th>0</th>\n",
       "      <td>High</td>\n",
       "      <td>High</td>\n",
       "      <td>Neutral</td>\n",
       "      <td>High</td>\n",
       "      <td>High</td>\n",
       "      <td>High</td>\n",
       "      <td>High</td>\n",
       "      <td>High</td>\n",
       "      <td>High</td>\n",
       "      <td>Neutral</td>\n",
       "      <td>...</td>\n",
       "      <td>High</td>\n",
       "      <td>High</td>\n",
       "      <td>Neutral</td>\n",
       "      <td>UK</td>\n",
       "      <td>Yes</td>\n",
       "      <td>Very High</td>\n",
       "      <td>Academia/Research Institution</td>\n",
       "      <td>Quinary Sector (involves non-profit services s...</td>\n",
       "      <td>Large-sized enterprise, more than 250 employees</td>\n",
       "      <td>senior researcher</td>\n",
       "    </tr>\n",
       "    <tr>\n",
       "      <th>1</th>\n",
       "      <td>High</td>\n",
       "      <td>High</td>\n",
       "      <td>High</td>\n",
       "      <td>High</td>\n",
       "      <td>High</td>\n",
       "      <td>High</td>\n",
       "      <td>High</td>\n",
       "      <td>High</td>\n",
       "      <td>High</td>\n",
       "      <td>High</td>\n",
       "      <td>...</td>\n",
       "      <td>High</td>\n",
       "      <td>High</td>\n",
       "      <td>High</td>\n",
       "      <td>Brazil</td>\n",
       "      <td>Yes</td>\n",
       "      <td>High</td>\n",
       "      <td>Academia/Research</td>\n",
       "      <td>Quinary Sector</td>\n",
       "      <td>Large-sized enterprise, more than 250 employees</td>\n",
       "      <td>Staff (operational jobs)</td>\n",
       "    </tr>\n",
       "    <tr>\n",
       "      <th>2</th>\n",
       "      <td>Neutral</td>\n",
       "      <td>Very high</td>\n",
       "      <td>Very high</td>\n",
       "      <td>High</td>\n",
       "      <td>High</td>\n",
       "      <td>Low</td>\n",
       "      <td>Low</td>\n",
       "      <td>Neutral</td>\n",
       "      <td>Neutral</td>\n",
       "      <td>High</td>\n",
       "      <td>...</td>\n",
       "      <td>Very high</td>\n",
       "      <td>High</td>\n",
       "      <td>High</td>\n",
       "      <td>Indianapolis, IN, USA</td>\n",
       "      <td>Yes</td>\n",
       "      <td>Very High</td>\n",
       "      <td>Consultancy</td>\n",
       "      <td>Quaternary Sector (involves intellectual activ...</td>\n",
       "      <td>Individual entrepreneur</td>\n",
       "      <td>Executive or Strategic Manager  (Senior execut...</td>\n",
       "    </tr>\n",
       "    <tr>\n",
       "      <th>3</th>\n",
       "      <td>High</td>\n",
       "      <td>Low</td>\n",
       "      <td>High</td>\n",
       "      <td>High</td>\n",
       "      <td>High</td>\n",
       "      <td>High</td>\n",
       "      <td>High</td>\n",
       "      <td>Very high</td>\n",
       "      <td>Very high</td>\n",
       "      <td>High</td>\n",
       "      <td>...</td>\n",
       "      <td>High</td>\n",
       "      <td>High</td>\n",
       "      <td>High</td>\n",
       "      <td>India</td>\n",
       "      <td>No</td>\n",
       "      <td>High</td>\n",
       "      <td>Academia/Research Institution</td>\n",
       "      <td>Quaternary Sector (involves intellectual activ...</td>\n",
       "      <td>Small-sized enterprise, between 11 and 50 empl...</td>\n",
       "      <td>Managers(Senior manager, manager)</td>\n",
       "    </tr>\n",
       "    <tr>\n",
       "      <th>4</th>\n",
       "      <td>Neutral</td>\n",
       "      <td>High</td>\n",
       "      <td>High</td>\n",
       "      <td>High</td>\n",
       "      <td>High</td>\n",
       "      <td>High</td>\n",
       "      <td>High</td>\n",
       "      <td>Very high</td>\n",
       "      <td>Very high</td>\n",
       "      <td>Neutral</td>\n",
       "      <td>...</td>\n",
       "      <td>High</td>\n",
       "      <td>Very high</td>\n",
       "      <td>Very high</td>\n",
       "      <td>Spain, Barcelona</td>\n",
       "      <td>Yes</td>\n",
       "      <td>Very High</td>\n",
       "      <td>Consultancy</td>\n",
       "      <td>Secondary Sector (involves the transformation ...</td>\n",
       "      <td>Micro-sized enterprise - until  10 employees</td>\n",
       "      <td>Executive or Strategic Manager  (Senior execut...</td>\n",
       "    </tr>\n",
       "  </tbody>\n",
       "</table>\n",
       "<p>5 rows × 247 columns</p>\n",
       "</div>"
      ],
      "text/plain": [
       "  1. INTER-FIRM COLLABORATION: Has the purpose to arrange collaboration and business relations inter-firm, it involves sharing of resources and information.. Rules are needed because interdependencies are increased and become more specific as compared to collaboration in linear systems. This strategy: [Complies with regional and national regulations]  \\\n",
       "0                                               High                                                                                                                                                                                                                                                                                                               \n",
       "1                                               High                                                                                                                                                                                                                                                                                                               \n",
       "2                                            Neutral                                                                                                                                                                                                                                                                                                               \n",
       "3                                               High                                                                                                                                                                                                                                                                                                               \n",
       "4                                            Neutral                                                                                                                                                                                                                                                                                                               \n",
       "\n",
       "  1. INTER-FIRM COLLABORATION: Has the purpose to arrange collaboration and business relations inter-firm, it involves sharing of resources and information.. Rules are needed because interdependencies are increased and become more specific as compared to collaboration in linear systems. This strategy: [Helps to increase public acceptance of the circular economy]  \\\n",
       "0                                               High                                                                                                                                                                                                                                                                                                                           \n",
       "1                                               High                                                                                                                                                                                                                                                                                                                           \n",
       "2                                          Very high                                                                                                                                                                                                                                                                                                                           \n",
       "3                                                Low                                                                                                                                                                                                                                                                                                                           \n",
       "4                                               High                                                                                                                                                                                                                                                                                                                           \n",
       "\n",
       "  1. INTER-FIRM COLLABORATION: Has the purpose to arrange collaboration and business relations inter-firm, it involves sharing of resources and information.. Rules are needed because interdependencies are increased and become more specific as compared to collaboration in linear systems. This strategy: [Enhances the absorption of the regional workforce]  \\\n",
       "0                                            Neutral                                                                                                                                                                                                                                                                                                                 \n",
       "1                                               High                                                                                                                                                                                                                                                                                                                 \n",
       "2                                          Very high                                                                                                                                                                                                                                                                                                                 \n",
       "3                                               High                                                                                                                                                                                                                                                                                                                 \n",
       "4                                               High                                                                                                                                                                                                                                                                                                                 \n",
       "\n",
       "  1. INTER-FIRM COLLABORATION: Has the purpose to arrange collaboration and business relations inter-firm, it involves sharing of resources and information.. Rules are needed because interdependencies are increased and become more specific as compared to collaboration in linear systems. This strategy: [Prevents incorrect waste disposal]  \\\n",
       "0                                               High                                                                                                                                                                                                                                                                                                 \n",
       "1                                               High                                                                                                                                                                                                                                                                                                 \n",
       "2                                               High                                                                                                                                                                                                                                                                                                 \n",
       "3                                               High                                                                                                                                                                                                                                                                                                 \n",
       "4                                               High                                                                                                                                                                                                                                                                                                 \n",
       "\n",
       "  1. INTER-FIRM COLLABORATION: Has the purpose to arrange collaboration and business relations inter-firm, it involves sharing of resources and information.. Rules are needed because interdependencies are increased and become more specific as compared to collaboration in linear systems. This strategy: [Contributes to the preservation of the environment]  \\\n",
       "0                                               High                                                                                                                                                                                                                                                                                                                  \n",
       "1                                               High                                                                                                                                                                                                                                                                                                                  \n",
       "2                                               High                                                                                                                                                                                                                                                                                                                  \n",
       "3                                               High                                                                                                                                                                                                                                                                                                                  \n",
       "4                                               High                                                                                                                                                                                                                                                                                                                  \n",
       "\n",
       "  1. INTER-FIRM COLLABORATION: Has the purpose to arrange collaboration and business relations inter-firm, it involves sharing of resources and information.. Rules are needed because interdependencies are increased and become more specific as compared to collaboration in linear systems. This strategy: [Has a cost for implementation]  \\\n",
       "0                                               High                                                                                                                                                                                                                                                                                             \n",
       "1                                               High                                                                                                                                                                                                                                                                                             \n",
       "2                                                Low                                                                                                                                                                                                                                                                                             \n",
       "3                                               High                                                                                                                                                                                                                                                                                             \n",
       "4                                               High                                                                                                                                                                                                                                                                                             \n",
       "\n",
       "  1. INTER-FIRM COLLABORATION: Has the purpose to arrange collaboration and business relations inter-firm, it involves sharing of resources and information.. Rules are needed because interdependencies are increased and become more specific as compared to collaboration in linear systems. This strategy: [Has a cost to maintain  in operation]  \\\n",
       "0                                               High                                                                                                                                                                                                                                                                                                    \n",
       "1                                               High                                                                                                                                                                                                                                                                                                    \n",
       "2                                                Low                                                                                                                                                                                                                                                                                                    \n",
       "3                                               High                                                                                                                                                                                                                                                                                                    \n",
       "4                                               High                                                                                                                                                                                                                                                                                                    \n",
       "\n",
       "  1. INTER-FIRM COLLABORATION: Has the purpose to arrange collaboration and business relations inter-firm, it involves sharing of resources and information.. Rules are needed because interdependencies are increased and become more specific as compared to collaboration in linear systems. This strategy: [Has a difficulty to implement, due to the knowledge, technologies and solutions required]  \\\n",
       "0                                               High                                                                                                                                                                                                                                                                                                                                                        \n",
       "1                                               High                                                                                                                                                                                                                                                                                                                                                        \n",
       "2                                            Neutral                                                                                                                                                                                                                                                                                                                                                        \n",
       "3                                          Very high                                                                                                                                                                                                                                                                                                                                                        \n",
       "4                                          Very high                                                                                                                                                                                                                                                                                                                                                        \n",
       "\n",
       "  1. INTER-FIRM COLLABORATION: Has the purpose to arrange collaboration and business relations inter-firm, it involves sharing of resources and information.. Rules are needed because interdependencies are increased and become more specific as compared to collaboration in linear systems. This strategy: [Has obstacles/barriers, based on the particular regional characteristics ]  \\\n",
       "0                                               High                                                                                                                                                                                                                                                                                                                                         \n",
       "1                                               High                                                                                                                                                                                                                                                                                                                                         \n",
       "2                                            Neutral                                                                                                                                                                                                                                                                                                                                         \n",
       "3                                          Very high                                                                                                                                                                                                                                                                                                                                         \n",
       "4                                          Very high                                                                                                                                                                                                                                                                                                                                         \n",
       "\n",
       "  1. INTER-FIRM COLLABORATION: Has the purpose to arrange collaboration and business relations inter-firm, it involves sharing of resources and information.. Rules are needed because interdependencies are increased and become more specific as compared to collaboration in linear systems. This strategy: [Has the potential to remain constant, considering mainly maintenance requirements related to  specialized personnel and Yesplicity of operations]  \\\n",
       "0                                            Neutral                                                                                                                                                                                                                                                                                                                                                                                                                \n",
       "1                                               High                                                                                                                                                                                                                                                                                                                                                                                                                \n",
       "2                                               High                                                                                                                                                                                                                                                                                                                                                                                                                \n",
       "3                                               High                                                                                                                                                                                                                                                                                                                                                                                                                \n",
       "4                                            Neutral                                                                                                                                                                                                                                                                                                                                                                                                                \n",
       "\n",
       "   ...  \\\n",
       "0  ...   \n",
       "1  ...   \n",
       "2  ...   \n",
       "3  ...   \n",
       "4  ...   \n",
       "\n",
       "  24. CONSTRUCTION & DEMOLITION (C&D) WASTE MANAGEMENT: Proper management of C&D waste and recycled materials – including the correct handling of hazardous waste - can have major benefits in terms of sustainability and the quality of life. This strategy: [Has a difficulty to implement, due to the knowledge, technologies and solutions required]  \\\n",
       "0                                               High                                                                                                                                                                                                                                                                                                        \n",
       "1                                               High                                                                                                                                                                                                                                                                                                        \n",
       "2                                          Very high                                                                                                                                                                                                                                                                                                        \n",
       "3                                               High                                                                                                                                                                                                                                                                                                        \n",
       "4                                               High                                                                                                                                                                                                                                                                                                        \n",
       "\n",
       "  24. CONSTRUCTION & DEMOLITION (C&D) WASTE MANAGEMENT: Proper management of C&D waste and recycled materials – including the correct handling of hazardous waste - can have major benefits in terms of sustainability and the quality of life. This strategy: [Has obstacles/barriers, based on the particular regional characteristics ]  \\\n",
       "0                                               High                                                                                                                                                                                                                                                                                         \n",
       "1                                               High                                                                                                                                                                                                                                                                                         \n",
       "2                                               High                                                                                                                                                                                                                                                                                         \n",
       "3                                               High                                                                                                                                                                                                                                                                                         \n",
       "4                                          Very high                                                                                                                                                                                                                                                                                         \n",
       "\n",
       "  24. CONSTRUCTION & DEMOLITION (C&D) WASTE MANAGEMENT: Proper management of C&D waste and recycled materials – including the correct handling of hazardous waste - can have major benefits in terms of sustainability and the quality of life. This strategy: [Has the potential to remain constant, considering mainly maintenance requirements for specialized personnel and Yesplicity of operations]  \\\n",
       "0                                            Neutral                                                                                                                                                                                                                                                                                                                                                        \n",
       "1                                               High                                                                                                                                                                                                                                                                                                                                                        \n",
       "2                                               High                                                                                                                                                                                                                                                                                                                                                        \n",
       "3                                               High                                                                                                                                                                                                                                                                                                                                                        \n",
       "4                                          Very high                                                                                                                                                                                                                                                                                                                                                        \n",
       "\n",
       "  In which country, region and city are you located?  \\\n",
       "0                                                 UK   \n",
       "1                                             Brazil   \n",
       "2                              Indianapolis, IN, USA   \n",
       "3                                              India   \n",
       "4                                   Spain, Barcelona   \n",
       "\n",
       "  Do you act directly with the circular economy?  \\\n",
       "0                                            Yes   \n",
       "1                                            Yes   \n",
       "2                                            Yes   \n",
       "3                                             No   \n",
       "4                                            Yes   \n",
       "\n",
       "  How do you evaluate your level of knowledge related to the circular economy [Level of knowledge]  \\\n",
       "0                                          Very High                                                 \n",
       "1                                               High                                                 \n",
       "2                                          Very High                                                 \n",
       "3                                               High                                                 \n",
       "4                                          Very High                                                 \n",
       "\n",
       "  What is your segment of acting?  \\\n",
       "0   Academia/Research Institution   \n",
       "1               Academia/Research   \n",
       "2                     Consultancy   \n",
       "3   Academia/Research Institution   \n",
       "4                     Consultancy   \n",
       "\n",
       "      What sector does your organization operate in?  \\\n",
       "0  Quinary Sector (involves non-profit services s...   \n",
       "1                                    Quinary Sector    \n",
       "2  Quaternary Sector (involves intellectual activ...   \n",
       "3  Quaternary Sector (involves intellectual activ...   \n",
       "4  Secondary Sector (involves the transformation ...   \n",
       "\n",
       "  What is the size of your organization, in terms of staff?  \\\n",
       "0    Large-sized enterprise, more than 250 employees          \n",
       "1    Large-sized enterprise, more than 250 employees          \n",
       "2                            Individual entrepreneur          \n",
       "3  Small-sized enterprise, between 11 and 50 empl...          \n",
       "4       Micro-sized enterprise - until  10 employees          \n",
       "\n",
       "  How do you describe your position in your organization?  \n",
       "0                                  senior researcher       \n",
       "1                           Staff (operational jobs)       \n",
       "2  Executive or Strategic Manager  (Senior execut...       \n",
       "3                  Managers(Senior manager, manager)       \n",
       "4  Executive or Strategic Manager  (Senior execut...       \n",
       "\n",
       "[5 rows x 247 columns]"
      ]
     },
     "execution_count": 663,
     "metadata": {},
     "output_type": "execute_result"
    }
   ],
   "source": [
    "df.head()"
   ]
  },
  {
   "cell_type": "code",
   "execution_count": 664,
   "id": "7620949e",
   "metadata": {},
   "outputs": [
    {
     "name": "stdout",
     "output_type": "stream",
     "text": [
      "(352, 247)\n"
     ]
    }
   ],
   "source": [
    "# dimensão do dataframe\n",
    "print(df.shape)"
   ]
  },
  {
   "cell_type": "code",
   "execution_count": 665,
   "id": "879f0bcc",
   "metadata": {},
   "outputs": [],
   "source": [
    "#removendo linha onde todos os valores são nan\n",
    "df.drop(86, inplace = True)"
   ]
  },
  {
   "cell_type": "code",
   "execution_count": 666,
   "id": "58cac015",
   "metadata": {},
   "outputs": [
    {
     "name": "stdout",
     "output_type": "stream",
     "text": [
      "  In which country, region and city are you located?  \\\n",
      "0                                                 UK   \n",
      "1                                             Brazil   \n",
      "2                              Indianapolis, IN, USA   \n",
      "3                                              India   \n",
      "4                                   Spain, Barcelona   \n",
      "\n",
      "  Do you act directly with the circular economy?  \\\n",
      "0                                            Yes   \n",
      "1                                            Yes   \n",
      "2                                            Yes   \n",
      "3                                             No   \n",
      "4                                            Yes   \n",
      "\n",
      "  How do you evaluate your level of knowledge related to the circular economy [Level of knowledge]  \\\n",
      "0                                          Very High                                                 \n",
      "1                                               High                                                 \n",
      "2                                          Very High                                                 \n",
      "3                                               High                                                 \n",
      "4                                          Very High                                                 \n",
      "\n",
      "  What is your segment of acting?  \\\n",
      "0   Academia/Research Institution   \n",
      "1               Academia/Research   \n",
      "2                     Consultancy   \n",
      "3   Academia/Research Institution   \n",
      "4                     Consultancy   \n",
      "\n",
      "      What sector does your organization operate in?  \\\n",
      "0  Quinary Sector (involves non-profit services s...   \n",
      "1                                    Quinary Sector    \n",
      "2  Quaternary Sector (involves intellectual activ...   \n",
      "3  Quaternary Sector (involves intellectual activ...   \n",
      "4  Secondary Sector (involves the transformation ...   \n",
      "\n",
      "  What is the size of your organization, in terms of staff?  \\\n",
      "0    Large-sized enterprise, more than 250 employees          \n",
      "1    Large-sized enterprise, more than 250 employees          \n",
      "2                            Individual entrepreneur          \n",
      "3  Small-sized enterprise, between 11 and 50 empl...          \n",
      "4       Micro-sized enterprise - until  10 employees          \n",
      "\n",
      "  How do you describe your position in your organization?  \n",
      "0                                  senior researcher       \n",
      "1                           Staff (operational jobs)       \n",
      "2  Executive or Strategic Manager  (Senior execut...       \n",
      "3                  Managers(Senior manager, manager)       \n",
      "4  Executive or Strategic Manager  (Senior execut...       \n"
     ]
    }
   ],
   "source": [
    "# armazenando colunas que correspondem à caracterítica dos respondentes\n",
    "df_respondentes = df.iloc[:, [240,241,242,243,244,245,246]]\n",
    "print(df_respondentes.head())"
   ]
  },
  {
   "cell_type": "code",
   "execution_count": 667,
   "id": "c038cffc",
   "metadata": {},
   "outputs": [],
   "source": [
    "# Removendo as mesmas colunas da base\n",
    "df = df.drop(df.columns[[240,241,242,243,244,245,246]], axis=1)\n",
    "#df.head()"
   ]
  },
  {
   "cell_type": "code",
   "execution_count": 668,
   "id": "a1a6b0fa",
   "metadata": {},
   "outputs": [],
   "source": [
    "#df.columns"
   ]
  },
  {
   "cell_type": "markdown",
   "id": "88dd9b2b",
   "metadata": {},
   "source": [
    "# Caracteríticas dos Respondentes"
   ]
  },
  {
   "cell_type": "code",
   "execution_count": 669,
   "id": "af1f454a",
   "metadata": {},
   "outputs": [],
   "source": [
    "# renomeando colunas\n",
    "df_respondentes = df_respondentes.rename(columns={'In which country, region and city are you located?': 'Localidade', 'Do you act directly with the circular economy?': 'Atuação direta com a EC',\n",
    "                               'How do you evaluate your level of knowledge related to the circular economy [Level of knowledge]':'Nível de conhecimento sobre EC', 'What is your segment of acting?': 'Seguimento de atuação',\n",
    "                                'What sector does your organization operate in?': 'Setor da organização', 'What is the size of your organization, in terms of staff?':'Tamanho da empresa', 'How do you describe your position in your organization?': 'Cargo'\n",
    "                               })"
   ]
  },
  {
   "cell_type": "code",
   "execution_count": 670,
   "id": "62ee565c",
   "metadata": {},
   "outputs": [
    {
     "data": {
      "text/plain": [
       "Index(['Localidade', 'Atuação direta com a EC',\n",
       "       'Nível de conhecimento sobre EC', 'Seguimento de atuação',\n",
       "       'Setor da organização', 'Tamanho da empresa', 'Cargo'],\n",
       "      dtype='object')"
      ]
     },
     "execution_count": 670,
     "metadata": {},
     "output_type": "execute_result"
    }
   ],
   "source": [
    "df_respondentes.columns"
   ]
  },
  {
   "cell_type": "code",
   "execution_count": 671,
   "id": "44f0a1b4",
   "metadata": {},
   "outputs": [
    {
     "data": {
      "text/plain": [
       "(351, 7)"
      ]
     },
     "execution_count": 671,
     "metadata": {},
     "output_type": "execute_result"
    }
   ],
   "source": [
    "df_respondentes.shape"
   ]
  },
  {
   "cell_type": "code",
   "execution_count": 672,
   "id": "34c9f44c",
   "metadata": {
    "scrolled": true
   },
   "outputs": [
    {
     "data": {
      "text/plain": [
       "Executive or Strategic Manager  (Senior executive, executive)    47\n",
       "Staff (operational jobs)                                         44\n",
       "Managers(Senior manager, manager)                                40\n",
       "Advisor (Senior advisor, advisor)                                39\n",
       "Middle Management (Senior director, director)                    26\n",
       "                                                                 ..\n",
       "Staff (operational jobs), Researcher                              1\n",
       "Student at AAU                                                    1\n",
       "Staff (operational jobs), Research Analyst                        1\n",
       "PhD                                                               1\n",
       "estudante                                                         1\n",
       "Name: Cargo, Length: 75, dtype: int64"
      ]
     },
     "execution_count": 672,
     "metadata": {},
     "output_type": "execute_result"
    }
   ],
   "source": [
    "df_respondentes['Cargo'].value_counts()"
   ]
  },
  {
   "cell_type": "code",
   "execution_count": 673,
   "id": "a261543c",
   "metadata": {},
   "outputs": [],
   "source": [
    "#df_respondentes['Cargo'].unique()"
   ]
  },
  {
   "cell_type": "markdown",
   "id": "7e345b5e",
   "metadata": {},
   "source": [
    "# Mapeando e substituindo os valores, coluna 'Cargo'"
   ]
  },
  {
   "cell_type": "code",
   "execution_count": 695,
   "id": "7cf13955",
   "metadata": {},
   "outputs": [],
   "source": [
    "# Substituir os valores na coluna 'categoria' usando o método replace Pesquisaor\n",
    "df_respondentes['Cargo'] = df_respondentes['Cargo'].replace(['Ricer\\D+', \n",
    "                                                             r'rese\\w+', r'Resea\\D+', \n",
    "                                                             r'head of research\\D+', \n",
    "                                                             'senior resear\\D+', 'Pesqui\\D+', 'pesquis\\D+',\n",
    "                                                             'Estag\\D+', r'Maste\\D+', \n",
    "                                                             r'Ph\\D+',  r'Pesq\\D+', 'head of Pesquisador', 'senior Pesquisador'], \n",
    "                                                            'Pesquisador', regex = True)"
   ]
  },
  {
   "cell_type": "code",
   "execution_count": 696,
   "id": "39b1533c",
   "metadata": {},
   "outputs": [],
   "source": [
    "# Substituir os valores na coluna 'categoria' usando o método replace Pesquisaor\n",
    "df_respondentes['Cargo'] = df_respondentes['Cargo'].replace(['head of Pesquisador', 'senior Pesquisador', 'Pesquisador Fellow',\n",
    "                                                            'Pesquisador Thesis Estudante', 'Pesquisador Estudante',\n",
    "                                                             'head of Pesquisador unit'], \n",
    "                                                            'Pesquisador')"
   ]
  },
  {
   "cell_type": "code",
   "execution_count": 676,
   "id": "57668f3f",
   "metadata": {},
   "outputs": [],
   "source": [
    "#df_respondentes['Cargo'].unique()"
   ]
  },
  {
   "cell_type": "code",
   "execution_count": 677,
   "id": "2579ad16",
   "metadata": {},
   "outputs": [],
   "source": [
    "df_respondentes['Cargo'] = df_respondentes['Cargo'].replace(['Àrea Op\\D+', \n",
    "                                                             r'Staf\\D+', r'Opera\\D+', r'Dipenden\\D+'], 'Operacional', regex = True)"
   ]
  },
  {
   "cell_type": "code",
   "execution_count": 678,
   "id": "d4eb66b7",
   "metadata": {},
   "outputs": [],
   "source": [
    "#df_respondentes['Cargo'].unique()"
   ]
  },
  {
   "cell_type": "code",
   "execution_count": 698,
   "id": "8ea9a269",
   "metadata": {},
   "outputs": [],
   "source": [
    "#professor\n",
    "df_respondentes['Cargo'] = df_respondentes['Cargo'].replace([r'pro\\D+', \n",
    "                                                             r'Profe\\D+', \n",
    "                                                             r'coord\\D+', \n",
    "                                                             r'Ensi\\D+', r'Docent\\D+', \n",
    "                                                             'Assista\\D+',  r'I am a faculty mem\\D+', \n",
    "                                                            'Sustainability Professor' ], 'Professor', regex = True)"
   ]
  },
  {
   "cell_type": "code",
   "execution_count": 693,
   "id": "686860f0",
   "metadata": {},
   "outputs": [],
   "source": [
    "# Gerente\n",
    "df_respondentes['Cargo'] = df_respondentes['Cargo'].replace( ['Manag\\D+', \n",
    "                                                              'Geren\\D+','Middl\\D+', r'middle\\D+', r'Dirigen\\D+', 'Executive or Strategic Gerente', 'Project Gerente'], 'Gerente', regex = True)"
   ]
  },
  {
   "cell_type": "code",
   "execution_count": 681,
   "id": "14d454d1",
   "metadata": {},
   "outputs": [],
   "source": [
    "# Supervisor\n",
    "df_respondentes['Cargo'] = df_respondentes['Cargo'].replace([r'Super\\D+'],\n",
    "                                                            'Supervisor', regex = True)"
   ]
  },
  {
   "cell_type": "code",
   "execution_count": 682,
   "id": "b71585ec",
   "metadata": {},
   "outputs": [],
   "source": [
    "# Analista\n",
    "df_respondentes['Cargo'] = df_respondentes['Cargo'].replace(['Analista Técnico ', 'Analista Técnico'], 'Analista')"
   ]
  },
  {
   "cell_type": "code",
   "execution_count": 690,
   "id": "bfe461bc",
   "metadata": {},
   "outputs": [],
   "source": [
    "# Estudante\n",
    "df_respondentes['Cargo'] = df_respondentes['Cargo'].replace([r'Stud\\D+', r'stud\\D+', r'Scho\\D+',\n",
    "                                                             r'alun\\D+', r'Mestra\\D+', \n",
    "                                                             r'estuda\\D+', r'Estudant\\D+', r'EEstud\\D+', 'EEstudante',\n",
    "                                                            \"i'm still under education\", 'eEstudante', 'EEstudante', r'eEEstuda\\D+',  r'EEstuda\\D+' ], 'Estudante', regex = True)"
   ]
  },
  {
   "cell_type": "code",
   "execution_count": 691,
   "id": "a7127b48",
   "metadata": {},
   "outputs": [],
   "source": [
    "# Estudante\n",
    "df_respondentes['Cargo'] = df_respondentes['Cargo'].replace(['EEstudante', 'eEEstudante' ], 'Estudante')"
   ]
  },
  {
   "cell_type": "code",
   "execution_count": 685,
   "id": "a5706420",
   "metadata": {},
   "outputs": [],
   "source": [
    "df_respondentes['Cargo'] = df_respondentes['Cargo'].replace(['Neutro', 'Neutral', 'N\\\\A', 'nothing', 'lecturer', 'Planning officer ',\n",
    "                                                            'Junior Engineer', 'Environmentalist', 'Unemployed', \n",
    "                                                            'CE Expert', 'Associate ', 'Freelancer'  ], 'Outros')"
   ]
  },
  {
   "cell_type": "code",
   "execution_count": 688,
   "id": "9a553550",
   "metadata": {},
   "outputs": [],
   "source": [
    "df_respondentes['Cargo'] = df_respondentes['Cargo'].replace([r'Advi\\D+', r'Consu\\D+', r'business consu\\D+', 'Consultor2018', 'Consultor2014-2018'], 'Consultor', regex = True)\n"
   ]
  },
  {
   "cell_type": "code",
   "execution_count": 699,
   "id": "5de6d297",
   "metadata": {},
   "outputs": [
    {
     "data": {
      "text/plain": [
       "array(['Pesquisador', 'Operacional', 'Gerente', 'Estudante', 'Consultor',\n",
       "       'Professor', 'Outros', nan, 'Supervisor', 'Analista'], dtype=object)"
      ]
     },
     "execution_count": 699,
     "metadata": {},
     "output_type": "execute_result"
    }
   ],
   "source": [
    "df_respondentes['Cargo'].unique()"
   ]
  },
  {
   "cell_type": "code",
   "execution_count": 700,
   "id": "9e6ad120",
   "metadata": {},
   "outputs": [
    {
     "data": {
      "text/plain": [
       "Gerente        158\n",
       "Operacional     63\n",
       "Consultor       53\n",
       "Pesquisador     20\n",
       "Estudante       18\n",
       "Professor       12\n",
       "Outros          11\n",
       "Supervisor       5\n",
       "Analista         1\n",
       "Name: Cargo, dtype: int64"
      ]
     },
     "execution_count": 700,
     "metadata": {},
     "output_type": "execute_result"
    }
   ],
   "source": [
    "df_respondentes['Cargo'].value_counts()"
   ]
  },
  {
   "cell_type": "code",
   "execution_count": 742,
   "id": "dd7adcb5",
   "metadata": {},
   "outputs": [],
   "source": [
    "df_respondentes['Cargo'] = df_respondentes['Cargo'].replace(['Pesquisador', 'Estudante', 'Professor'], 'Acadêmico')"
   ]
  },
  {
   "cell_type": "code",
   "execution_count": 746,
   "id": "9166ef31",
   "metadata": {},
   "outputs": [],
   "source": [
    "df_respondentes['Cargo'] = df_respondentes['Cargo'].replace(['Academicos'], 'Acadêmico')"
   ]
  },
  {
   "cell_type": "code",
   "execution_count": 702,
   "id": "b1dea670",
   "metadata": {},
   "outputs": [
    {
     "data": {
      "text/plain": [
       "10"
      ]
     },
     "execution_count": 702,
     "metadata": {},
     "output_type": "execute_result"
    }
   ],
   "source": [
    "df_respondentes['Cargo'].isna().sum()"
   ]
  },
  {
   "cell_type": "code",
   "execution_count": 703,
   "id": "96bf0c5e",
   "metadata": {},
   "outputs": [],
   "source": [
    "# Função para substituir valores NaN pelos top 3 valores mais comuns\n",
    "def fillna_with_top3_mode(series):\n",
    "    # Encontrar os 3 valores mais comuns excluindo NaN\n",
    "    top3_mode = series.dropna().value_counts().nlargest(3).index.tolist()\n",
    "    \n",
    "    # Calcular a moda (valor mais comum) entre os top 3 valores\n",
    "    moda = series.mode().iat[0] if len(top3_mode) == 0 else top3_mode[0]\n",
    "    \n",
    "    # Preencher NaN com a moda calculada\n",
    "    return series.fillna(moda)\n",
    "\n",
    "# Aplicar a função à coluna específica do DataFrame\n",
    "df_respondentes['Cargo'] = fillna_with_top3_mode(df_respondentes['Cargo'])"
   ]
  },
  {
   "cell_type": "markdown",
   "id": "e39a7658",
   "metadata": {},
   "source": [
    "# Mapeando e substituindo os valores, coluna 'Nível de Conhecimento'"
   ]
  },
  {
   "cell_type": "code",
   "execution_count": 704,
   "id": "d4e8faf9",
   "metadata": {},
   "outputs": [
    {
     "data": {
      "text/plain": [
       "array(['Very High', 'High', 'Neutral', 'Low', 'Very Low', 'Alto',\n",
       "       'Molto alto', 'Very high', 'Very low', 'Baixo'], dtype=object)"
      ]
     },
     "execution_count": 704,
     "metadata": {},
     "output_type": "execute_result"
    }
   ],
   "source": [
    "df_respondentes['Nível de conhecimento sobre EC'].unique()"
   ]
  },
  {
   "cell_type": "code",
   "execution_count": 705,
   "id": "4f859e46",
   "metadata": {},
   "outputs": [
    {
     "data": {
      "text/plain": [
       "High          162\n",
       "Neutral        86\n",
       "Very High      40\n",
       "Low            29\n",
       "Alto           22\n",
       "Very high       5\n",
       "Molto alto      3\n",
       "Very low        2\n",
       "Very Low        1\n",
       "Baixo           1\n",
       "Name: Nível de conhecimento sobre EC, dtype: int64"
      ]
     },
     "execution_count": 705,
     "metadata": {},
     "output_type": "execute_result"
    }
   ],
   "source": [
    "df_respondentes['Nível de conhecimento sobre EC'].value_counts()"
   ]
  },
  {
   "cell_type": "code",
   "execution_count": 706,
   "id": "9535e1f2",
   "metadata": {},
   "outputs": [],
   "source": [
    "df_respondentes['Nível de conhecimento sobre EC'] = df_respondentes['Nível de conhecimento sobre EC'].replace('High', 'Alto')"
   ]
  },
  {
   "cell_type": "code",
   "execution_count": 707,
   "id": "461456df",
   "metadata": {},
   "outputs": [],
   "source": [
    "df_respondentes['Nível de conhecimento sobre EC'] = df_respondentes['Nível de conhecimento sobre EC'].replace(['Very High', 'Very high',  'Molto alto', 'Muito Alto'], 'Muito Alto')"
   ]
  },
  {
   "cell_type": "code",
   "execution_count": 708,
   "id": "a5a6b50c",
   "metadata": {},
   "outputs": [],
   "source": [
    "df_respondentes['Nível de conhecimento sobre EC'] = df_respondentes['Nível de conhecimento sobre EC'].replace('Low', 'Baixo')"
   ]
  },
  {
   "cell_type": "code",
   "execution_count": 709,
   "id": "ef0e2ab3",
   "metadata": {},
   "outputs": [],
   "source": [
    "df_respondentes['Nível de conhecimento sobre EC'] = df_respondentes['Nível de conhecimento sobre EC'].replace(['Very low','Very Low'], 'Muito Baixo')"
   ]
  },
  {
   "cell_type": "code",
   "execution_count": 710,
   "id": "376501fc",
   "metadata": {},
   "outputs": [],
   "source": [
    "df_respondentes['Nível de conhecimento sobre EC'] = df_respondentes['Nível de conhecimento sobre EC'].replace('Neutral', 'Medio')"
   ]
  },
  {
   "cell_type": "code",
   "execution_count": 711,
   "id": "7ddec984",
   "metadata": {},
   "outputs": [
    {
     "data": {
      "text/plain": [
       "0"
      ]
     },
     "execution_count": 711,
     "metadata": {},
     "output_type": "execute_result"
    }
   ],
   "source": [
    "df_respondentes['Nível de conhecimento sobre EC'].isna().sum()"
   ]
  },
  {
   "cell_type": "code",
   "execution_count": 712,
   "id": "e1c82101",
   "metadata": {},
   "outputs": [],
   "source": [
    "# Substituir valores NaN pela moda de cada coluna\n",
    "for coluna in df_respondentes.columns:\n",
    "    moda = df_respondentes['Nível de conhecimento sobre EC'].mode()[0]  # Calcular a moda da coluna\n",
    "    df_respondentes['Nível de conhecimento sobre EC'].fillna(moda, inplace=True)  # Preencher NaN com a moda"
   ]
  },
  {
   "cell_type": "markdown",
   "id": "108aab12",
   "metadata": {},
   "source": [
    "# Mapeando e substituindo os valores, coluna 'Atuação direta com a EC'"
   ]
  },
  {
   "cell_type": "code",
   "execution_count": 713,
   "id": "3d3a2640",
   "metadata": {},
   "outputs": [
    {
     "data": {
      "text/plain": [
       "array(['Yes', 'No',\n",
       "       'I conduct the research in this area and I worked as project manager in the project aiming at Circular Public Procurement implementation.',\n",
       "       'I am not sure what that means. ', 'Maybe',\n",
       "       'Sustainability/Engineering', 'Partly - not 100% focused',\n",
       "       'Starting  Sustainable Start-up',\n",
       "       'Indirectly by providing waste recycling equipment ',\n",
       "       'I have a degree in circular economy, but currently don´t work directly with that ',\n",
       "       'Indirectly through other sustainability efforts',\n",
       "       'Partly through work in production', 'Sì',\n",
       "       'non comprendo la domanda', 'Sim', 'Não'], dtype=object)"
      ]
     },
     "execution_count": 713,
     "metadata": {},
     "output_type": "execute_result"
    }
   ],
   "source": [
    "df_respondentes['Atuação direta com a EC'].unique()"
   ]
  },
  {
   "cell_type": "code",
   "execution_count": 714,
   "id": "57555f54",
   "metadata": {},
   "outputs": [],
   "source": [
    "def patternizer3(x):\n",
    "    x = str(x)\n",
    "    if ('Yes' in x) or ('Sì' in x) or ('Sim' in x) or ('Starting  Sustainable Start-up' in x) or ('Sustainability/Engineering' in x):\n",
    "        x = 'Sim'\n",
    "    if ('No' in x) or ('Não' in x) or ('Não' in x) or ('not' in x) or ('non' in x) or ('Indirectly' in x) or ('Maybe' in x):\n",
    "        x = 'Não'\n",
    "        \n",
    "    return(x)"
   ]
  },
  {
   "cell_type": "code",
   "execution_count": 715,
   "id": "3f92f9ff",
   "metadata": {},
   "outputs": [],
   "source": [
    "df_respondentes['Atuação direta com a EC'] = df_respondentes['Atuação direta com a EC'].apply(patternizer3)"
   ]
  },
  {
   "cell_type": "code",
   "execution_count": 716,
   "id": "9db22eb4",
   "metadata": {},
   "outputs": [
    {
     "data": {
      "text/plain": [
       "0"
      ]
     },
     "execution_count": 716,
     "metadata": {},
     "output_type": "execute_result"
    }
   ],
   "source": [
    "df_respondentes['Atuação direta com a EC'].isna().sum()"
   ]
  },
  {
   "cell_type": "code",
   "execution_count": 717,
   "id": "f4190bf2",
   "metadata": {},
   "outputs": [],
   "source": [
    "df_respondentes['Atuação direta com a EC'] = df_respondentes['Atuação direta com a EC'].replace([r'I cond\\D+', r'I have\\D+', 'nan'], 'Não', regex = True)"
   ]
  },
  {
   "cell_type": "code",
   "execution_count": 718,
   "id": "7705084b",
   "metadata": {},
   "outputs": [],
   "source": [
    "df_respondentes['Atuação direta com a EC'] = df_respondentes['Atuação direta com a EC'].replace('Partly through work in production', 'Sim') "
   ]
  },
  {
   "cell_type": "markdown",
   "id": "09a16f90",
   "metadata": {},
   "source": [
    "# Mapeando e substituindo os valores, coluna 'Tamanho da Empresa'"
   ]
  },
  {
   "cell_type": "code",
   "execution_count": 719,
   "id": "0ef9d961",
   "metadata": {},
   "outputs": [
    {
     "data": {
      "text/plain": [
       "Large-sized enterprise, more than 250 employees                                                               108\n",
       "Small-sized enterprise, between 11 and 50 employees                                                            38\n",
       "Grande - mais de 250 funcionários                                                                              35\n",
       "Medium-sized enterprise, between 51 and 250 employees                                                          34\n",
       "Micro-sized enterprise - until  10 employees                                                                   28\n",
       "Individual entrepreneur                                                                                        20\n",
       "Impresa di grandi dimensioni, più di 250 dipendenti                                                            13\n",
       "Micro - até 10 funcionários                                                                                     9\n",
       "Micro-sized enterprise - until  10 employees, Small-sized enterprise, between 11 and 50 employees               5\n",
       "Médias - de 51 a 250 funcionários                                                                               4\n",
       "Individual entrepreneur, Micro-sized enterprise - until  10 employees                                           4\n",
       "Empreendedor Individual                                                                                         3\n",
       "Impresa di micro dimensioni - fino a 10 dipendenti                                                              3\n",
       "University                                                                                                      3\n",
       "Universidade                                                                                                    3\n",
       "Impresa di medie dimensioni, tra 51 e 250 dipendenti                                                            2\n",
       "Imprenditore individuale                                                                                        2\n",
       "0.0                                                                                                             2\n",
       "Pequena - de 11 até 50 funcionários                                                                             2\n",
       "No se aplica                                                                                                    1\n",
       "Grandes empresas - mais de 250 funcionários                                                                     1\n",
       "estudante                                                                                                       1\n",
       "Impresa di piccole dimensioni, tra 11 e 50 dipendenti                                                           1\n",
       "30000.0                                                                                                         1\n",
       "No tenho empresa.                                                                                               1\n",
       "Empreendedor Individual, Pequena - de 11 até 50 funcionários                                                    1\n",
       "Pesquisador                                                                                                     1\n",
       "No tenho empresa                                                                                                1\n",
       "universidade                                                                                                    1\n",
       "no                                                                                                              1\n",
       "I am not part of an organization                                                                                1\n",
       "University                                                                                                      1\n",
       "Diplomatic mission having 50 staff members both expats and nationals                                            1\n",
       "4000.0                                                                                                          1\n",
       "500 students                                                                                                    1\n",
       "........                                                                                                        1\n",
       "Medium-sized enterprise, between 51 and 250 employees, Large-sized enterprise, more than 250 employees          1\n",
       "Micro-sized enterprise - until  10 employees, Umbrella  organiation nfrom Startups                              1\n",
       "As I'm a student that's why I've no staff                                                                       1\n",
       "3000.0                                                                                                          1\n",
       "Small-sized enterprise, between 11 and 50 employees, Medium-sized enterprise, between 51 and 250 employees      1\n",
       "Individual entrepreneur, Collaborating with other indivuduak entrepreneurs - GIG economy                        1\n",
       "Unemployed                                                                                                      1\n",
       "6 (Steward owner)                                                                                               1\n",
       "Na                                                                                                              1\n",
       "I do not work yet.                                                                                              1\n",
       "Reseacherl                                                                                                      1\n",
       "i'm still under education                                                                                       1\n",
       "Global company                                                                                                  1\n",
       "Student                                                                                                         1\n",
       "Empreendedor Individual, Consultor de sociedade civil                                                           1\n",
       "Name: Tamanho da empresa, dtype: int64"
      ]
     },
     "execution_count": 719,
     "metadata": {},
     "output_type": "execute_result"
    }
   ],
   "source": [
    "df_respondentes['Tamanho da empresa'].value_counts()"
   ]
  },
  {
   "cell_type": "code",
   "execution_count": 720,
   "id": "9024e2cf",
   "metadata": {},
   "outputs": [],
   "source": [
    "def patternizer2(x):\n",
    "    x=str(x)\n",
    "    if ('Grande' in x) or ('Big' in x) or ('Large' in x) or ('30000' in x) or ('3000' in x) or ('4000' in x) or ('grandi' in x) or ('Global company' in x):\n",
    "        x='Grande'\n",
    "    if ('Média' in x) or ('Medium' in x) or ('medie' in x) or ('3-sized enterprise, between 51 and 250 employees' in x):\n",
    "        x='Média'\n",
    "    if ('Pequena' in x) or ('Small' in x) or  ('piccole' in x):\n",
    "        x='Pequena'\n",
    "    if ('até 10' in x) or ('until  10' in x) or ('6 (Steward owner)' in x):\n",
    "        x='Micro'\n",
    "    if ('Individual' in x) or ('individuale' in x):\n",
    "        x='Individual'\n",
    "    if ('Não' in x) or ('não' in x) or ('Unemployed' in x) or ('Diplomatic' in x) or ('No se aplica' in x) or ('No' in x)or ('no' in x) or ('Na' in x) or ('nan' in x) or (x=='0') or ('........' in x):\n",
    "        x='Sem empresa'\n",
    "    if ('Universidade' in x) or ('universidade' in x) or ('Pesquisador' in x) or ('estudante' in x) or ('under education' in x) or ('Student' in x) or ('Reseacherl' in x) or ('student' in x) or ('University' in x) or ('students' in x):\n",
    "        x='Acadêmico'\n",
    "    return (x)"
   ]
  },
  {
   "cell_type": "code",
   "execution_count": 721,
   "id": "eca7067c",
   "metadata": {},
   "outputs": [],
   "source": [
    "df_respondentes['Tamanho da empresa'] = df_respondentes['Tamanho da empresa'].apply(patternizer2)"
   ]
  },
  {
   "cell_type": "markdown",
   "id": "c48b727b",
   "metadata": {},
   "source": [
    "# Mapeando e substituindo os valores, coluna 'Setor da organização'"
   ]
  },
  {
   "cell_type": "code",
   "execution_count": 722,
   "id": "2c26c713",
   "metadata": {},
   "outputs": [
    {
     "data": {
      "text/plain": [
       "Quaternary Sector                                                                                                                                                                                                                                                                                                                                                                                                                                                                                                                                                                                          48\n",
       "Quinary Sector                                                                                                                                                                                                                                                                                                                                                                                                                                                                                                                                                                                             36\n",
       "Quaternary Sector (involves intellectual activities, such as information generation and sharing)                                                                                                                                                                                                                                                                                                                                                                                                                                                                                                           35\n",
       "Quinary Sector (involves non-profit services such as health, education, culture, research (unpaid), police, firefighters, civil guard and non-governmental organizations).                                                                                                                                                                                                                                                                                                                                                                                                                                 27\n",
       "Tertiary sector (involves trade and the provision of services to consumers and /or companies)                                                                                                                                                                                                                                                                                                                                                                                                                                                                                                              15\n",
       "Secondary Sector (involves the transformation of raw materials into goods)                                                                                                                                                                                                                                                                                                                                                                                                                                                                                                                                 15\n",
       "Primary Sector                                                                                                                                                                                                                                                                                                                                                                                                                                                                                                                                                                                             14\n",
       "Quaternary Sector                                                                                                                                                                                                                                                                                                                                                                                                                                                                                                                                                                                          14\n",
       "Tertiary Sector                                                                                                                                                                                                                                                                                                                                                                                                                                                                                                                                                                                            12\n",
       "Secondary Sector                                                                                                                                                                                                                                                                                                                                                                                                                                                                                                                                                                                           11\n",
       "Tertiary sector                                                                                                                                                                                                                                                                                                                                                                                                                                                                                                                                                                                             9\n",
       "Quinary Sector                                                                                                                                                                                                                                                                                                                                                                                                                                                                                                                                                                                              8\n",
       "Secondary Sector                                                                                                                                                                                                                                                                                                                                                                                                                                                                                                                                                                                            8\n",
       "Tertiary sector (involves trade and the provision of services to consumers and /or companies), Quaternary Sector (involves intellectual activities, such as information generation and sharing)                                                                                                                                                                                                                                                                                                                                                                                                             8\n",
       "Settore terziario (coinvolge il commercio e la fornitura di servizi ai consumatori e / o alle imprese)                                                                                                                                                                                                                                                                                                                                                                                                                                                                                                      8\n",
       "Quaternary Sector (involves intellectual activities, such as information generation and sharing), Quinary Sector (involves non-profit services such as health, education, culture, research (unpaid), police, firefighters, civil guard and non-governmental organizations).                                                                                                                                                                                                                                                                                                                                7\n",
       "Secondary Sector (involves the transformation of raw materials into goods), Tertiary sector (involves trade and the provision of services to consumers and /or companies)                                                                                                                                                                                                                                                                                                                                                                                                                                   5\n",
       "Primary Sector                                                                                                                                                                                                                                                                                                                                                                                                                                                                                                                                                                                              5\n",
       "Secondary Sector (involves the transformation of raw materials into goods), Tertiary sector (involves trade and the provision of services to consumers and /or companies), Quaternary Sector (involves intellectual activities, such as information generation and sharing)                                                                                                                                                                                                                                                                                                                                 4\n",
       "Tertiary sector                                                                                                                                                                                                                                                                                                                                                                                                                                                                                                                                                                                             4\n",
       "Primary Sector (involves the extraction and/or production of raw materials), Secondary Sector (involves the transformation of raw materials into goods), Tertiary sector (involves trade and the provision of services to consumers and /or companies), Quinary Sector (involves non-profit services such as health, education, culture, research (unpaid), police, firefighters, civil guard and non-governmental organizations).                                                                                                                                                                          3\n",
       "Primary Sector (involves the extraction and/or production of raw materials)                                                                                                                                                                                                                                                                                                                                                                                                                                                                                                                                 3\n",
       "Settore quaternario (coinvolge attività intellettuali, come la generazione e la condivisione di informazioni)                                                                                                                                                                                                                                                                                                                                                                                                                                                                                               3\n",
       "Secondary Sector (involves the transformation of raw materials into goods), Tertiary sector (involves trade and the provision of services to consumers and /or companies), Quaternary Sector (involves intellectual activities, such as information generation and sharing), Quinary Sector (involves non-profit services such as health, education, culture, research (unpaid), police, firefighters, civil guard and non-governmental organizations).                                                                                                                                                     2\n",
       "Secondary Sector (involves the transformation of raw materials into goods), Quaternary Sector (involves intellectual activities, such as information generation and sharing)                                                                                                                                                                                                                                                                                                                                                                                                                                2\n",
       "Settore secondario (comporta la trasformazione di materie prime in beni), Settore terziario (coinvolge il commercio e la fornitura di servizi ai consumatori e / o alle imprese)                                                                                                                                                                                                                                                                                                                                                                                                                            2\n",
       "Primary Sector (involves the extraction and/or production of raw materials), Secondary Sector (involves the transformation of raw materials into goods), Tertiary sector (involves trade and the provision of services to consumers and /or companies), Quaternary Sector (involves intellectual activities, such as information generation and sharing), Quinary Sector (involves non-profit services such as health, education, culture, research (unpaid), police, firefighters, civil guard and non-governmental organizations).                                                                        2\n",
       "Tertiary sector (involves trade and the provision of services to consumers and /or companies), Quaternary Sector (involves intellectual activities, such as information generation and sharing), Quinary Sector (involves non-profit services such as health, education, culture, research (unpaid), police, firefighters, civil guard and non-governmental organizations).                                                                                                                                                                                                                                 2\n",
       "Settore terziario (coinvolge il commercio e la fornitura di servizi ai consumatori e / o alle imprese), Settore quaternario (coinvolge attività intellettuali, come la generazione e la condivisione di informazioni)                                                                                                                                                                                                                                                                                                                                                                                       2\n",
       "University                                                                                                                                                                                                                                                                                                                                                                                                                                                                                                                                                                                                  2\n",
       "Settore quinario (comprende servizi senza scopo di lucro quali sanità, istruzione, cultura, ricerca (non retribuita), polizia, vigili del fuoco, guardia civile e organizzazioni non governative).                                                                                                                                                                                                                                                                                                                                                                                                          2\n",
       "Setor Quaternário (envolve atividades intelectuais, como geração e compartilhamento de informação)                                                                                                                                                                                                                                                                                                                                                                                                                                                                                                          2\n",
       "Setor Secundário (envolve a transformação de matérias-primas em bens)                                                                                                                                                                                                                                                                                                                                                                                                                                                                                                                                       2\n",
       "Settore terziario (coinvolge il commercio e la fornitura di servizi ai consumatori e / o alle imprese), Commercializzazione impianti di riciclo                                                                                                                                                                                                                                                                                                                                                                                                                                                             1\n",
       "Quaternary Sector (involves intellectual activities, such as information generation and sharing), Preparation of national legislation.                                                                                                                                                                                                                                                                                                                                                                                                                                                                      1\n",
       "Settore quaternario (coinvolge attività intellettuali, come la generazione e la condivisione di informazioni), Settore quinario (comprende servizi senza scopo di lucro quali sanità, istruzione, cultura, ricerca (non retribuita), polizia, vigili del fuoco, guardia civile e organizzazioni non governative).                                                                                                                                                                                                                                                                                           1\n",
       "Settore secondario (comporta la trasformazione di materie prime in beni), Settore terziario (coinvolge il commercio e la fornitura di servizi ai consumatori e / o alle imprese), Settore quaternario (coinvolge attività intellettuali, come la generazione e la condivisione di informazioni)                                                                                                                                                                                                                                                                                                             1\n",
       "Secondary Sector (involves the transformation of raw materials into goods), Quinary Sector (involves non-profit services such as health, education, culture, research (unpaid), police, firefighters, civil guard and non-governmental organizations).                                                                                                                                                                                                                                                                                                                                                      1\n",
       "Settore secondario (comporta la trasformazione di materie prime in beni)                                                                                                                                                                                                                                                                                                                                                                                                                                                                                                                                    1\n",
       "Secondary Sector (involves the transformation of raw materials into goods), Tertiary sector (involves trade and the provision of services to consumers and /or companies), Quaternary Sector (involves intellectual activities, such as information generation and sharing), Sustainable research and commercialization                                                                                                                                                                                                                                                                                     1\n",
       "cross-sectoral /Industrial ecology                                                                                                                                                                                                                                                                                                                                                                                                                                                                                                                                                                          1\n",
       "Primary Sector (involves the extraction and/or production of raw materials), Secondary Sector (involves the transformation of raw materials into goods), Tertiary sector (involves trade and the provision of services to consumers and /or companies), Quaternary Sector (involves intellectual activities, such as information generation and sharing), Quinary Sector (involves non-profit services such as health, education, culture, research (unpaid), police, firefighters, civil guard and non-governmental organizations)., Did Circular Economy & Eco-design it-research in Berlin 2014-2018     1\n",
       "Secondary Sector (involves the transformation of raw materials into goods), Tertiary sector (involves trade and the provision of services to consumers and /or companies), Quaternary Sector (involves intellectual activities, such as information generation and sharing), Quinary Sector (involves non-profit services such as health, education, culture, research (unpaid), police, firefighters, civil guard and non-governmental organizations)., Multiple Organization I work for                                                                                                                   1\n",
       "Tertiary Sector                                                                                                                                                                                                                                                                                                                                                                                                                                                                                                                                                                                             1\n",
       "i'm still under education                                                                                                                                                                                                                                                                                                                                                                                                                                                                                                                                                                                   1\n",
       "Unemployed                                                                                                                                                                                                                                                                                                                                                                                                                                                                                                                                                                                                  1\n",
       "municipality                                                                                                                                                                                                                                                                                                                                                                                                                                                                                                                                                                                                1\n",
       "Tertiary sector (involves trade and the provision of services to consumers and /or companies), Quinary Sector (involves non-profit services such as health, education, culture, research (unpaid), police, firefighters, civil guard and non-governmental organizations).                                                                                                                                                                                                                                                                                                                                   1\n",
       "Secondary Sector (involves the transformation of raw materials into goods), Quaternary Sector (involves intellectual activities, such as information generation and sharing), PhD                                                                                                                                                                                                                                                                                                                                                                                                                           1\n",
       "Research sector                                                                                                                                                                                                                                                                                                                                                                                                                                                                                                                                                                                             1\n",
       "Primary Sector (involves the extraction and/or production of raw materials), Secondary Sector (involves the transformation of raw materials into goods), Quaternary Sector (involves intellectual activities, such as information generation and sharing)                                                                                                                                                                                                                                                                                                                                                   1\n",
       "Primary sector                                                                                                                                                                                                                                                                                                                                                                                                                                                                                                                                                                                              1\n",
       "university                                                                                                                                                                                                                                                                                                                                                                                                                                                                                                                                                                                                  1\n",
       "Research and education                                                                                                                                                                                                                                                                                                                                                                                                                                                                                                                                                                                      1\n",
       "Setor Quinário (envolve os serviços sem fins lucrativos, como a saúde, a educação, a cultura, a investigação (não remunerada), a polícia, os bombeiros, a guarda civil e organizações não governamentais).                                                                                                                                                                                                                                                                                                                                                                                                  1\n",
       "Name: Setor da organização, dtype: int64"
      ]
     },
     "execution_count": 722,
     "metadata": {},
     "output_type": "execute_result"
    }
   ],
   "source": [
    "df_respondentes['Setor da organização'].value_counts()"
   ]
  },
  {
   "cell_type": "code",
   "execution_count": 723,
   "id": "17fa5df4",
   "metadata": {},
   "outputs": [],
   "source": [
    "def patternizer(x):\n",
    "    x=str(x)\n",
    "    if ('Primário' in x) or ('Primary' in x):\n",
    "        x='Primário'\n",
    "    if ('Secundário' in x) or ('Secondary' in x) or ('secondario' in x):\n",
    "        x='Secundário'\n",
    "    if ('Terciário' in x) or ('terziario' in x) or ('Tertiary' in x):\n",
    "        x='Terciário'\n",
    "    if ('Quaternário' in x) or ('Quaternary' in x) or ('quaternario' in x):\n",
    "        x='Quarternário'\n",
    "    if ('Quinário' in x) or ('Quinary' in x) or ('quinario' in x):\n",
    "        x='Quinário'\n",
    "    if ('Research' in x) or ('university' in x) or ( 'University' in x) or ('education' in x):\n",
    "        x = 'Pesquisa'\n",
    "    return (x)"
   ]
  },
  {
   "cell_type": "code",
   "execution_count": 724,
   "id": "a909062a",
   "metadata": {},
   "outputs": [],
   "source": [
    "df_respondentes['Setor da organização'] = df_respondentes['Setor da organização'].apply(patternizer)"
   ]
  },
  {
   "cell_type": "code",
   "execution_count": 725,
   "id": "987925dc",
   "metadata": {},
   "outputs": [],
   "source": [
    "df_respondentes['Setor da organização'] = df_respondentes['Setor da organização'].replace(['municipality', 'Unemployed',\n",
    "       'cross-sectoral /Industrial ecology','nan'], 'Outros')"
   ]
  },
  {
   "cell_type": "code",
   "execution_count": 726,
   "id": "d6bef8fa",
   "metadata": {},
   "outputs": [
    {
     "data": {
      "text/plain": [
       "0"
      ]
     },
     "execution_count": 726,
     "metadata": {},
     "output_type": "execute_result"
    }
   ],
   "source": [
    "df_respondentes['Setor da organização'].isna().sum()"
   ]
  },
  {
   "cell_type": "markdown",
   "id": "d88e18c9",
   "metadata": {},
   "source": [
    "# Organizando coluna 'Localidade' "
   ]
  },
  {
   "cell_type": "code",
   "execution_count": 727,
   "id": "4dc51e84",
   "metadata": {},
   "outputs": [
    {
     "data": {
      "text/plain": [
       "array(['UK', 'Brazil', 'Indianapolis, IN, USA', 'India',\n",
       "       'Spain, Barcelona', 'Canada', 'Senegal, Dakar, Dakar',\n",
       "       'Edinburgh, Scotland', 'Spain', 'Denmark, Copenhagen',\n",
       "       'Milan, Italy', 'Poland, Malopolska Region, Krakow',\n",
       "       'Montevideo, Uruguay', 'Argentina', 'Latvia, Riga',\n",
       "       'POLAND, LESSER POLAND, KRAKOW ', 'Pakistan', 'Denmark, Aalborg',\n",
       "       'Denmark', 'Italy, Emilia Romagna, Bologna.', 'italy',\n",
       "       'UK, Nottingham', 'Egypt', 'Switzerland',\n",
       "       'India, Kashmir, Baramullah', 'Worcester, MA, USA', 'Netherlands ',\n",
       "       'Copenhagen', 'Denmark, Copenhagen ', 'Copenhagen, Denmark',\n",
       "       'Denmark, Odense C', 'Arnhem', 'South Africa', 'Denmstk',\n",
       "       'Denmark, Greater Copenhagen', 'Aarhus, Denmark',\n",
       "       'Copenhagen Denmark', 'Italy', 'Denmark, Vejle ',\n",
       "       'Denmark, North Jutland, Aalborg',\n",
       "       'Denmark, Capital Region, Copenhagen', 'Marburg Germany',\n",
       "       'Denmark ', 'Denmark, Sjaelland, Copenhagen', 'Denmark, Vejle',\n",
       "       'Stockholm, Sweden', 'Denmark, Zealand, Roskilde', 'Sweden, Malmø',\n",
       "       'Spain, Andalusia, Malaga', 'Copenhagen ',\n",
       "       'Belgium, Brussels Capital Region, Brussels', 'De', 'denmark',\n",
       "       'Denmark, midtjylland, Aarhus ', 'North Jutland', 'USA',\n",
       "       'Taastrup', 'Denamrk', 'Denmark, Aarhus ', 'Copenhage',\n",
       "       'Denmark, capital, Copenhagen', 'Denmark, Østjylland, Aarhus',\n",
       "       'India ', 'Netherlands, Limburg, venlo', 'Serbia',\n",
       "       'Nykøbing Falster, Region Sjælland, Danmark',\n",
       "       'Denmark, Midtjylland, 7400 Herning ', 'Denmark, Randers C',\n",
       "       'Lithuania', 'Denmark, Aarhus', 'Denmark, copenhagen ',\n",
       "       'Denmark, Sjælland, Nørre Alslev', 'South Asia',\n",
       "       'Denmark, Copenhagen city center', 'denmark Copenhagen',\n",
       "       'Italia, Emilia Romagna, Rimini', 'Bologna', 'Milano',\n",
       "       'Roma, Italia, Europa', 'Italia, Marche, Ancona',\n",
       "       'Italia, Emilia-Romagna, Bologna', 'MODENA', 'Italia',\n",
       "       'Italia (Veneto)', 'Roma', 'Italia, Friuli Venezia Giulia',\n",
       "       'italia, emilia romagna, bologna', 'Italia, Toscana',\n",
       "       'Italia, Emilia Romagna, Modena', 'Italia, Basilicata, Matera',\n",
       "       'italia, lazio, roma', 'Italia, Lombardia, Milano',\n",
       "       'Italia, Lombardia, Brescia', 'Chapecó. Santa Catarina, Brasil',\n",
       "       'Holanda, Amsterdam', 'Porto, Portugal', 'Madri, Espanha',\n",
       "       'Dois Vizinhos - Paraná / Brasil'], dtype=object)"
      ]
     },
     "execution_count": 727,
     "metadata": {},
     "output_type": "execute_result"
    }
   ],
   "source": [
    "df_respondentes['Localidade'].unique()"
   ]
  },
  {
   "cell_type": "code",
   "execution_count": 728,
   "id": "5887b768",
   "metadata": {},
   "outputs": [],
   "source": [
    "def patternizer4(país):\n",
    "    país = str(país)\n",
    "    if 'Brazil' in país or 'Brasil' in país:\n",
    "        país = 'Brasil'\n",
    "    if 'Italia' in país or 'Italy' in país or 'italy' in país or 'italia' in país:\n",
    "        país = 'Itália'\n",
    "    if 'Denmark' in país or 'denmark' in país or 'Danmark' in país or 'Denamrk' in país:\n",
    "        país = 'Dinamarca' \n",
    "    if 'Spain' in país or 'Espanha' in país:\n",
    "        país = 'Espanha'\n",
    "    if 'USA' in país:\n",
    "        país = 'EUA'\n",
    "    if 'Sweden' in país:\n",
    "        país = 'Suécia'\n",
    "    if 'POLAND' in país or 'Poland' in país:\n",
    "        país = 'Polônia'\n",
    "    if 'India' in país:\n",
    "        país = 'Índia'   \n",
    "    return país"
   ]
  },
  {
   "cell_type": "code",
   "execution_count": 729,
   "id": "d6ba6853",
   "metadata": {},
   "outputs": [
    {
     "data": {
      "text/plain": [
       "array(['UK', 'Brasil', 'EUA', 'Índia', 'Espanha', 'Canada',\n",
       "       'Senegal, Dakar, Dakar', 'Edinburgh, Scotland', 'Dinamarca',\n",
       "       'Itália', 'Polônia', 'Montevideo, Uruguay', 'Argentina',\n",
       "       'Latvia, Riga', 'Pakistan', 'UK, Nottingham', 'Egypt',\n",
       "       'Switzerland', 'Netherlands ', 'Copenhagen', 'Arnhem',\n",
       "       'South Africa', 'Denmstk', 'Marburg Germany', 'Suécia',\n",
       "       'Copenhagen ', 'Belgium, Brussels Capital Region, Brussels', 'De',\n",
       "       'North Jutland', 'Taastrup', 'Copenhage',\n",
       "       'Netherlands, Limburg, venlo', 'Serbia', 'Lithuania', 'South Asia',\n",
       "       'Bologna', 'Milano', 'MODENA', 'Roma', 'Holanda, Amsterdam',\n",
       "       'Porto, Portugal'], dtype=object)"
      ]
     },
     "execution_count": 729,
     "metadata": {},
     "output_type": "execute_result"
    }
   ],
   "source": [
    "ava = df_respondentes['Localidade'].apply(patternizer4)\n",
    "ava.unique()"
   ]
  },
  {
   "cell_type": "code",
   "execution_count": 730,
   "id": "136f1ab9",
   "metadata": {},
   "outputs": [],
   "source": [
    "df_respondentes['Localidade'] = df_respondentes['Localidade'].apply(patternizer4)"
   ]
  },
  {
   "cell_type": "code",
   "execution_count": 731,
   "id": "68cf2195",
   "metadata": {},
   "outputs": [],
   "source": [
    "def patternizer6(pais):\n",
    "    pais = str(pais)\n",
    "    mapeamento_paises = {\n",
    "        'UK': 'Reino Unido',\n",
    "        'Brasil': 'Brasil',\n",
    "        'EUA': 'Estados Unidos',\n",
    "        'India': 'Índia',\n",
    "        'Espanha': 'Espanha',\n",
    "        'Canada': 'Canadá',\n",
    "        'Senegal, Dakar, Dakar': 'Senegal',\n",
    "        'Edinburgh, Scotland': 'Reino Unido',\n",
    "        'Dinamarca': 'Dinamarca',\n",
    "        'Italia': 'Itália',\n",
    "        'Polônia': 'Polônia',\n",
    "        'Montevideo, Uruguay': 'Uruguai',\n",
    "        'Argentina': 'Argentina',\n",
    "        'Latvia, Riga': 'Letônia',\n",
    "        'Pakistan': 'Paquistão',\n",
    "        'italy': 'Itália',\n",
    "        'UK, Nottingham': 'Reino Unido',\n",
    "        'Egypt': 'Egito',\n",
    "        'Switzerland': 'Suíça',\n",
    "        'India, Kashmir, Baramullah': 'Índia',\n",
    "        'Netherlands ': 'Países Baixos',\n",
    "        'Copenhagen': 'Dinamarca',\n",
    "        'Arnhem': 'Países Baixos',\n",
    "        'South Africa': 'África do Sul',\n",
    "        'Denmstk': 'Dinamarca',\n",
    "        'Marburg Germany': 'Alemanha',\n",
    "        'Suecia': 'Suécia',\n",
    "        'Copenhagen ': 'Dinamarca',\n",
    "        'Belgium, Brussels Capital Region, Brussels': 'Bélgica',\n",
    "        'De': 'Alemanha',\n",
    "        'North Jutland': 'Dinamarca',\n",
    "        'Taastrup': 'Dinamarca',\n",
    "        'Copenhage': 'Dinamarca',\n",
    "        'India ': 'Índia',\n",
    "        'Netherlands, Limburg, venlo': 'Países Baixos',\n",
    "        'Serbia': 'Sérvia',\n",
    "        'Lithuania': 'Lituânia',\n",
    "        'South Asia': 'Ásia Meridional',\n",
    "        'Bologna': 'Itália',\n",
    "        'Milano': 'Itália',\n",
    "        'MODENA': 'Itália',\n",
    "        'Roma': 'Itália',\n",
    "        'Holanda, Amsterdam': 'Países Baixos',\n",
    "        'Porto, Portugal': 'Portugal',\n",
    "        'Madri, Espanha': 'Espanha'\n",
    "    }\n",
    "    \n",
    "    for local, pais_correspondente in mapeamento_paises.items():\n",
    "        if local in pais:\n",
    "            return pais_correspondente\n",
    "    \n",
    "    return pais"
   ]
  },
  {
   "cell_type": "code",
   "execution_count": 732,
   "id": "67e726ce",
   "metadata": {},
   "outputs": [],
   "source": [
    "df_respondentes['Localidade'] = df_respondentes['Localidade'].apply(patternizer6)"
   ]
  },
  {
   "cell_type": "code",
   "execution_count": 733,
   "id": "3746563d",
   "metadata": {},
   "outputs": [
    {
     "data": {
      "text/plain": [
       "Dinamarca          113\n",
       "Paquistão          104\n",
       "Brasil              69\n",
       "Itália              27\n",
       "Países Baixos        5\n",
       "Espanha              4\n",
       "Índia                3\n",
       "Estados Unidos       3\n",
       "Reino Unido          3\n",
       "Canadá               2\n",
       "Alemanha             2\n",
       "Polônia              2\n",
       "Suécia               2\n",
       "Ásia Meridional      1\n",
       "Lituânia             1\n",
       "Sérvia               1\n",
       "Bélgica              1\n",
       "Letônia              1\n",
       "África do Sul        1\n",
       "Suíça                1\n",
       "Egito                1\n",
       "Argentina            1\n",
       "Uruguai              1\n",
       "Senegal              1\n",
       "Portugal             1\n",
       "Name: Localidade, dtype: int64"
      ]
     },
     "execution_count": 733,
     "metadata": {},
     "output_type": "execute_result"
    }
   ],
   "source": [
    "df_respondentes['Localidade'].value_counts()"
   ]
  },
  {
   "cell_type": "markdown",
   "id": "f4838c9f",
   "metadata": {},
   "source": [
    "# Organizando coluna 'Seguimento de Atuação' ***"
   ]
  },
  {
   "cell_type": "code",
   "execution_count": 734,
   "id": "057c6b3d",
   "metadata": {
    "scrolled": false
   },
   "outputs": [
    {
     "data": {
      "text/plain": [
       "array(['Academia/Research Institution', 'Academia/Research',\n",
       "       'Consultancy', 'Waste management',\n",
       "       'Consultancy, Non-governmental organization (NGO), Waste processing and management, Recycling',\n",
       "       'Consultancy, Waste processing and management, Recycling',\n",
       "       'Academia/Research Institution, Consultancy, Waste processing and management, Textile, Footwear and/or Apparel, Packaging, Recycling, Engineering',\n",
       "       'Academia/Research Institution, Consultancy',\n",
       "       'Waste processing and management',\n",
       "       'Academia/Research Institution, Non-governmental organization (NGO)',\n",
       "       'Government, Academia/Research Institution',\n",
       "       'Government, Academia/Research Institution, Consultancy, Energy and heat processing and management, Water processing and management, Agrifood, Construction',\n",
       "       'International Cooperation', 'NGO', 'Energy/Heat processing',\n",
       "       'Academia/Research Institution, Consultancy, Energy and heat processing and management, Engineering, Construction, data',\n",
       "       'Textile, Footwear & Apparel Industry', 'Government',\n",
       "       'International cooperation', 'Environmental Activism', 'Recycling',\n",
       "       'Electro and Electronics Industry',\n",
       "       'Water processing and management, Engineering, Construction',\n",
       "       'Water management', 'Engineering, Construction',\n",
       "       'Water processing management', 'Packaging', 'Petroleum Industry',\n",
       "       'Engineering',\n",
       "       'Association of vulnerable workers Textile, Footwear and/or Apparel, Packaging, Agrifood, Recycling, Construction',\n",
       "       'Energy/Heat management', 'Communication sector',\n",
       "       'Academia/Research Institution, Consultancy, Agrifood',\n",
       "       'International Organization ',\n",
       "       'Academia/Research Institution, Agrifood', 'Agrifood industry',\n",
       "       'Government, Association of vulnerable workers, Consultancy, Waste processing and management, Textile, Footwear and/or Apparel, Electro and Electronics, Packaging, Recycling, Construction, Mining, metals, and minerals',\n",
       "       'Academia/Research Institution, Engineering',\n",
       "       'Academia/Research Institution, Consultancy, Engineering',\n",
       "       'Consultancy, Textile, Footwear and/or Apparel',\n",
       "       'Academia/Research Institution, Energy and heat processing and management, Chemical, Engineering, Mining, metals, and minerals',\n",
       "       'Academia/Research Institution, Waste processing and management, Agrifood, Engineering',\n",
       "       'Consultancy, Water processing and management, Automotive, Ceramic, cement., Engineering, Construction, Disinfection, Technology for waste management, Health, Construction, Aviation',\n",
       "       'Consultancy, Energy and heat processing and management, Engineering, Construction',\n",
       "       'Non-governmental organization (NGO)',\n",
       "       'Textile, Footwear and/or Apparel',\n",
       "       'Waste processing and management, Energy and heat processing and management, Water processing and management, Agrifood, Recycling, Engineering, Construction',\n",
       "       'Furniture',\n",
       "       'Waste processing and management, Textile, Footwear and/or Apparel, Recycling',\n",
       "       'Construction, Municipality',\n",
       "       'Non-governmental organization (NGO), Waste processing and management, Energy and heat processing and management, Water processing and management, Recycling, Engineering',\n",
       "       'Academia/Research Institution, Waste processing and management, Packaging, Agrifood',\n",
       "       'Consultancy, Non-governmental organization (NGO), Waste processing and management, Packaging, Engineering, Business',\n",
       "       'Academia/Research Institution, Recycling, Engineering',\n",
       "       'Packaging, Recycling, Cosmetics production',\n",
       "       'Water processing and management',\n",
       "       'Academia/Research Institution, Packaging',\n",
       "       'Consultancy, Non-governmental organization (NGO), Waste processing and management, Packaging, Agrifood, Recycling, Engineering, Mining, metals, and minerals',\n",
       "       'Academia/Research Institution, Engineering, Construction', nan,\n",
       "       'Academia/Research Institution, Design',\n",
       "       'Consultancy, Waste processing and management, Agrifood, Engineering, Construction',\n",
       "       'Academia/Research Institution, Chemical', 'Personal',\n",
       "       'Academia/Research Institution, Non-governmental organization (NGO), Packaging, Agrifood, Recycling',\n",
       "       'Consultancy, Engineering, Financing',\n",
       "       'Consultancy, Waste processing and management, Energy and heat processing and management, Water processing and management, Packaging, Recycling, Engineering',\n",
       "       'Construction', 'Product development  ',\n",
       "       'Waste processing and management, Water processing and management, Engineering',\n",
       "       'Non-governmental organization (NGO), Agrifood',\n",
       "       'Consultancy, Consumer Goods',\n",
       "       'Academia/Research Institution, Consultancy, Waste processing and management, Packaging, Agrifood',\n",
       "       'Academia/Research Institution, Consultancy, Engineering, Construction',\n",
       "       'Energy and heat processing and management, Chemical, Engineering',\n",
       "       'Waste processing and management, Energy and heat processing and management, Recycling, Engineering',\n",
       "       'Waste processing and management, Energy and heat processing and management, Recycling',\n",
       "       'Academia/Research Institution, Consultancy, Non-governmental organization (NGO)',\n",
       "       'Government, Academia/Research Institution, Textile, Footwear and/or Apparel, Recycling',\n",
       "       \"Water processing and management, Don't work with Circular economy - I have an interest in it - specialized in Water\",\n",
       "       'Academia/Research Institution, Agrifood, Pharma and Biotechnology',\n",
       "       'Consultancy, Waste processing and management, Energy and heat processing and management, Recycling, Engineering',\n",
       "       'Government, Academia/Research Institution, Consultancy, Non-governmental organization (NGO), Waste processing and management, Packaging, Agrifood',\n",
       "       'Academia/Research Institution, Waste processing and management, Engineering',\n",
       "       'Government, Academia/Research Institution, Trade Unions (sindicates) of workers, Association of vulnerable workers, Consultancy, Non-governmental organization (NGO), Waste processing and management, Energy and heat processing and management, Water processing and management, Textile, Footwear and/or Apparel, Automotive, Electro and Electronics, Packaging, Agrifood, Recycling, Engineering, Construction, Did Circular Economy & Eco-design it-research in Berlin 2014-2018',\n",
       "       'Production',\n",
       "       'Academia/Research Institution, Energy and heat processing and management, Agrifood',\n",
       "       'Academia/Research Institution, Recycling',\n",
       "       'Government, Waste processing and management, Packaging, Recycling',\n",
       "       'Consultancy, Non-governmental organization (NGO), Recycling',\n",
       "       'Waste processing and management, Energy and heat processing and management, scope 1,2,3 CO2 emission calculation and reduction',\n",
       "       'Academia/Research Institution, Consultancy, Textile, Footwear and/or Apparel, Engineering',\n",
       "       'Consultancy, Textile, Footwear and/or Apparel, Packaging, Agrifood, Chemical, Engineering, social integration eco incentive economics',\n",
       "       'Academia/Research Institution, Consultancy, Textile, Footwear and/or Apparel',\n",
       "       'Academia/Research Institution, Consultancy, Energy and heat processing and management, Automotive, Electro and Electronics, Agrifood, Engineering',\n",
       "       'Accademia/Istituto di ricerca, Ingegneria', 'Credito e finanza',\n",
       "       'Consulenza', 'Elettrico ed Elettronico', 'BANCARIO',\n",
       "       'Trattamento e gestione dei rifiuti', 'Riciclo', 'Imballaggi',\n",
       "       'Consulenza, Ingegneria', 'Accademia/Istituto di ricerca',\n",
       "       'Academia/Organizações de Pesquisa', 'C&D',\n",
       "       'Association vulnerable workers', 'Reciclagem',\n",
       "       'Automotive industry',\n",
       "       'Academia/Organizações de Pesquisa, Processamento e gerenciamento de energia, Engenharia',\n",
       "       'Consulting', 'Embalagens',\n",
       "       'Químico (incluindo plásticos não relacionados à embalagens)',\n",
       "       'Financial corporation', 'Academia Research'], dtype=object)"
      ]
     },
     "execution_count": 734,
     "metadata": {},
     "output_type": "execute_result"
    }
   ],
   "source": [
    "df_respondentes['Seguimento de atuação'].unique()"
   ]
  },
  {
   "cell_type": "code",
   "execution_count": 735,
   "id": "15fec64f",
   "metadata": {},
   "outputs": [
    {
     "data": {
      "text/plain": [
       "array(['Academia/Research Institutio', 'Academia/Researc', 'Consultanc',\n",
       "       'Waste managemen', 'Consultancy', 'Academia/Research Institution',\n",
       "       'Waste processing and managemen', 'Government',\n",
       "       'International Cooperatio', 'NG', 'Energy/Heat processin',\n",
       "       'Textile', 'Governmen', 'International cooperatio',\n",
       "       'Environmental Activis', 'Recyclin',\n",
       "       'Electro and Electronics Industr',\n",
       "       'Water processing and management', 'Water managemen',\n",
       "       'Engineering', 'Water processing managemen', 'Packagin',\n",
       "       'Petroleum Industr', 'Engineerin',\n",
       "       'Association of vulnerable workers Textile',\n",
       "       'Energy/Heat managemen', 'Communication secto',\n",
       "       'International Organization', 'Agrifood industr',\n",
       "       'Non-governmental organization (NGO',\n",
       "       'Waste processing and management', 'Furnitur', 'Construction',\n",
       "       'Non-governmental organization (NGO)', 'Packaging',\n",
       "       'Water processing and managemen', nan, 'Persona', 'Constructio',\n",
       "       'Product development ',\n",
       "       'Energy and heat processing and management', 'Productio',\n",
       "       'Accademia/Istituto di ricerca', 'Credito e finanz', 'Consulenz',\n",
       "       'Elettrico ed Elettronic', 'BANCARI',\n",
       "       'Trattamento e gestione dei rifiut', 'Ricicl', 'Imballagg',\n",
       "       'Consulenza', 'Accademia/Istituto di ricerc',\n",
       "       'Academia/Organizações de Pesquis', 'C&',\n",
       "       'Association vulnerable worker', 'Reciclage', 'Automotive industr',\n",
       "       'Academia/Organizações de Pesquisa', 'Consultin', 'Embalagen',\n",
       "       'Químico (incluindo plásticos não relacionados à embalagens',\n",
       "       'Financial corporatio', 'Academia Researc'], dtype=object)"
      ]
     },
     "execution_count": 735,
     "metadata": {},
     "output_type": "execute_result"
    }
   ],
   "source": [
    "df_respondentes['Seguimento de atuação'] = [i[:i.find(',')] if type(i)==str else i for i in df_respondentes['Seguimento de atuação']]\n",
    "df_respondentes['Seguimento de atuação'].unique()"
   ]
  },
  {
   "cell_type": "code",
   "execution_count": 736,
   "id": "a94932d4",
   "metadata": {},
   "outputs": [],
   "source": [
    "# Pesquisa Academica\n",
    "df_respondentes['Seguimento de atuação'] = df_respondentes['Seguimento de atuação'].replace([r'Academ\\D+', r'Acca\\D+'],\n",
    "                                                            'Pesquisa acadêmica', regex = True)"
   ]
  },
  {
   "cell_type": "code",
   "execution_count": 737,
   "id": "29dd9958",
   "metadata": {},
   "outputs": [],
   "source": [
    "# Consultoria\n",
    "df_respondentes['Seguimento de atuação'] = df_respondentes['Seguimento de atuação'].replace([r'Cons\\D+'],\n",
    "                                                            'Consultoria', regex = True)"
   ]
  },
  {
   "cell_type": "code",
   "execution_count": 738,
   "id": "f862ab21",
   "metadata": {},
   "outputs": [],
   "source": [
    "# Tratamento de Resíduos\n",
    "df_respondentes['Seguimento de atuação'] = df_respondentes['Seguimento de atuação'].replace([r'Waste p\\D+', r'Trattam\\D+'],\n",
    "                                                            'Tratamento de Resíduos', regex = True)"
   ]
  },
  {
   "cell_type": "code",
   "execution_count": 739,
   "id": "45054d93",
   "metadata": {},
   "outputs": [
    {
     "data": {
      "text/plain": [
       "array(['Pesquisa acadêmica', 'Consultoria', 'Waste managemen',\n",
       "       'Tratamento de Resíduos', 'Government', 'International Cooperatio',\n",
       "       'NG', 'Energy/Heat processin', 'Textile', 'Governmen',\n",
       "       'International cooperatio', 'Environmental Activis', 'Recyclin',\n",
       "       'Electro and Electronics Industr',\n",
       "       'Water processing and management', 'Water managemen',\n",
       "       'Engineering', 'Water processing managemen', 'Packagin',\n",
       "       'Petroleum Industr', 'Engineerin',\n",
       "       'Association of vulnerable workers Textile',\n",
       "       'Energy/Heat managemen', 'Communication secto',\n",
       "       'International Organization', 'Agrifood industr',\n",
       "       'Non-governmental organization (NGO', 'Furnitur',\n",
       "       'Non-governmental organization (NGO)', 'Packaging',\n",
       "       'Water processing and managemen', nan, 'Persona',\n",
       "       'Product development ',\n",
       "       'Energy and heat processing and management', 'Productio',\n",
       "       'Credito e finanz', 'Elettrico ed Elettronic', 'BANCARI', 'Ricicl',\n",
       "       'Imballagg', 'C&', 'Association vulnerable worker', 'Reciclage',\n",
       "       'Automotive industr', 'Embalagen',\n",
       "       'Químico (incluindo plásticos não relacionados à embalagens',\n",
       "       'Financial corporatio'], dtype=object)"
      ]
     },
     "execution_count": 739,
     "metadata": {},
     "output_type": "execute_result"
    }
   ],
   "source": [
    "df_respondentes['Seguimento de atuação'].unique()"
   ]
  },
  {
   "cell_type": "code",
   "execution_count": null,
   "id": "01476138",
   "metadata": {},
   "outputs": [],
   "source": []
  },
  {
   "cell_type": "code",
   "execution_count": null,
   "id": "1f9b197b",
   "metadata": {},
   "outputs": [],
   "source": []
  },
  {
   "cell_type": "code",
   "execution_count": null,
   "id": "dea9a0ba",
   "metadata": {},
   "outputs": [],
   "source": []
  },
  {
   "cell_type": "code",
   "execution_count": null,
   "id": "50933af6",
   "metadata": {},
   "outputs": [],
   "source": []
  },
  {
   "cell_type": "code",
   "execution_count": null,
   "id": "422eded2",
   "metadata": {},
   "outputs": [],
   "source": []
  },
  {
   "cell_type": "code",
   "execution_count": null,
   "id": "0116894f",
   "metadata": {},
   "outputs": [],
   "source": []
  },
  {
   "cell_type": "code",
   "execution_count": null,
   "id": "8fde8533",
   "metadata": {},
   "outputs": [],
   "source": []
  },
  {
   "cell_type": "code",
   "execution_count": null,
   "id": "ec4d815f",
   "metadata": {},
   "outputs": [],
   "source": []
  },
  {
   "cell_type": "code",
   "execution_count": null,
   "id": "459a6fc2",
   "metadata": {},
   "outputs": [],
   "source": []
  },
  {
   "cell_type": "markdown",
   "id": "0cc93a38",
   "metadata": {},
   "source": [
    "# Concatenando df_respondentes com o original após tratado."
   ]
  },
  {
   "cell_type": "code",
   "execution_count": 771,
   "id": "5d456b9a",
   "metadata": {},
   "outputs": [],
   "source": [
    "df_final = pd.concat([df, df_respondentes], axis=1)"
   ]
  },
  {
   "cell_type": "code",
   "execution_count": 748,
   "id": "d1092a85",
   "metadata": {},
   "outputs": [
    {
     "data": {
      "text/html": [
       "<div>\n",
       "<style scoped>\n",
       "    .dataframe tbody tr th:only-of-type {\n",
       "        vertical-align: middle;\n",
       "    }\n",
       "\n",
       "    .dataframe tbody tr th {\n",
       "        vertical-align: top;\n",
       "    }\n",
       "\n",
       "    .dataframe thead th {\n",
       "        text-align: right;\n",
       "    }\n",
       "</style>\n",
       "<table border=\"1\" class=\"dataframe\">\n",
       "  <thead>\n",
       "    <tr style=\"text-align: right;\">\n",
       "      <th></th>\n",
       "      <th>1. INTER-FIRM COLLABORATION: Has the purpose to arrange collaboration and business relations inter-firm, it involves sharing of resources and information.. Rules are needed because interdependencies are increased and become more specific as compared to collaboration in linear systems. This strategy: [Complies with regional and national regulations]</th>\n",
       "      <th>1. INTER-FIRM COLLABORATION: Has the purpose to arrange collaboration and business relations inter-firm, it involves sharing of resources and information.. Rules are needed because interdependencies are increased and become more specific as compared to collaboration in linear systems. This strategy: [Helps to increase public acceptance of the circular economy]</th>\n",
       "      <th>1. INTER-FIRM COLLABORATION: Has the purpose to arrange collaboration and business relations inter-firm, it involves sharing of resources and information.. Rules are needed because interdependencies are increased and become more specific as compared to collaboration in linear systems. This strategy: [Enhances the absorption of the regional workforce]</th>\n",
       "      <th>1. INTER-FIRM COLLABORATION: Has the purpose to arrange collaboration and business relations inter-firm, it involves sharing of resources and information.. Rules are needed because interdependencies are increased and become more specific as compared to collaboration in linear systems. This strategy: [Prevents incorrect waste disposal]</th>\n",
       "      <th>1. INTER-FIRM COLLABORATION: Has the purpose to arrange collaboration and business relations inter-firm, it involves sharing of resources and information.. Rules are needed because interdependencies are increased and become more specific as compared to collaboration in linear systems. This strategy: [Contributes to the preservation of the environment]</th>\n",
       "      <th>1. INTER-FIRM COLLABORATION: Has the purpose to arrange collaboration and business relations inter-firm, it involves sharing of resources and information.. Rules are needed because interdependencies are increased and become more specific as compared to collaboration in linear systems. This strategy: [Has a cost for implementation]</th>\n",
       "      <th>1. INTER-FIRM COLLABORATION: Has the purpose to arrange collaboration and business relations inter-firm, it involves sharing of resources and information.. Rules are needed because interdependencies are increased and become more specific as compared to collaboration in linear systems. This strategy: [Has a cost to maintain  in operation]</th>\n",
       "      <th>1. INTER-FIRM COLLABORATION: Has the purpose to arrange collaboration and business relations inter-firm, it involves sharing of resources and information.. Rules are needed because interdependencies are increased and become more specific as compared to collaboration in linear systems. This strategy: [Has a difficulty to implement, due to the knowledge, technologies and solutions required]</th>\n",
       "      <th>1. INTER-FIRM COLLABORATION: Has the purpose to arrange collaboration and business relations inter-firm, it involves sharing of resources and information.. Rules are needed because interdependencies are increased and become more specific as compared to collaboration in linear systems. This strategy: [Has obstacles/barriers, based on the particular regional characteristics ]</th>\n",
       "      <th>1. INTER-FIRM COLLABORATION: Has the purpose to arrange collaboration and business relations inter-firm, it involves sharing of resources and information.. Rules are needed because interdependencies are increased and become more specific as compared to collaboration in linear systems. This strategy: [Has the potential to remain constant, considering mainly maintenance requirements related to  specialized personnel and Yesplicity of operations]</th>\n",
       "      <th>...</th>\n",
       "      <th>24. CONSTRUCTION &amp; DEMOLITION (C&amp;D) WASTE MANAGEMENT: Proper management of C&amp;D waste and recycled materials – including the correct handling of hazardous waste - can have major benefits in terms of sustainability and the quality of life. This strategy: [Has a difficulty to implement, due to the knowledge, technologies and solutions required]</th>\n",
       "      <th>24. CONSTRUCTION &amp; DEMOLITION (C&amp;D) WASTE MANAGEMENT: Proper management of C&amp;D waste and recycled materials – including the correct handling of hazardous waste - can have major benefits in terms of sustainability and the quality of life. This strategy: [Has obstacles/barriers, based on the particular regional characteristics ]</th>\n",
       "      <th>24. CONSTRUCTION &amp; DEMOLITION (C&amp;D) WASTE MANAGEMENT: Proper management of C&amp;D waste and recycled materials – including the correct handling of hazardous waste - can have major benefits in terms of sustainability and the quality of life. This strategy: [Has the potential to remain constant, considering mainly maintenance requirements for specialized personnel and Yesplicity of operations]</th>\n",
       "      <th>Localidade</th>\n",
       "      <th>Atuação direta com a EC</th>\n",
       "      <th>Nível de conhecimento sobre EC</th>\n",
       "      <th>Seguimento de atuação</th>\n",
       "      <th>Setor da organização</th>\n",
       "      <th>Tamanho da empresa</th>\n",
       "      <th>Cargo</th>\n",
       "    </tr>\n",
       "  </thead>\n",
       "  <tbody>\n",
       "    <tr>\n",
       "      <th>0</th>\n",
       "      <td>High</td>\n",
       "      <td>High</td>\n",
       "      <td>Neutral</td>\n",
       "      <td>High</td>\n",
       "      <td>High</td>\n",
       "      <td>High</td>\n",
       "      <td>High</td>\n",
       "      <td>High</td>\n",
       "      <td>High</td>\n",
       "      <td>Neutral</td>\n",
       "      <td>...</td>\n",
       "      <td>High</td>\n",
       "      <td>High</td>\n",
       "      <td>Neutral</td>\n",
       "      <td>Reino Unido</td>\n",
       "      <td>Sim</td>\n",
       "      <td>Muito Alto</td>\n",
       "      <td>Pesquisa acadêmica</td>\n",
       "      <td>Quinário</td>\n",
       "      <td>Grande</td>\n",
       "      <td>Acadêmico</td>\n",
       "    </tr>\n",
       "    <tr>\n",
       "      <th>1</th>\n",
       "      <td>High</td>\n",
       "      <td>High</td>\n",
       "      <td>High</td>\n",
       "      <td>High</td>\n",
       "      <td>High</td>\n",
       "      <td>High</td>\n",
       "      <td>High</td>\n",
       "      <td>High</td>\n",
       "      <td>High</td>\n",
       "      <td>High</td>\n",
       "      <td>...</td>\n",
       "      <td>High</td>\n",
       "      <td>High</td>\n",
       "      <td>High</td>\n",
       "      <td>Brasil</td>\n",
       "      <td>Sim</td>\n",
       "      <td>Alto</td>\n",
       "      <td>Pesquisa acadêmica</td>\n",
       "      <td>Quinário</td>\n",
       "      <td>Grande</td>\n",
       "      <td>Operacional</td>\n",
       "    </tr>\n",
       "    <tr>\n",
       "      <th>2</th>\n",
       "      <td>Neutral</td>\n",
       "      <td>Very high</td>\n",
       "      <td>Very high</td>\n",
       "      <td>High</td>\n",
       "      <td>High</td>\n",
       "      <td>Low</td>\n",
       "      <td>Low</td>\n",
       "      <td>Neutral</td>\n",
       "      <td>Neutral</td>\n",
       "      <td>High</td>\n",
       "      <td>...</td>\n",
       "      <td>Very high</td>\n",
       "      <td>High</td>\n",
       "      <td>High</td>\n",
       "      <td>Estados Unidos</td>\n",
       "      <td>Sim</td>\n",
       "      <td>Muito Alto</td>\n",
       "      <td>Consultoria</td>\n",
       "      <td>Quarternário</td>\n",
       "      <td>Individual</td>\n",
       "      <td>Gerente</td>\n",
       "    </tr>\n",
       "    <tr>\n",
       "      <th>3</th>\n",
       "      <td>High</td>\n",
       "      <td>Low</td>\n",
       "      <td>High</td>\n",
       "      <td>High</td>\n",
       "      <td>High</td>\n",
       "      <td>High</td>\n",
       "      <td>High</td>\n",
       "      <td>Very high</td>\n",
       "      <td>Very high</td>\n",
       "      <td>High</td>\n",
       "      <td>...</td>\n",
       "      <td>High</td>\n",
       "      <td>High</td>\n",
       "      <td>High</td>\n",
       "      <td>Índia</td>\n",
       "      <td>Não</td>\n",
       "      <td>Alto</td>\n",
       "      <td>Pesquisa acadêmica</td>\n",
       "      <td>Quarternário</td>\n",
       "      <td>Pequena</td>\n",
       "      <td>Gerente</td>\n",
       "    </tr>\n",
       "    <tr>\n",
       "      <th>4</th>\n",
       "      <td>Neutral</td>\n",
       "      <td>High</td>\n",
       "      <td>High</td>\n",
       "      <td>High</td>\n",
       "      <td>High</td>\n",
       "      <td>High</td>\n",
       "      <td>High</td>\n",
       "      <td>Very high</td>\n",
       "      <td>Very high</td>\n",
       "      <td>Neutral</td>\n",
       "      <td>...</td>\n",
       "      <td>High</td>\n",
       "      <td>Very high</td>\n",
       "      <td>Very high</td>\n",
       "      <td>Espanha</td>\n",
       "      <td>Sim</td>\n",
       "      <td>Muito Alto</td>\n",
       "      <td>Consultoria</td>\n",
       "      <td>Secundário</td>\n",
       "      <td>Micro</td>\n",
       "      <td>Gerente</td>\n",
       "    </tr>\n",
       "  </tbody>\n",
       "</table>\n",
       "<p>5 rows × 247 columns</p>\n",
       "</div>"
      ],
      "text/plain": [
       "  1. INTER-FIRM COLLABORATION: Has the purpose to arrange collaboration and business relations inter-firm, it involves sharing of resources and information.. Rules are needed because interdependencies are increased and become more specific as compared to collaboration in linear systems. This strategy: [Complies with regional and national regulations]  \\\n",
       "0                                               High                                                                                                                                                                                                                                                                                                               \n",
       "1                                               High                                                                                                                                                                                                                                                                                                               \n",
       "2                                            Neutral                                                                                                                                                                                                                                                                                                               \n",
       "3                                               High                                                                                                                                                                                                                                                                                                               \n",
       "4                                            Neutral                                                                                                                                                                                                                                                                                                               \n",
       "\n",
       "  1. INTER-FIRM COLLABORATION: Has the purpose to arrange collaboration and business relations inter-firm, it involves sharing of resources and information.. Rules are needed because interdependencies are increased and become more specific as compared to collaboration in linear systems. This strategy: [Helps to increase public acceptance of the circular economy]  \\\n",
       "0                                               High                                                                                                                                                                                                                                                                                                                           \n",
       "1                                               High                                                                                                                                                                                                                                                                                                                           \n",
       "2                                          Very high                                                                                                                                                                                                                                                                                                                           \n",
       "3                                                Low                                                                                                                                                                                                                                                                                                                           \n",
       "4                                               High                                                                                                                                                                                                                                                                                                                           \n",
       "\n",
       "  1. INTER-FIRM COLLABORATION: Has the purpose to arrange collaboration and business relations inter-firm, it involves sharing of resources and information.. Rules are needed because interdependencies are increased and become more specific as compared to collaboration in linear systems. This strategy: [Enhances the absorption of the regional workforce]  \\\n",
       "0                                            Neutral                                                                                                                                                                                                                                                                                                                 \n",
       "1                                               High                                                                                                                                                                                                                                                                                                                 \n",
       "2                                          Very high                                                                                                                                                                                                                                                                                                                 \n",
       "3                                               High                                                                                                                                                                                                                                                                                                                 \n",
       "4                                               High                                                                                                                                                                                                                                                                                                                 \n",
       "\n",
       "  1. INTER-FIRM COLLABORATION: Has the purpose to arrange collaboration and business relations inter-firm, it involves sharing of resources and information.. Rules are needed because interdependencies are increased and become more specific as compared to collaboration in linear systems. This strategy: [Prevents incorrect waste disposal]  \\\n",
       "0                                               High                                                                                                                                                                                                                                                                                                 \n",
       "1                                               High                                                                                                                                                                                                                                                                                                 \n",
       "2                                               High                                                                                                                                                                                                                                                                                                 \n",
       "3                                               High                                                                                                                                                                                                                                                                                                 \n",
       "4                                               High                                                                                                                                                                                                                                                                                                 \n",
       "\n",
       "  1. INTER-FIRM COLLABORATION: Has the purpose to arrange collaboration and business relations inter-firm, it involves sharing of resources and information.. Rules are needed because interdependencies are increased and become more specific as compared to collaboration in linear systems. This strategy: [Contributes to the preservation of the environment]  \\\n",
       "0                                               High                                                                                                                                                                                                                                                                                                                  \n",
       "1                                               High                                                                                                                                                                                                                                                                                                                  \n",
       "2                                               High                                                                                                                                                                                                                                                                                                                  \n",
       "3                                               High                                                                                                                                                                                                                                                                                                                  \n",
       "4                                               High                                                                                                                                                                                                                                                                                                                  \n",
       "\n",
       "  1. INTER-FIRM COLLABORATION: Has the purpose to arrange collaboration and business relations inter-firm, it involves sharing of resources and information.. Rules are needed because interdependencies are increased and become more specific as compared to collaboration in linear systems. This strategy: [Has a cost for implementation]  \\\n",
       "0                                               High                                                                                                                                                                                                                                                                                             \n",
       "1                                               High                                                                                                                                                                                                                                                                                             \n",
       "2                                                Low                                                                                                                                                                                                                                                                                             \n",
       "3                                               High                                                                                                                                                                                                                                                                                             \n",
       "4                                               High                                                                                                                                                                                                                                                                                             \n",
       "\n",
       "  1. INTER-FIRM COLLABORATION: Has the purpose to arrange collaboration and business relations inter-firm, it involves sharing of resources and information.. Rules are needed because interdependencies are increased and become more specific as compared to collaboration in linear systems. This strategy: [Has a cost to maintain  in operation]  \\\n",
       "0                                               High                                                                                                                                                                                                                                                                                                    \n",
       "1                                               High                                                                                                                                                                                                                                                                                                    \n",
       "2                                                Low                                                                                                                                                                                                                                                                                                    \n",
       "3                                               High                                                                                                                                                                                                                                                                                                    \n",
       "4                                               High                                                                                                                                                                                                                                                                                                    \n",
       "\n",
       "  1. INTER-FIRM COLLABORATION: Has the purpose to arrange collaboration and business relations inter-firm, it involves sharing of resources and information.. Rules are needed because interdependencies are increased and become more specific as compared to collaboration in linear systems. This strategy: [Has a difficulty to implement, due to the knowledge, technologies and solutions required]  \\\n",
       "0                                               High                                                                                                                                                                                                                                                                                                                                                        \n",
       "1                                               High                                                                                                                                                                                                                                                                                                                                                        \n",
       "2                                            Neutral                                                                                                                                                                                                                                                                                                                                                        \n",
       "3                                          Very high                                                                                                                                                                                                                                                                                                                                                        \n",
       "4                                          Very high                                                                                                                                                                                                                                                                                                                                                        \n",
       "\n",
       "  1. INTER-FIRM COLLABORATION: Has the purpose to arrange collaboration and business relations inter-firm, it involves sharing of resources and information.. Rules are needed because interdependencies are increased and become more specific as compared to collaboration in linear systems. This strategy: [Has obstacles/barriers, based on the particular regional characteristics ]  \\\n",
       "0                                               High                                                                                                                                                                                                                                                                                                                                         \n",
       "1                                               High                                                                                                                                                                                                                                                                                                                                         \n",
       "2                                            Neutral                                                                                                                                                                                                                                                                                                                                         \n",
       "3                                          Very high                                                                                                                                                                                                                                                                                                                                         \n",
       "4                                          Very high                                                                                                                                                                                                                                                                                                                                         \n",
       "\n",
       "  1. INTER-FIRM COLLABORATION: Has the purpose to arrange collaboration and business relations inter-firm, it involves sharing of resources and information.. Rules are needed because interdependencies are increased and become more specific as compared to collaboration in linear systems. This strategy: [Has the potential to remain constant, considering mainly maintenance requirements related to  specialized personnel and Yesplicity of operations]  \\\n",
       "0                                            Neutral                                                                                                                                                                                                                                                                                                                                                                                                                \n",
       "1                                               High                                                                                                                                                                                                                                                                                                                                                                                                                \n",
       "2                                               High                                                                                                                                                                                                                                                                                                                                                                                                                \n",
       "3                                               High                                                                                                                                                                                                                                                                                                                                                                                                                \n",
       "4                                            Neutral                                                                                                                                                                                                                                                                                                                                                                                                                \n",
       "\n",
       "   ...  \\\n",
       "0  ...   \n",
       "1  ...   \n",
       "2  ...   \n",
       "3  ...   \n",
       "4  ...   \n",
       "\n",
       "  24. CONSTRUCTION & DEMOLITION (C&D) WASTE MANAGEMENT: Proper management of C&D waste and recycled materials – including the correct handling of hazardous waste - can have major benefits in terms of sustainability and the quality of life. This strategy: [Has a difficulty to implement, due to the knowledge, technologies and solutions required]  \\\n",
       "0                                               High                                                                                                                                                                                                                                                                                                        \n",
       "1                                               High                                                                                                                                                                                                                                                                                                        \n",
       "2                                          Very high                                                                                                                                                                                                                                                                                                        \n",
       "3                                               High                                                                                                                                                                                                                                                                                                        \n",
       "4                                               High                                                                                                                                                                                                                                                                                                        \n",
       "\n",
       "  24. CONSTRUCTION & DEMOLITION (C&D) WASTE MANAGEMENT: Proper management of C&D waste and recycled materials – including the correct handling of hazardous waste - can have major benefits in terms of sustainability and the quality of life. This strategy: [Has obstacles/barriers, based on the particular regional characteristics ]  \\\n",
       "0                                               High                                                                                                                                                                                                                                                                                         \n",
       "1                                               High                                                                                                                                                                                                                                                                                         \n",
       "2                                               High                                                                                                                                                                                                                                                                                         \n",
       "3                                               High                                                                                                                                                                                                                                                                                         \n",
       "4                                          Very high                                                                                                                                                                                                                                                                                         \n",
       "\n",
       "  24. CONSTRUCTION & DEMOLITION (C&D) WASTE MANAGEMENT: Proper management of C&D waste and recycled materials – including the correct handling of hazardous waste - can have major benefits in terms of sustainability and the quality of life. This strategy: [Has the potential to remain constant, considering mainly maintenance requirements for specialized personnel and Yesplicity of operations]  \\\n",
       "0                                            Neutral                                                                                                                                                                                                                                                                                                                                                        \n",
       "1                                               High                                                                                                                                                                                                                                                                                                                                                        \n",
       "2                                               High                                                                                                                                                                                                                                                                                                                                                        \n",
       "3                                               High                                                                                                                                                                                                                                                                                                                                                        \n",
       "4                                          Very high                                                                                                                                                                                                                                                                                                                                                        \n",
       "\n",
       "       Localidade Atuação direta com a EC Nível de conhecimento sobre EC  \\\n",
       "0     Reino Unido                     Sim                     Muito Alto   \n",
       "1          Brasil                     Sim                           Alto   \n",
       "2  Estados Unidos                     Sim                     Muito Alto   \n",
       "3           Índia                     Não                           Alto   \n",
       "4         Espanha                     Sim                     Muito Alto   \n",
       "\n",
       "  Seguimento de atuação Setor da organização Tamanho da empresa        Cargo  \n",
       "0    Pesquisa acadêmica             Quinário             Grande    Acadêmico  \n",
       "1    Pesquisa acadêmica             Quinário             Grande  Operacional  \n",
       "2           Consultoria         Quarternário         Individual      Gerente  \n",
       "3    Pesquisa acadêmica         Quarternário            Pequena      Gerente  \n",
       "4           Consultoria           Secundário              Micro      Gerente  \n",
       "\n",
       "[5 rows x 247 columns]"
      ]
     },
     "execution_count": 748,
     "metadata": {},
     "output_type": "execute_result"
    }
   ],
   "source": [
    "df_final.head()"
   ]
  },
  {
   "cell_type": "code",
   "execution_count": 749,
   "id": "43b192a9",
   "metadata": {},
   "outputs": [
    {
     "data": {
      "text/plain": [
       "1. INTER-FIRM COLLABORATION: Has the purpose to arrange collaboration and business relations inter-firm, it involves sharing of resources and information.. Rules are needed because interdependencies are increased and become more specific as compared to collaboration in linear systems. This strategy: [Complies with regional and national regulations]                0\n",
       "1. INTER-FIRM COLLABORATION: Has the purpose to arrange collaboration and business relations inter-firm, it involves sharing of resources and information.. Rules are needed because interdependencies are increased and become more specific as compared to collaboration in linear systems. This strategy: [Helps to increase public acceptance of the circular economy]    0\n",
       "1. INTER-FIRM COLLABORATION: Has the purpose to arrange collaboration and business relations inter-firm, it involves sharing of resources and information.. Rules are needed because interdependencies are increased and become more specific as compared to collaboration in linear systems. This strategy: [Enhances the absorption of the regional workforce]              0\n",
       "1. INTER-FIRM COLLABORATION: Has the purpose to arrange collaboration and business relations inter-firm, it involves sharing of resources and information.. Rules are needed because interdependencies are increased and become more specific as compared to collaboration in linear systems. This strategy: [Prevents incorrect waste disposal]                              0\n",
       "1. INTER-FIRM COLLABORATION: Has the purpose to arrange collaboration and business relations inter-firm, it involves sharing of resources and information.. Rules are needed because interdependencies are increased and become more specific as compared to collaboration in linear systems. This strategy: [Contributes to the preservation of the environment]             0\n",
       "                                                                                                                                                                                                                                                                                                                                                                             ..\n",
       "Nível de conhecimento sobre EC                                                                                                                                                                                                                                                                                                                                                0\n",
       "Seguimento de atuação                                                                                                                                                                                                                                                                                                                                                         2\n",
       "Setor da organização                                                                                                                                                                                                                                                                                                                                                          0\n",
       "Tamanho da empresa                                                                                                                                                                                                                                                                                                                                                            0\n",
       "Cargo                                                                                                                                                                                                                                                                                                                                                                         0\n",
       "Length: 247, dtype: int64"
      ]
     },
     "execution_count": 749,
     "metadata": {},
     "output_type": "execute_result"
    }
   ],
   "source": [
    "df_final.isna().sum()"
   ]
  },
  {
   "cell_type": "markdown",
   "id": "ae74c23b",
   "metadata": {},
   "source": [
    "# Padronizando as colunas das perguntas"
   ]
  },
  {
   "cell_type": "code",
   "execution_count": 750,
   "id": "6dac7fe3",
   "metadata": {},
   "outputs": [
    {
     "data": {
      "text/plain": [
       "Index(['1. INTER-FIRM COLLABORATION: Has the purpose to arrange collaboration and business relations inter-firm, it involves sharing of resources and information.. Rules are needed because interdependencies are increased and become more specific as compared to collaboration in linear systems. This strategy: [Complies with regional and national regulations]',\n",
       "       '1. INTER-FIRM COLLABORATION: Has the purpose to arrange collaboration and business relations inter-firm, it involves sharing of resources and information.. Rules are needed because interdependencies are increased and become more specific as compared to collaboration in linear systems. This strategy: [Helps to increase public acceptance of the circular economy]',\n",
       "       '1. INTER-FIRM COLLABORATION: Has the purpose to arrange collaboration and business relations inter-firm, it involves sharing of resources and information.. Rules are needed because interdependencies are increased and become more specific as compared to collaboration in linear systems. This strategy: [Enhances the absorption of the regional workforce]',\n",
       "       '1. INTER-FIRM COLLABORATION: Has the purpose to arrange collaboration and business relations inter-firm, it involves sharing of resources and information.. Rules are needed because interdependencies are increased and become more specific as compared to collaboration in linear systems. This strategy: [Prevents incorrect waste disposal]',\n",
       "       '1. INTER-FIRM COLLABORATION: Has the purpose to arrange collaboration and business relations inter-firm, it involves sharing of resources and information.. Rules are needed because interdependencies are increased and become more specific as compared to collaboration in linear systems. This strategy: [Contributes to the preservation of the environment]',\n",
       "       '1. INTER-FIRM COLLABORATION: Has the purpose to arrange collaboration and business relations inter-firm, it involves sharing of resources and information.. Rules are needed because interdependencies are increased and become more specific as compared to collaboration in linear systems. This strategy: [Has a cost for implementation]',\n",
       "       '1. INTER-FIRM COLLABORATION: Has the purpose to arrange collaboration and business relations inter-firm, it involves sharing of resources and information.. Rules are needed because interdependencies are increased and become more specific as compared to collaboration in linear systems. This strategy: [Has a cost to maintain  in operation]',\n",
       "       '1. INTER-FIRM COLLABORATION: Has the purpose to arrange collaboration and business relations inter-firm, it involves sharing of resources and information.. Rules are needed because interdependencies are increased and become more specific as compared to collaboration in linear systems. This strategy: [Has a difficulty to implement, due to the knowledge, technologies and solutions required]',\n",
       "       '1. INTER-FIRM COLLABORATION: Has the purpose to arrange collaboration and business relations inter-firm, it involves sharing of resources and information.. Rules are needed because interdependencies are increased and become more specific as compared to collaboration in linear systems. This strategy: [Has obstacles/barriers, based on the particular regional characteristics ]',\n",
       "       '1. INTER-FIRM COLLABORATION: Has the purpose to arrange collaboration and business relations inter-firm, it involves sharing of resources and information.. Rules are needed because interdependencies are increased and become more specific as compared to collaboration in linear systems. This strategy: [Has the potential to remain constant, considering mainly maintenance requirements related to  specialized personnel and Yesplicity of operations]',\n",
       "       ...\n",
       "       '24. CONSTRUCTION & DEMOLITION (C&D) WASTE MANAGEMENT: Proper management of C&D waste and recycled materials – including the correct handling of hazardous waste - can have major benefits in terms of sustainability and the quality of life. This strategy: [Complies with regional and national regulations]',\n",
       "       '24. CONSTRUCTION & DEMOLITION (C&D) WASTE MANAGEMENT: Proper management of C&D waste and recycled materials – including the correct handling of hazardous waste - can have major benefits in terms of sustainability and the quality of life. This strategy: [Helps to increase public acceptance of the circular economy]',\n",
       "       '24. CONSTRUCTION & DEMOLITION (C&D) WASTE MANAGEMENT: Proper management of C&D waste and recycled materials – including the correct handling of hazardous waste - can have major benefits in terms of sustainability and the quality of life. This strategy: [Enhances the absorption of the regional workforce]',\n",
       "       '24. CONSTRUCTION & DEMOLITION (C&D) WASTE MANAGEMENT: Proper management of C&D waste and recycled materials – including the correct handling of hazardous waste - can have major benefits in terms of sustainability and the quality of life. This strategy: [Prevents incorrect waste disposal]',\n",
       "       '24. CONSTRUCTION & DEMOLITION (C&D) WASTE MANAGEMENT: Proper management of C&D waste and recycled materials – including the correct handling of hazardous waste - can have major benefits in terms of sustainability and the quality of life. This strategy: [Contributes to the preservation of the environment]',\n",
       "       '24. CONSTRUCTION & DEMOLITION (C&D) WASTE MANAGEMENT: Proper management of C&D waste and recycled materials – including the correct handling of hazardous waste - can have major benefits in terms of sustainability and the quality of life. This strategy: [Has a cost for implementation]',\n",
       "       '24. CONSTRUCTION & DEMOLITION (C&D) WASTE MANAGEMENT: Proper management of C&D waste and recycled materials – including the correct handling of hazardous waste - can have major benefits in terms of sustainability and the quality of life. This strategy: [Has a cost to maintain  in operation]',\n",
       "       '24. CONSTRUCTION & DEMOLITION (C&D) WASTE MANAGEMENT: Proper management of C&D waste and recycled materials – including the correct handling of hazardous waste - can have major benefits in terms of sustainability and the quality of life. This strategy: [Has a difficulty to implement, due to the knowledge, technologies and solutions required]',\n",
       "       '24. CONSTRUCTION & DEMOLITION (C&D) WASTE MANAGEMENT: Proper management of C&D waste and recycled materials – including the correct handling of hazardous waste - can have major benefits in terms of sustainability and the quality of life. This strategy: [Has obstacles/barriers, based on the particular regional characteristics ]',\n",
       "       '24. CONSTRUCTION & DEMOLITION (C&D) WASTE MANAGEMENT: Proper management of C&D waste and recycled materials – including the correct handling of hazardous waste - can have major benefits in terms of sustainability and the quality of life. This strategy: [Has the potential to remain constant, considering mainly maintenance requirements for specialized personnel and Yesplicity of operations]'],\n",
       "      dtype='object', length=240)"
      ]
     },
     "execution_count": 750,
     "metadata": {},
     "output_type": "execute_result"
    }
   ],
   "source": [
    "cols_c = df.columns\n",
    "cols_c"
   ]
  },
  {
   "cell_type": "code",
   "execution_count": 751,
   "id": "9ed90620",
   "metadata": {},
   "outputs": [],
   "source": [
    "# remoção do texto demasiadamente longo EN\n",
    "cont = 2 \n",
    "for itens in cols_c[2:]:\n",
    "    if '[' in itens[:-1]:\n",
    "        #print(cont)\n",
    "        init = itens.find(':')\n",
    "        pos = itens.find('This strategy')\n",
    "        #print(itens[:init]+ ':' + ' '+ itens[pos:])\n",
    "        cols_c.values[cont] = (itens[:init]+ ':' + ' '+ itens[pos:])\n",
    "    cont+=1"
   ]
  },
  {
   "cell_type": "markdown",
   "id": "d2162a1e",
   "metadata": {},
   "source": [
    "# Padronizando as Perguntas e Convertendo os valores da escala Likert"
   ]
  },
  {
   "cell_type": "code",
   "execution_count": 752,
   "id": "45401bd5",
   "metadata": {},
   "outputs": [],
   "source": [
    "# padronização da numeração\n",
    "\n",
    "def padroniza_nomeclatura(vetor_colunas):\n",
    "    cont = 0\n",
    "    num = 1 \n",
    "    for itens in vetor_colunas[0:]:\n",
    "        if '[' in itens[:-1]:\n",
    "            #print(cont)\n",
    "            init = itens.find('.')\n",
    "            #print(itens[:init]+ ':' + ' '+ itens[pos:])\n",
    "            vetor_colunas.values[cont] = ('M'+itens[0:init]+'.'+str(num))\n",
    "            #print(num,cont)\n",
    "            if ((cont-1)%10==0) & ((cont-1)!=0):\n",
    "                num=1\n",
    "                #print(num,cont)\n",
    "            else:\n",
    "                num+=1\n",
    "        cont+=1\n",
    "    return(vetor_colunas)"
   ]
  },
  {
   "cell_type": "code",
   "execution_count": 753,
   "id": "714f8415",
   "metadata": {},
   "outputs": [],
   "source": [
    "cols_c = padroniza_nomeclatura(cols_c)"
   ]
  },
  {
   "cell_type": "code",
   "execution_count": 754,
   "id": "a2747638",
   "metadata": {},
   "outputs": [
    {
     "data": {
      "text/plain": [
       "Index(['M1.1', 'M1.2', 'M1.3', 'M1.4', 'M1.5', 'M1.6', 'M1.7', 'M1.8', 'M1.9',\n",
       "       'M1.10',\n",
       "       ...\n",
       "       'M24.9', 'M24.10', 'M24.1', 'M24.2', 'M24.3', 'M24.4', 'M24.5', 'M24.6',\n",
       "       'M24.7', 'M24.8'],\n",
       "      dtype='object', length=240)"
      ]
     },
     "execution_count": 754,
     "metadata": {},
     "output_type": "execute_result"
    }
   ],
   "source": [
    "cols_c[0:]"
   ]
  },
  {
   "cell_type": "code",
   "execution_count": 755,
   "id": "bb7a1206",
   "metadata": {},
   "outputs": [],
   "source": [
    "df.columns = cols_c"
   ]
  },
  {
   "cell_type": "code",
   "execution_count": 756,
   "id": "650689ec",
   "metadata": {},
   "outputs": [
    {
     "data": {
      "text/plain": [
       "Index(['M1.1', 'M1.2', 'M1.3', 'M1.4', 'M1.5', 'M1.6', 'M1.7', 'M1.8', 'M1.9',\n",
       "       'M1.10',\n",
       "       ...\n",
       "       'M24.9', 'M24.10', 'M24.1', 'M24.2', 'M24.3', 'M24.4', 'M24.5', 'M24.6',\n",
       "       'M24.7', 'M24.8'],\n",
       "      dtype='object', length=240)"
      ]
     },
     "execution_count": 756,
     "metadata": {},
     "output_type": "execute_result"
    }
   ],
   "source": [
    "df.columns"
   ]
  },
  {
   "cell_type": "markdown",
   "id": "d52ddceb",
   "metadata": {},
   "source": [
    "# Substituição de Escala Likert por Números"
   ]
  },
  {
   "cell_type": "code",
   "execution_count": 757,
   "id": "b3090dfe",
   "metadata": {},
   "outputs": [],
   "source": [
    "def ordinal_encoder(termo):\n",
    "    if termo == 'Muito baixo' or termo == 'Very low' or termo == 'Molto basso' or termo == 'Very Low':\n",
    "        termo = 1\n",
    "    if termo == 'Baixo' or termo == 'Low' or termo == 'Basso':\n",
    "        termo = 2\n",
    "    if termo == 'Neutro' or termo == 'Neutral' or termo == 'Medium':\n",
    "        termo = 3\n",
    "    if termo == 'Alto' or termo == 'High':\n",
    "        termo = 4\n",
    "    if termo == 'Muito alto' or termo == 'Very high' or termo ==  'Molto alto':\n",
    "        termo = 5\n",
    "    if termo == 'Sim' or termo == 'Yes':\n",
    "        termo = 1\n",
    "    if termo == 'Não' or termo == 'No':\n",
    "        termo = 0\n",
    "    return(termo)"
   ]
  },
  {
   "cell_type": "code",
   "execution_count": 758,
   "id": "ca99910b",
   "metadata": {},
   "outputs": [],
   "source": [
    "cont3=0\n",
    "for coluna in df:\n",
    "    df.iloc[:,cont3] = df.iloc[:,cont3].apply(ordinal_encoder)\n",
    "    cont3+=1"
   ]
  },
  {
   "cell_type": "code",
   "execution_count": 759,
   "id": "94c58919",
   "metadata": {},
   "outputs": [
    {
     "data": {
      "text/html": [
       "<div>\n",
       "<style scoped>\n",
       "    .dataframe tbody tr th:only-of-type {\n",
       "        vertical-align: middle;\n",
       "    }\n",
       "\n",
       "    .dataframe tbody tr th {\n",
       "        vertical-align: top;\n",
       "    }\n",
       "\n",
       "    .dataframe thead th {\n",
       "        text-align: right;\n",
       "    }\n",
       "</style>\n",
       "<table border=\"1\" class=\"dataframe\">\n",
       "  <thead>\n",
       "    <tr style=\"text-align: right;\">\n",
       "      <th></th>\n",
       "      <th>M1.1</th>\n",
       "      <th>M1.2</th>\n",
       "      <th>M1.3</th>\n",
       "      <th>M1.4</th>\n",
       "      <th>M1.5</th>\n",
       "      <th>M1.6</th>\n",
       "      <th>M1.7</th>\n",
       "      <th>M1.8</th>\n",
       "      <th>M1.9</th>\n",
       "      <th>M1.10</th>\n",
       "      <th>...</th>\n",
       "      <th>M24.9</th>\n",
       "      <th>M24.10</th>\n",
       "      <th>M24.1</th>\n",
       "      <th>M24.2</th>\n",
       "      <th>M24.3</th>\n",
       "      <th>M24.4</th>\n",
       "      <th>M24.5</th>\n",
       "      <th>M24.6</th>\n",
       "      <th>M24.7</th>\n",
       "      <th>M24.8</th>\n",
       "    </tr>\n",
       "  </thead>\n",
       "  <tbody>\n",
       "    <tr>\n",
       "      <th>0</th>\n",
       "      <td>4</td>\n",
       "      <td>4</td>\n",
       "      <td>3</td>\n",
       "      <td>4</td>\n",
       "      <td>4</td>\n",
       "      <td>4</td>\n",
       "      <td>4</td>\n",
       "      <td>4</td>\n",
       "      <td>4</td>\n",
       "      <td>3</td>\n",
       "      <td>...</td>\n",
       "      <td>4</td>\n",
       "      <td>4</td>\n",
       "      <td>4</td>\n",
       "      <td>4</td>\n",
       "      <td>4</td>\n",
       "      <td>4</td>\n",
       "      <td>4</td>\n",
       "      <td>4</td>\n",
       "      <td>4</td>\n",
       "      <td>3</td>\n",
       "    </tr>\n",
       "    <tr>\n",
       "      <th>1</th>\n",
       "      <td>4</td>\n",
       "      <td>4</td>\n",
       "      <td>4</td>\n",
       "      <td>4</td>\n",
       "      <td>4</td>\n",
       "      <td>4</td>\n",
       "      <td>4</td>\n",
       "      <td>4</td>\n",
       "      <td>4</td>\n",
       "      <td>4</td>\n",
       "      <td>...</td>\n",
       "      <td>4</td>\n",
       "      <td>4</td>\n",
       "      <td>4</td>\n",
       "      <td>4</td>\n",
       "      <td>4</td>\n",
       "      <td>4</td>\n",
       "      <td>4</td>\n",
       "      <td>4</td>\n",
       "      <td>4</td>\n",
       "      <td>4</td>\n",
       "    </tr>\n",
       "    <tr>\n",
       "      <th>2</th>\n",
       "      <td>3</td>\n",
       "      <td>5</td>\n",
       "      <td>5</td>\n",
       "      <td>4</td>\n",
       "      <td>4</td>\n",
       "      <td>2</td>\n",
       "      <td>2</td>\n",
       "      <td>3</td>\n",
       "      <td>3</td>\n",
       "      <td>4</td>\n",
       "      <td>...</td>\n",
       "      <td>4</td>\n",
       "      <td>5</td>\n",
       "      <td>5</td>\n",
       "      <td>5</td>\n",
       "      <td>5</td>\n",
       "      <td>4</td>\n",
       "      <td>2</td>\n",
       "      <td>5</td>\n",
       "      <td>4</td>\n",
       "      <td>4</td>\n",
       "    </tr>\n",
       "    <tr>\n",
       "      <th>3</th>\n",
       "      <td>4</td>\n",
       "      <td>2</td>\n",
       "      <td>4</td>\n",
       "      <td>4</td>\n",
       "      <td>4</td>\n",
       "      <td>4</td>\n",
       "      <td>4</td>\n",
       "      <td>5</td>\n",
       "      <td>5</td>\n",
       "      <td>4</td>\n",
       "      <td>...</td>\n",
       "      <td>2</td>\n",
       "      <td>2</td>\n",
       "      <td>2</td>\n",
       "      <td>2</td>\n",
       "      <td>2</td>\n",
       "      <td>4</td>\n",
       "      <td>4</td>\n",
       "      <td>4</td>\n",
       "      <td>4</td>\n",
       "      <td>4</td>\n",
       "    </tr>\n",
       "    <tr>\n",
       "      <th>4</th>\n",
       "      <td>3</td>\n",
       "      <td>4</td>\n",
       "      <td>4</td>\n",
       "      <td>4</td>\n",
       "      <td>4</td>\n",
       "      <td>4</td>\n",
       "      <td>4</td>\n",
       "      <td>5</td>\n",
       "      <td>5</td>\n",
       "      <td>3</td>\n",
       "      <td>...</td>\n",
       "      <td>4</td>\n",
       "      <td>3</td>\n",
       "      <td>3</td>\n",
       "      <td>5</td>\n",
       "      <td>5</td>\n",
       "      <td>5</td>\n",
       "      <td>5</td>\n",
       "      <td>4</td>\n",
       "      <td>5</td>\n",
       "      <td>5</td>\n",
       "    </tr>\n",
       "  </tbody>\n",
       "</table>\n",
       "<p>5 rows × 240 columns</p>\n",
       "</div>"
      ],
      "text/plain": [
       "   M1.1  M1.2  M1.3  M1.4  M1.5  M1.6  M1.7  M1.8  M1.9  M1.10  ...  M24.9  \\\n",
       "0     4     4     3     4     4     4     4     4     4      3  ...      4   \n",
       "1     4     4     4     4     4     4     4     4     4      4  ...      4   \n",
       "2     3     5     5     4     4     2     2     3     3      4  ...      4   \n",
       "3     4     2     4     4     4     4     4     5     5      4  ...      2   \n",
       "4     3     4     4     4     4     4     4     5     5      3  ...      4   \n",
       "\n",
       "   M24.10  M24.1  M24.2  M24.3  M24.4  M24.5  M24.6  M24.7  M24.8  \n",
       "0       4      4      4      4      4      4      4      4      3  \n",
       "1       4      4      4      4      4      4      4      4      4  \n",
       "2       5      5      5      5      4      2      5      4      4  \n",
       "3       2      2      2      2      4      4      4      4      4  \n",
       "4       3      3      5      5      5      5      4      5      5  \n",
       "\n",
       "[5 rows x 240 columns]"
      ]
     },
     "execution_count": 759,
     "metadata": {},
     "output_type": "execute_result"
    }
   ],
   "source": [
    "df.head()"
   ]
  },
  {
   "cell_type": "code",
   "execution_count": 760,
   "id": "becab928",
   "metadata": {},
   "outputs": [],
   "source": [
    "df = df.loc[:, ~df.columns.duplicated()]"
   ]
  },
  {
   "cell_type": "code",
   "execution_count": 761,
   "id": "6bbda7ca",
   "metadata": {},
   "outputs": [
    {
     "data": {
      "text/plain": [
       "(351, 240)"
      ]
     },
     "execution_count": 761,
     "metadata": {},
     "output_type": "execute_result"
    }
   ],
   "source": [
    "df.shape"
   ]
  },
  {
   "cell_type": "code",
   "execution_count": 762,
   "id": "6a29e917",
   "metadata": {},
   "outputs": [
    {
     "data": {
      "text/html": [
       "<div>\n",
       "<style scoped>\n",
       "    .dataframe tbody tr th:only-of-type {\n",
       "        vertical-align: middle;\n",
       "    }\n",
       "\n",
       "    .dataframe tbody tr th {\n",
       "        vertical-align: top;\n",
       "    }\n",
       "\n",
       "    .dataframe thead th {\n",
       "        text-align: right;\n",
       "    }\n",
       "</style>\n",
       "<table border=\"1\" class=\"dataframe\">\n",
       "  <thead>\n",
       "    <tr style=\"text-align: right;\">\n",
       "      <th></th>\n",
       "      <th>M1.1</th>\n",
       "      <th>M1.2</th>\n",
       "      <th>M1.3</th>\n",
       "      <th>M1.4</th>\n",
       "      <th>M1.5</th>\n",
       "      <th>M1.6</th>\n",
       "      <th>M1.7</th>\n",
       "      <th>M1.8</th>\n",
       "      <th>M1.9</th>\n",
       "      <th>M1.10</th>\n",
       "      <th>...</th>\n",
       "      <th>M24.9</th>\n",
       "      <th>M24.10</th>\n",
       "      <th>M24.1</th>\n",
       "      <th>M24.2</th>\n",
       "      <th>M24.3</th>\n",
       "      <th>M24.4</th>\n",
       "      <th>M24.5</th>\n",
       "      <th>M24.6</th>\n",
       "      <th>M24.7</th>\n",
       "      <th>M24.8</th>\n",
       "    </tr>\n",
       "  </thead>\n",
       "  <tbody>\n",
       "    <tr>\n",
       "      <th>0</th>\n",
       "      <td>4</td>\n",
       "      <td>4</td>\n",
       "      <td>3</td>\n",
       "      <td>4</td>\n",
       "      <td>4</td>\n",
       "      <td>4</td>\n",
       "      <td>4</td>\n",
       "      <td>4</td>\n",
       "      <td>4</td>\n",
       "      <td>3</td>\n",
       "      <td>...</td>\n",
       "      <td>4</td>\n",
       "      <td>4</td>\n",
       "      <td>4</td>\n",
       "      <td>4</td>\n",
       "      <td>4</td>\n",
       "      <td>4</td>\n",
       "      <td>4</td>\n",
       "      <td>4</td>\n",
       "      <td>4</td>\n",
       "      <td>3</td>\n",
       "    </tr>\n",
       "    <tr>\n",
       "      <th>1</th>\n",
       "      <td>4</td>\n",
       "      <td>4</td>\n",
       "      <td>4</td>\n",
       "      <td>4</td>\n",
       "      <td>4</td>\n",
       "      <td>4</td>\n",
       "      <td>4</td>\n",
       "      <td>4</td>\n",
       "      <td>4</td>\n",
       "      <td>4</td>\n",
       "      <td>...</td>\n",
       "      <td>4</td>\n",
       "      <td>4</td>\n",
       "      <td>4</td>\n",
       "      <td>4</td>\n",
       "      <td>4</td>\n",
       "      <td>4</td>\n",
       "      <td>4</td>\n",
       "      <td>4</td>\n",
       "      <td>4</td>\n",
       "      <td>4</td>\n",
       "    </tr>\n",
       "    <tr>\n",
       "      <th>2</th>\n",
       "      <td>3</td>\n",
       "      <td>5</td>\n",
       "      <td>5</td>\n",
       "      <td>4</td>\n",
       "      <td>4</td>\n",
       "      <td>2</td>\n",
       "      <td>2</td>\n",
       "      <td>3</td>\n",
       "      <td>3</td>\n",
       "      <td>4</td>\n",
       "      <td>...</td>\n",
       "      <td>4</td>\n",
       "      <td>5</td>\n",
       "      <td>5</td>\n",
       "      <td>5</td>\n",
       "      <td>5</td>\n",
       "      <td>4</td>\n",
       "      <td>2</td>\n",
       "      <td>5</td>\n",
       "      <td>4</td>\n",
       "      <td>4</td>\n",
       "    </tr>\n",
       "    <tr>\n",
       "      <th>3</th>\n",
       "      <td>4</td>\n",
       "      <td>2</td>\n",
       "      <td>4</td>\n",
       "      <td>4</td>\n",
       "      <td>4</td>\n",
       "      <td>4</td>\n",
       "      <td>4</td>\n",
       "      <td>5</td>\n",
       "      <td>5</td>\n",
       "      <td>4</td>\n",
       "      <td>...</td>\n",
       "      <td>2</td>\n",
       "      <td>2</td>\n",
       "      <td>2</td>\n",
       "      <td>2</td>\n",
       "      <td>2</td>\n",
       "      <td>4</td>\n",
       "      <td>4</td>\n",
       "      <td>4</td>\n",
       "      <td>4</td>\n",
       "      <td>4</td>\n",
       "    </tr>\n",
       "    <tr>\n",
       "      <th>4</th>\n",
       "      <td>3</td>\n",
       "      <td>4</td>\n",
       "      <td>4</td>\n",
       "      <td>4</td>\n",
       "      <td>4</td>\n",
       "      <td>4</td>\n",
       "      <td>4</td>\n",
       "      <td>5</td>\n",
       "      <td>5</td>\n",
       "      <td>3</td>\n",
       "      <td>...</td>\n",
       "      <td>4</td>\n",
       "      <td>3</td>\n",
       "      <td>3</td>\n",
       "      <td>5</td>\n",
       "      <td>5</td>\n",
       "      <td>5</td>\n",
       "      <td>5</td>\n",
       "      <td>4</td>\n",
       "      <td>5</td>\n",
       "      <td>5</td>\n",
       "    </tr>\n",
       "  </tbody>\n",
       "</table>\n",
       "<p>5 rows × 240 columns</p>\n",
       "</div>"
      ],
      "text/plain": [
       "   M1.1  M1.2  M1.3  M1.4  M1.5  M1.6  M1.7  M1.8  M1.9  M1.10  ...  M24.9  \\\n",
       "0     4     4     3     4     4     4     4     4     4      3  ...      4   \n",
       "1     4     4     4     4     4     4     4     4     4      4  ...      4   \n",
       "2     3     5     5     4     4     2     2     3     3      4  ...      4   \n",
       "3     4     2     4     4     4     4     4     5     5      4  ...      2   \n",
       "4     3     4     4     4     4     4     4     5     5      3  ...      4   \n",
       "\n",
       "   M24.10  M24.1  M24.2  M24.3  M24.4  M24.5  M24.6  M24.7  M24.8  \n",
       "0       4      4      4      4      4      4      4      4      3  \n",
       "1       4      4      4      4      4      4      4      4      4  \n",
       "2       5      5      5      5      4      2      5      4      4  \n",
       "3       2      2      2      2      4      4      4      4      4  \n",
       "4       3      3      5      5      5      5      4      5      5  \n",
       "\n",
       "[5 rows x 240 columns]"
      ]
     },
     "execution_count": 762,
     "metadata": {},
     "output_type": "execute_result"
    }
   ],
   "source": [
    "df.head()"
   ]
  },
  {
   "cell_type": "code",
   "execution_count": 763,
   "id": "75587307",
   "metadata": {},
   "outputs": [],
   "source": [
    "# Renomear colunas usando um dicionário de mapeamento\n",
    "mapeamento_colunas = {'M2.11':'M2.9', 'M2.12':'M2.10'}\n",
    "df= df.rename(columns=mapeamento_colunas)"
   ]
  },
  {
   "cell_type": "code",
   "execution_count": 764,
   "id": "886b3b07",
   "metadata": {},
   "outputs": [
    {
     "name": "stdout",
     "output_type": "stream",
     "text": [
      "['M1.1', 'M1.2', 'M1.3', 'M1.4', 'M1.5', 'M1.6', 'M1.7', 'M1.8', 'M1.9', 'M1.10', 'M2.1', 'M2.2', 'M2.3', 'M2.4', 'M2.5', 'M2.6', 'M2.7', 'M2.8', 'M2.9', 'M2.10', 'M3.1', 'M3.2', 'M3.3', 'M3.4', 'M3.5', 'M3.6', 'M3.7', 'M3.8', 'M3.9', 'M3.10', 'M4.1', 'M4.2', 'M4.3', 'M4.4', 'M4.5', 'M4.6', 'M4.7', 'M4.8', 'M4.9', 'M4.10', 'M5.1', 'M5.2', 'M5.3', 'M5.4', 'M5.5', 'M5.6', 'M5.7', 'M5.8', 'M5.9', 'M5.10', 'M6.1', 'M6.2', 'M6.3', 'M6.4', 'M6.5', 'M6.6', 'M6.7', 'M6.8', 'M6.9', 'M6.10', 'M7.1', 'M7.2', 'M7.3', 'M7.4', 'M7.5', 'M7.6', 'M7.7', 'M7.8', 'M7.9', 'M7.10', 'M8.1', 'M8.2', 'M8.3', 'M8.4', 'M8.5', 'M8.6', 'M8.7', 'M8.8', 'M8.9', 'M8.10', 'M9.1', 'M9.2', 'M9.3', 'M9.4', 'M9.5', 'M9.6', 'M9.7', 'M9.8', 'M9.9', 'M9.10', 'M10.1', 'M10.2', 'M10.3', 'M10.4', 'M10.5', 'M10.6', 'M10.7', 'M10.8', 'M10.9', 'M10.10', 'M11.1', 'M11.2', 'M11.3', 'M11.4', 'M11.5', 'M11.6', 'M11.7', 'M11.8', 'M11.9', 'M11.10', 'M12.1', 'M12.2', 'M12.3', 'M12.4', 'M12.5', 'M12.6', 'M12.7', 'M12.8', 'M12.9', 'M12.10', 'M13.1', 'M13.2', 'M13.3', 'M13.4', 'M13.5', 'M13.6', 'M13.7', 'M13.8', 'M13.9', 'M13.10', 'M14.1', 'M14.2', 'M14.3', 'M14.4', 'M14.5', 'M14.6', 'M14.7', 'M14.8', 'M14.9', 'M14.10', 'M15.1', 'M15.2', 'M15.3', 'M15.4', 'M15.5', 'M15.6', 'M15.7', 'M15.8', 'M15.9', 'M15.10', 'M16.1', 'M16.2', 'M16.3', 'M16.4', 'M16.5', 'M16.6', 'M16.7', 'M16.8', 'M16.9', 'M16.10', 'M17.1', 'M17.2', 'M17.3', 'M17.4', 'M17.5', 'M17.6', 'M17.7', 'M17.8', 'M17.9', 'M17.10', 'M18.1', 'M18.2', 'M18.3', 'M18.4', 'M18.5', 'M18.6', 'M18.7', 'M18.8', 'M18.9', 'M18.10', 'M19.1', 'M19.2', 'M19.3', 'M19.4', 'M19.5', 'M19.6', 'M19.7', 'M19.8', 'M19.9', 'M19.10', 'M20.1', 'M20.2', 'M20.3', 'M20.4', 'M20.5', 'M20.6', 'M20.7', 'M20.8', 'M20.9', 'M20.10', 'M21.1', 'M21.2', 'M21.3', 'M21.4', 'M21.5', 'M21.6', 'M21.7', 'M21.8', 'M21.9', 'M21.10', 'M22.1', 'M22.2', 'M22.3', 'M22.4', 'M22.5', 'M22.6', 'M22.7', 'M22.8', 'M22.9', 'M22.10', 'M23.1', 'M23.2', 'M23.3', 'M23.4', 'M23.5', 'M23.6', 'M23.7', 'M23.8', 'M23.9', 'M23.10', 'M24.1', 'M24.2', 'M24.3', 'M24.4', 'M24.5', 'M24.6', 'M24.7', 'M24.8', 'M24.9', 'M24.10']\n"
     ]
    }
   ],
   "source": [
    "# Criar uma lista vazia para armazenar os nomes das colunas\n",
    "nomes_colunas = []\n",
    "\n",
    "# Loop sobre os números de estratégia (de 1 a 24)\n",
    "for estrategia in range(1, 25):\n",
    "    # Loop sobre os números de indicador (de 1 a 10)\n",
    "    for indicador in range(1, 11):\n",
    "        # Gerar o nome da coluna no formato 'Mx.y', onde x é a estratégia e y é o indicador\n",
    "        nome_coluna = f'M{estrategia}.{indicador}'\n",
    "        # Adicionar o nome da coluna à lista de nomes de colunas\n",
    "        nomes_colunas.append(nome_coluna)\n",
    "\n",
    "# Exibir os nomes das colunas gerados\n",
    "print(nomes_colunas)"
   ]
  },
  {
   "cell_type": "code",
   "execution_count": 765,
   "id": "50cdaa18",
   "metadata": {},
   "outputs": [],
   "source": [
    "# Criar um novo DataFrame com colunas reorganizadas\n",
    "df = df[nomes_colunas]"
   ]
  },
  {
   "cell_type": "code",
   "execution_count": 766,
   "id": "244f0cc8",
   "metadata": {},
   "outputs": [
    {
     "data": {
      "text/plain": [
       "pandas.core.frame.DataFrame"
      ]
     },
     "execution_count": 766,
     "metadata": {},
     "output_type": "execute_result"
    }
   ],
   "source": [
    "type(df)"
   ]
  },
  {
   "cell_type": "code",
   "execution_count": 767,
   "id": "bbf8adcf",
   "metadata": {},
   "outputs": [
    {
     "name": "stdout",
     "output_type": "stream",
     "text": [
      "<class 'pandas.core.frame.DataFrame'>\n",
      "Int64Index: 351 entries, 0 to 351\n",
      "Columns: 240 entries, M1.1 to M24.10\n",
      "dtypes: float64(10), int64(230)\n",
      "memory usage: 660.9 KB\n"
     ]
    }
   ],
   "source": [
    "df.info()"
   ]
  },
  {
   "cell_type": "code",
   "execution_count": 768,
   "id": "bf541fe2",
   "metadata": {},
   "outputs": [
    {
     "data": {
      "text/plain": [
       "M1.1      0\n",
       "M1.2      0\n",
       "M1.3      0\n",
       "M1.4      0\n",
       "M1.5      0\n",
       "         ..\n",
       "M24.6     0\n",
       "M24.7     0\n",
       "M24.8     0\n",
       "M24.9     0\n",
       "M24.10    0\n",
       "Length: 240, dtype: int64"
      ]
     },
     "execution_count": 768,
     "metadata": {},
     "output_type": "execute_result"
    }
   ],
   "source": [
    "df.isna().sum()"
   ]
  },
  {
   "cell_type": "code",
   "execution_count": 769,
   "id": "5a4fe68c",
   "metadata": {},
   "outputs": [],
   "source": [
    "# Calcular e preencher os valores nulos com as modas de cada coluna\n",
    "for coluna in df.columns:\n",
    "    moda_coluna = df[coluna].mode()[0]  # Calcula a moda da coluna\n",
    "    df[coluna].fillna(moda_coluna, inplace=True)  # Preenche os valores nulos com a moda da coluna"
   ]
  },
  {
   "cell_type": "code",
   "execution_count": 770,
   "id": "e7fc58a4",
   "metadata": {},
   "outputs": [],
   "source": [
    "df.to_csv('QuestoesTratadas_final.csv', index= False)"
   ]
  },
  {
   "cell_type": "code",
   "execution_count": 772,
   "id": "380c8bd7",
   "metadata": {},
   "outputs": [],
   "source": [
    "df_final.to_csv('BaseTratada_final.csv', index = False)"
   ]
  },
  {
   "cell_type": "markdown",
   "id": "6abba8bf",
   "metadata": {},
   "source": [
    "# Salvando as bases no pc"
   ]
  },
  {
   "cell_type": "code",
   "execution_count": 773,
   "id": "375b0aea",
   "metadata": {},
   "outputs": [],
   "source": [
    "df.to_csv('C:/Users/danye/Desktop/UFPE/IC/Proposta_2023_2024/Questionario/QuestoesTratadas_final.csv', index= False)"
   ]
  },
  {
   "cell_type": "code",
   "execution_count": 777,
   "id": "051e9e13",
   "metadata": {},
   "outputs": [],
   "source": [
    "df_final.to_csv('C:/Users/danye/Desktop/UFPE/IC/Proposta_2023_2024/Questionario/BaseTratada_final.csv', encoding='utf-8', index= False)"
   ]
  },
  {
   "cell_type": "code",
   "execution_count": null,
   "id": "5e6bb14b",
   "metadata": {},
   "outputs": [],
   "source": []
  }
 ],
 "metadata": {
  "kernelspec": {
   "display_name": "ProjetoIC",
   "language": "python",
   "name": "projetoic"
  },
  "language_info": {
   "codemirror_mode": {
    "name": "ipython",
    "version": 3
   },
   "file_extension": ".py",
   "mimetype": "text/x-python",
   "name": "python",
   "nbconvert_exporter": "python",
   "pygments_lexer": "ipython3",
   "version": "3.9.7"
  }
 },
 "nbformat": 4,
 "nbformat_minor": 5
}
